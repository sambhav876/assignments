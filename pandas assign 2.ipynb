{
 "cells": [
  {
   "cell_type": "code",
   "execution_count": 1,
   "id": "d4a482ab-2980-4010-9931-f5b5687f67c5",
   "metadata": {},
   "outputs": [],
   "source": [
    "import pandas as pd\n"
   ]
  },
  {
   "cell_type": "code",
   "execution_count": 3,
   "id": "7a54950d-21f5-45a8-81a2-1b8df2946b37",
   "metadata": {},
   "outputs": [
    {
     "name": "stdout",
     "output_type": "stream",
     "text": [
      "Requirement already satisfied: pandas in /opt/conda/lib/python3.10/site-packages (1.5.2)\n",
      "Requirement already satisfied: python-dateutil>=2.8.1 in /opt/conda/lib/python3.10/site-packages (from pandas) (2.8.2)\n",
      "Requirement already satisfied: pytz>=2020.1 in /opt/conda/lib/python3.10/site-packages (from pandas) (2022.6)\n",
      "Requirement already satisfied: numpy>=1.21.0 in /opt/conda/lib/python3.10/site-packages (from pandas) (1.23.5)\n",
      "Requirement already satisfied: six>=1.5 in /opt/conda/lib/python3.10/site-packages (from python-dateutil>=2.8.1->pandas) (1.16.0)\n",
      "Note: you may need to restart the kernel to use updated packages.\n"
     ]
    }
   ],
   "source": [
    "pip install pandas"
   ]
  },
  {
   "cell_type": "code",
   "execution_count": null,
   "id": "03b99c5b-8753-4dcd-97ac-fc2d84584510",
   "metadata": {},
   "outputs": [],
   "source": [
    "#question 1\n",
    "\n",
    "#pd.DataFrame() , pd.read_csv() , df.loc[] , df.iloc[] , df.groupby() , df.dropna()."
   ]
  },
  {
   "cell_type": "code",
   "execution_count": 8,
   "id": "a9695d7c-c87d-4956-be47-b6c539e5e6ec",
   "metadata": {},
   "outputs": [],
   "source": [
    "#question 2\n",
    "\n",
    "def reindex_with_custom_increment(df):\n",
    "    new_index = range(1 ,2 * len(df) + 1,2)\n",
    "    \n",
    "    df_reindex = df.set_index(pd.Index(new_index))\n",
    "    \n",
    "    return df_reindexed"
   ]
  },
  {
   "cell_type": "code",
   "execution_count": null,
   "id": "28304f3c-0988-4ffb-936c-227958962a23",
   "metadata": {},
   "outputs": [],
   "source": [
    "data = {'A': [10, 20, 30],\n",
    "        'B': [40, 50, 60],\n",
    "        'C': [70, 80, 90]}\n",
    "\n",
    "df = pd.DataFrame(data)\n",
    "\n",
    "df_reindexed = reindex_with_custom_increment(df)\n",
    "print(df_reindexed)"
   ]
  },
  {
   "cell_type": "code",
   "execution_count": 9,
   "id": "027b6f37-e0a7-4da9-be85-b868a1326011",
   "metadata": {},
   "outputs": [
    {
     "name": "stdout",
     "output_type": "stream",
     "text": [
      "Sum of the first three values in the 'Values' column: 60\n"
     ]
    }
   ],
   "source": [
    "#question 3\n",
    "\n",
    "import pandas as pd\n",
    "\n",
    "def calculate_sum_of_first_three(df):\n",
    "    # Ensure the 'Values' column exists in the DataFrame\n",
    "    if 'Values' not in df.columns:\n",
    "        print(\"Error: 'Values' column not found in the DataFrame.\")\n",
    "        return\n",
    "    \n",
    "    # Select the first three values in the 'Values' column\n",
    "    first_three_values = df['Values'].iloc[:3]\n",
    "    \n",
    "    # Calculate and print the sum\n",
    "    sum_of_first_three = first_three_values.sum()\n",
    "    print(f\"Sum of the first three values in the 'Values' column: {sum_of_first_three}\")\n",
    "\n",
    "# Example usage:\n",
    "# Assuming df is your DataFrame with a 'Values' column\n",
    "data = {'Values': [10, 20, 30, 40, 50]}\n",
    "\n",
    "df = pd.DataFrame(data)\n",
    "\n",
    "# Call the function to calculate and print the sum of the first three values\n",
    "calculate_sum_of_first_three(df)"
   ]
  },
  {
   "cell_type": "code",
   "execution_count": 10,
   "id": "a038f4f5-31a0-42ba-991c-a76b1347e53c",
   "metadata": {},
   "outputs": [
    {
     "name": "stdout",
     "output_type": "stream",
     "text": [
      "                         Text  Word_Count\n",
      "0  This is a sample sentence.           5\n",
      "1       Count the words here.           4\n",
      "2            Another example.           2\n"
     ]
    }
   ],
   "source": [
    "#question 4\n",
    "\n",
    "import pandas as pd\n",
    "\n",
    "def add_word_count_column(df):\n",
    "    # Ensure the 'Text' column exists in the DataFrame\n",
    "    if 'Text' not in df.columns:\n",
    "        print(\"Error: 'Text' column not found in the DataFrame.\")\n",
    "        return\n",
    "    \n",
    "    # Function to count words in a text\n",
    "    def count_words(text):\n",
    "        # Split the text into words and return the count\n",
    "        return len(str(text).split())\n",
    "\n",
    "    # Apply the count_words function to each row in the 'Text' column\n",
    "    df['Word_Count'] = df['Text'].apply(count_words)\n",
    "\n",
    "    return df\n",
    "\n",
    "# Example usage:\n",
    "# Assuming df is your DataFrame with a 'Text' column\n",
    "data = {'Text': [\"This is a sample sentence.\", \"Count the words here.\", \"Another example.\"]}\n",
    "\n",
    "df = pd.DataFrame(data)\n",
    "\n",
    "# Call the function to add the 'Word_Count' column\n",
    "df_with_word_count = add_word_count_column(df)\n",
    "\n",
    "# Display the DataFrame with the new 'Word_Count' column\n",
    "print(df_with_word_count)"
   ]
  },
  {
   "cell_type": "code",
   "execution_count": null,
   "id": "961c56e7-8298-4a61-b0fc-c28f31db2b40",
   "metadata": {},
   "outputs": [],
   "source": [
    "#question 5 \n",
    "\n",
    "#the DataFrame.size attribute returns the total number of elements in the DataFrame.\n",
    "#The DataFrame.shape attribute returns a tuple representing the dimensions of the DataFrame."
   ]
  },
  {
   "cell_type": "code",
   "execution_count": null,
   "id": "a8f6c01e-5108-4b53-8faf-ff39d3b931a5",
   "metadata": {},
   "outputs": [],
   "source": [
    "#question 6\n",
    "\n",
    "#In pandas, you can use the pd.read_excel() function to read data from an Excel file. "
   ]
  },
  {
   "cell_type": "code",
   "execution_count": 12,
   "id": "09ccfd3c-59af-4a87-98ca-d04735d4dcd9",
   "metadata": {},
   "outputs": [
    {
     "name": "stdout",
     "output_type": "stream",
     "text": [
      "                  Email  Username\n",
      "0  john.doe@example.com  john.doe\n",
      "1      user2@domain.com     user2\n",
      "2     user3@company.com     user3\n"
     ]
    }
   ],
   "source": [
    "#question 7 \n",
    "\n",
    "import pandas as pd\n",
    "\n",
    "def extract_username_from_email(df):\n",
    "    # Ensure the 'Email' column exists in the DataFrame\n",
    "    if 'Email' not in df.columns:\n",
    "        print(\"Error: 'Email' column not found in the DataFrame.\")\n",
    "        return\n",
    "    \n",
    "    # Extract username from email addresses and create a new 'Username' column\n",
    "    df['Username'] = df['Email'].str.split('@').str[0]\n",
    "    \n",
    "    return df\n",
    "\n",
    "# Example usage:\n",
    "# Assuming df is your DataFrame with an 'Email' column\n",
    "data = {'Email': ['john.doe@example.com', 'user2@domain.com', 'user3@company.com']}\n",
    "df = pd.DataFrame(data)\n",
    "\n",
    "# Call the function to add the 'Username' column\n",
    "df_with_username = extract_username_from_email(df)\n",
    "\n",
    "# Display the DataFrame with the new 'Username' column\n",
    "print(df_with_username)"
   ]
  },
  {
   "cell_type": "code",
   "execution_count": 14,
   "id": "488d394d-ea82-4467-a3a2-4f820b9ad3a1",
   "metadata": {},
   "outputs": [
    {
     "name": "stdout",
     "output_type": "stream",
     "text": [
      "   A  B   C\n",
      "1  7  5  15\n"
     ]
    }
   ],
   "source": [
    "#question 8\n",
    "\n",
    "import pandas as pd\n",
    "\n",
    "def filter_dataframe(df):\n",
    "    # Ensure columns 'A' and 'B' exist in the DataFrame\n",
    "    if 'A' not in df.columns or 'B' not in df.columns:\n",
    "        print(\"Error: Columns 'A' and 'B' must exist in the DataFrame.\")\n",
    "        return\n",
    "    \n",
    "    # Use boolean indexing to filter rows based on conditions in columns 'A' and 'B'\n",
    "    selected_rows = df[(df['A'] > 5) & (df['B'] < 10)]\n",
    "    \n",
    "    return selected_rows\n",
    "\n",
    "# Example usage:\n",
    "# Assuming df is your DataFrame with columns 'A', 'B', and 'C'\n",
    "data = {'A': [3, 7, 4, 9],\n",
    "        'B': [8, 5, 2, 12],\n",
    "        'C': [10, 15, 20, 25]}\n",
    "\n",
    "df = pd.DataFrame(data)\n",
    "\n",
    "# Call the function to filter rows based on conditions in columns 'A' and 'B'\n",
    "selected_rows_df = filter_dataframe(df)\n",
    "\n",
    "print(selected_rows_df)\n"
   ]
  },
  {
   "cell_type": "code",
   "execution_count": 15,
   "id": "0d1faa9e-0069-4a62-8751-d8e56385b878",
   "metadata": {},
   "outputs": [
    {
     "name": "stdout",
     "output_type": "stream",
     "text": [
      "Mean: 30.0\n",
      "Median: 30.0\n",
      "Standard Deviation: 15.811388300841896\n"
     ]
    }
   ],
   "source": [
    "# question 9\n",
    "\n",
    "import pandas as pd\n",
    "\n",
    "def calculate_stats(df):\n",
    "    # Ensure the 'Values' column exists in the DataFrame\n",
    "    if 'Values' not in df.columns:\n",
    "        print(\"Error: 'Values' column not found in the DataFrame.\")\n",
    "        return\n",
    "\n",
    "    # Calculate mean, median, and standard deviation of the 'Values' column\n",
    "    mean_value = df['Values'].mean()\n",
    "    median_value = df['Values'].median()\n",
    "    std_deviation = df['Values'].std()\n",
    "\n",
    "    # Display the results\n",
    "    print(f\"Mean: {mean_value}\")\n",
    "    print(f\"Median: {median_value}\")\n",
    "    print(f\"Standard Deviation: {std_deviation}\")\n",
    "\n",
    "# Example usage:\n",
    "# Assuming df is your DataFrame with a 'Values' column\n",
    "data = {'Values': [10, 20, 30, 40, 50]}\n",
    "\n",
    "df = pd.DataFrame(data)\n",
    "\n",
    "# Call the function to calculate and print mean, median, and standard deviation\n",
    "calculate_stats(df)"
   ]
  },
  {
   "cell_type": "code",
   "execution_count": 16,
   "id": "1ea010e2-6e1d-4be1-a576-3f93e9491a9c",
   "metadata": {},
   "outputs": [
    {
     "name": "stdout",
     "output_type": "stream",
     "text": [
      "   Sales       Date  MovingAverage\n",
      "0     10 2022-01-01           10.0\n",
      "1     20 2022-01-02           15.0\n",
      "2     30 2022-01-03           20.0\n",
      "3     40 2022-01-04           25.0\n",
      "4     50 2022-01-05           30.0\n",
      "5     60 2022-01-06           35.0\n",
      "6     70 2022-01-07           40.0\n",
      "7     80 2022-01-08           50.0\n"
     ]
    }
   ],
   "source": [
    "# question 10\n",
    "\n",
    "import pandas as pd\n",
    "\n",
    "def calculate_moving_average(df):\n",
    "    # Ensure the 'Sales' and 'Date' columns exist in the DataFrame\n",
    "    if 'Sales' not in df.columns or 'Date' not in df.columns:\n",
    "        print(\"Error: 'Sales' and 'Date' columns must exist in the DataFrame.\")\n",
    "        return\n",
    "    \n",
    "    # Convert the 'Date' column to datetime if it's not already\n",
    "    df['Date'] = pd.to_datetime(df['Date'])\n",
    "\n",
    "    # Sort the DataFrame by 'Date' to ensure the rolling window calculation is correct\n",
    "    df = df.sort_values(by='Date')\n",
    "\n",
    "    # Calculate the moving average with a window of size 7\n",
    "    df['MovingAverage'] = df['Sales'].rolling(window=7, min_periods=1).mean()\n",
    "    \n",
    "    return df\n",
    "\n",
    "# Example usage:\n",
    "# Assuming df is your DataFrame with 'Sales' and 'Date' columns\n",
    "data = {'Sales': [10, 20, 30, 40, 50, 60, 70, 80],\n",
    "        'Date': ['2022-01-01', '2022-01-02', '2022-01-03', '2022-01-04', '2022-01-05', '2022-01-06', '2022-01-07', '2022-01-08']}\n",
    "\n",
    "df = pd.DataFrame(data)\n",
    "\n",
    "# Call the function to add the 'MovingAverage' column\n",
    "df_with_moving_average = calculate_moving_average(df)\n",
    "\n",
    "# Display the DataFrame with the new 'MovingAverage' column\n",
    "print(df_with_moving_average)\n"
   ]
  },
  {
   "cell_type": "code",
   "execution_count": 17,
   "id": "9e2c633e-5e17-4eb4-b6e8-d01229fed226",
   "metadata": {},
   "outputs": [
    {
     "name": "stdout",
     "output_type": "stream",
     "text": [
      "        Date    Weekday\n",
      "0 2023-01-01     Sunday\n",
      "1 2023-01-02     Monday\n",
      "2 2023-01-03    Tuesday\n",
      "3 2023-01-04  Wednesday\n",
      "4 2023-01-05   Thursday\n"
     ]
    }
   ],
   "source": [
    "#question 11\n",
    "\n",
    "import pandas as pd\n",
    "\n",
    "def add_weekday_column(df):\n",
    "    # Ensure the 'Date' column exists in the DataFrame\n",
    "    if 'Date' not in df.columns:\n",
    "        print(\"Error: 'Date' column not found in the DataFrame.\")\n",
    "        return\n",
    "    \n",
    "    # Convert the 'Date' column to datetime if it's not already\n",
    "    df['Date'] = pd.to_datetime(df['Date'])\n",
    "    \n",
    "    # Add a new 'Weekday' column containing the weekday name\n",
    "    df['Weekday'] = df['Date'].dt.day_name()\n",
    "    \n",
    "    return df\n",
    "\n",
    "# Example usage:\n",
    "# Assuming df is your DataFrame with a 'Date' column\n",
    "data = {'Date': ['2023-01-01', '2023-01-02', '2023-01-03', '2023-01-04', '2023-01-05']}\n",
    "\n",
    "df = pd.DataFrame(data)\n",
    "\n",
    "# Call the function to add the 'Weekday' column\n",
    "df_with_weekday = add_weekday_column(df)\n",
    "\n",
    "# Display the DataFrame with the new 'Weekday' column\n",
    "print(df_with_weekday)\n"
   ]
  },
  {
   "cell_type": "code",
   "execution_count": null,
   "id": "1ae603e5-d243-4ba3-90be-73fa2928464e",
   "metadata": {},
   "outputs": [],
   "source": [
    "#question 12"
   ]
  }
 ],
 "metadata": {
  "kernelspec": {
   "display_name": "Python 3 (ipykernel)",
   "language": "python",
   "name": "python3"
  },
  "language_info": {
   "codemirror_mode": {
    "name": "ipython",
    "version": 3
   },
   "file_extension": ".py",
   "mimetype": "text/x-python",
   "name": "python",
   "nbconvert_exporter": "python",
   "pygments_lexer": "ipython3",
   "version": "3.10.8"
  }
 },
 "nbformat": 4,
 "nbformat_minor": 5
}
