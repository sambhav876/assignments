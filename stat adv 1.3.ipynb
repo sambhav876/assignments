{
 "cells": [
  {
   "cell_type": "code",
   "execution_count": null,
   "id": "41299dfc-6b31-4ede-ad83-cde0d4c29d16",
   "metadata": {},
   "outputs": [],
   "source": [
    "#question 1\n",
    "\n",
    "#Estimation in statistics involves the process of using sample data to make inferences about population parameters.\n",
    "#A point estimate is a single value that is used to approximate a population parameter. It is based on sample data and provides a \"best guess\" for the true value of the parameter.\n",
    "#An interval estimate, also known as a confidence interval, provides a range of values within which the true population parameter is likely to lie. It accounts for the uncertainty inherent in estimation."
   ]
  },
  {
   "cell_type": "code",
   "execution_count": 1,
   "id": "54464dc8-2b15-48da-b703-603f5dc3897b",
   "metadata": {},
   "outputs": [],
   "source": [
    "#question 2\n",
    "\n",
    "import scipy.stats as stats\n",
    "import math\n",
    "\n",
    "def estimate_population_mean(sample_mean, sample_std_dev, sample_size, confidence_level=0.95):\n",
    "    \"\"\"\n",
    "    Function to estimate the population mean using a sample mean and standard deviation.\n",
    "\n",
    "    Parameters:\n",
    "    - sample_mean: The mean of the sample.\n",
    "    - sample_std_dev: The standard deviation of the sample.\n",
    "    - sample_size: The size of the sample.\n",
    "    - confidence_level: The desired confidence level for the estimate (default is 0.95).\n",
    "\n",
    "    Returns:\n",
    "    - confidence_interval: A tuple representing the confidence interval for the population mean.\n",
    "    \"\"\"\n",
    "\n",
    "    # Calculate the standard error of the mean\n",
    "    standard_error = sample_std_dev / math.sqrt(sample_size)\n",
    "\n",
    "    # Calculate the degrees of freedom for the t-distribution\n",
    "    degrees_of_freedom = sample_size - 1\n",
    "\n",
    "    # Find the t-value for the given confidence level and degrees of freedom\n"
   ]
  },
  {
   "cell_type": "code",
   "execution_count": null,
   "id": "aee8bcd6-5a5c-4ae1-8766-213eec858d31",
   "metadata": {},
   "outputs": [],
   "source": [
    "#question 3\n",
    "\n",
    "#Hypothesis testing is a statistical method used to make inferences about population parameters based on sample data. It involves formulating a hypothesis about the population parameter, collecting data, and using statistical techniques to assess the evidence against the null hypothesis\n",
    "#industries use hypothesis testing to ensure product quality and process consistency. For example, testing whether a manufacturing process produces items within specified tolerances.\n",
    "#Hypothesis testing provides a systematic and objective approach to decision-making based on statistical evidence."
   ]
  },
  {
   "cell_type": "code",
   "execution_count": 2,
   "id": "ae2ac247-8e5f-49d1-a76f-6e0b35eb2326",
   "metadata": {},
   "outputs": [
    {
     "name": "stdout",
     "output_type": "stream",
     "text": [
      "Test Result:\n",
      "-------------\n",
      "T-statistic: -3.807334719447184\n",
      "P-value: 0.00034110974158333877\n",
      "Degrees of Freedom: 58\n",
      "Reject Null Hypothesis: True\n",
      "Alternative Hypothesis: two-sided\n",
      "Significance Level (alpha): 0.05\n"
     ]
    }
   ],
   "source": [
    "#question 5\n",
    "\n",
    "import numpy as np\n",
    "from scipy import stats\n",
    "\n",
    "def two_sample_t_test(sample1, sample2, alpha=0.05, alternative='two-sided'):\n",
    "    \"\"\"\n",
    "    Perform a two-sample t-test for the difference between means.\n",
    "\n",
    "    Parameters:\n",
    "    - sample1: First sample data.\n",
    "    - sample2: Second sample data.\n",
    "    - alpha: Significance level (default is 0.05).\n",
    "    - alternative: Specify the alternative hypothesis ('two-sided', 'greater', or 'less').\n",
    "\n",
    "    Returns:\n",
    "    - result: A dictionary containing the test result.\n",
    "    \"\"\"\n",
    "\n",
    "    # Perform two-sample t-test\n",
    "    t_stat, p_value = stats.ttest_ind(sample1, sample2)\n",
    "\n",
    "    # Degrees of freedom\n",
    "    df = len(sample1) + len(sample2) - 2\n",
    "\n",
    "    # Calculate critical value for two-sided or one-sided test\n",
    "    if alternative == 'two-sided':\n",
    "        critical_value = stats.t.ppf(1 - alpha / 2, df)\n",
    "    elif alternative == 'greater':\n",
    "        critical_value = stats.t.ppf(1 - alpha, df)\n",
    "    elif alternative == 'less':\n",
    "        critical_value = stats.t.ppf(alpha, df)\n",
    "    else:\n",
    "        raise ValueError(\"Invalid alternative hypothesis. Choose 'two-sided', 'greater', or 'less'.\")\n",
    "\n",
    "    # Determine if the null hypothesis should be rejected\n",
    "    reject_null = np.abs(t_stat) > critical_value\n",
    "\n",
    "    # Result dictionary\n",
    "    result = {\n",
    "        't_statistic': t_stat,\n",
    "        'p_value': p_value,\n",
    "        'degrees_of_freedom': df,\n",
    "        'reject_null': reject_null,\n",
    "        'alternative': alternative,\n",
    "        'alpha': alpha\n",
    "    }\n",
    "\n",
    "    return result\n",
    "\n",
    "# Example usage:\n",
    "# Replace sample1 and sample2 with your actual data\n",
    "sample1 = np.random.normal(10, 2, 30)\n",
    "sample2 = np.random.normal(12, 2, 30)\n",
    "\n",
    "result = two_sample_t_test(sample1, sample2, alpha=0.05, alternative='two-sided')\n",
    "\n",
    "# Print the result\n",
    "print(\"Test Result:\")\n",
    "print(\"-------------\")\n",
    "print(f\"T-statistic: {result['t_statistic']}\")\n",
    "print(f\"P-value: {result['p_value']}\")\n",
    "print(f\"Degrees of Freedom: {result['degrees_of_freedom']}\")\n",
    "print(f\"Reject Null Hypothesis: {result['reject_null']}\")\n",
    "print(f\"Alternative Hypothesis: {result['alternative']}\")\n",
    "print(f\"Significance Level (alpha): {result['alpha']}\")\n",
    "\n",
    "\n"
   ]
  },
  {
   "cell_type": "code",
   "execution_count": null,
   "id": "360ec90f-be16-48ab-840e-85e632662bc5",
   "metadata": {},
   "outputs": [],
   "source": [
    "#question 6\n",
    "\n",
    "#The null hypothesis is a statement of no effect or no difference. It represents the status quo or a baseline assumption that there is no change, no effect, or no relationship in the population. The null hypothesis is what researchers aim to test against.\n",
    "#The alternative hypothesis is a statement that contradicts the null hypothesis. It represents a claim, theory, or assertion that there is a significant effect, difference, or relationship in the population.\n"
   ]
  },
  {
   "cell_type": "markdown",
   "id": "802acb5a-f574-4356-b4df-4be00d2581e5",
   "metadata": {},
   "source": [
    "# question 7\n",
    "\n",
    "# Formulate Hypotheses\n",
    "# Choose Significance Level \n",
    "# dentify the Test Statistic\n",
    "# Collect Data\n",
    "# Calculate the Test Statistic\n",
    "# Determine the Critical Region\n",
    "# Make a Decision\n",
    "# raw Conclusions"
   ]
  },
  {
   "cell_type": "code",
   "execution_count": null,
   "id": "e3563592-2bd2-4eb2-9063-917753e05cfa",
   "metadata": {},
   "outputs": [],
   "source": [
    "# question 8\n",
    "\n",
    "#The p-value, or probability value, is a measure that helps researchers assess the evidence against a null hypothesis in hypothesis testing. It quantifies the probability of observing a test statistic as extreme as, or more extreme than, the one calculated from the sample data, assuming that the null hypothesis is true. "
   ]
  },
  {
   "cell_type": "code",
   "execution_count": 3,
   "id": "30a1f21d-544e-4718-b4f2-1e8532aaf71d",
   "metadata": {},
   "outputs": [
    {
     "data": {
      "image/png": "[encoded data removed]",
      "text/plain": [
       "<Figure size 640x480 with 1 Axes>"
      ]
     },
     "metadata": {},
     "output_type": "display_data"
    }
   ],
   "source": [
    "#question 9\n",
    "\n",
    "import numpy as np\n",
    "import matplotlib.pyplot as plt\n",
    "from scipy.stats import t\n",
    "\n",
    "# Set degrees of freedom\n",
    "degrees_of_freedom = 10\n",
    "\n",
    "# Generate data points\n",
    "x = np.linspace(-4, 4, 1000)\n",
    "\n",
    "# Calculate probability density function (PDF) for each data point\n",
    "pdf_values = t.pdf(x, df=degrees_of_freedom)\n",
    "\n",
    "# Plot the t-distribution\n",
    "plt.plot(x, pdf_values, label=f\"t-distribution (df={degrees_of_freedom})\")\n",
    "plt.title(\"Student's t-Distribution\")\n",
    "plt.xlabel(\"x\")\n",
    "plt.ylabel(\"Probability Density Function (PDF)\")\n",
    "plt.legend()\n",
    "plt.grid(True)\n",
    "plt.show()\n"
   ]
  },
  {
   "cell_type": "code",
   "execution_count": 4,
   "id": "a70ee220-6bab-45df-a38a-a934f7d0f175",
   "metadata": {},
   "outputs": [
    {
     "name": "stdout",
     "output_type": "stream",
     "text": [
      "Two-Sample T-Test Result:\n",
      "----------------------------\n",
      "T-Statistic: -3.7792655450343244\n",
      "P-Value: 0.00037340878065546273\n",
      "Reject the null hypothesis. There is evidence of a significant difference in means.\n"
     ]
    }
   ],
   "source": [
    "#question 10\n",
    "\n",
    "import numpy as np\n",
    "from scipy.stats import ttest_ind\n",
    "\n",
    "def two_sample_t_test(sample1, sample2):\n",
    "    \"\"\"\n",
    "    Perform a two-sample t-test for independent samples.\n",
    "\n",
    "    Parameters:\n",
    "    - sample1: First sample data.\n",
    "    - sample2: Second sample data.\n",
    "\n",
    "    Returns:\n",
    "    - t_statistic: Calculated t-statistic.\n",
    "    - p_value: Two-tailed p-value.\n",
    "    \"\"\"\n",
    "\n",
    "    # Perform two-sample t-test\n",
    "    t_statistic, p_value = ttest_ind(sample1, sample2)\n",
    "\n",
    "    return t_statistic, p_value\n",
    "\n",
    "# Example usage:\n",
    "# Replace sample1 and sample2 with your actual data\n",
    "sample1 = np.random.normal(10, 2, 30)\n",
    "sample2 = np.random.normal(12, 2, 30)\n",
    "\n",
    "t_statistic, p_value = two_sample_t_test(sample1, sample2)\n",
    "\n",
    "# Print the result\n",
    "print(\"Two-Sample T-Test Result:\")\n",
    "print(\"----------------------------\")\n",
    "print(f\"T-Statistic: {t_statistic}\")\n",
    "print(f\"P-Value: {p_value}\")\n",
    "\n",
    "# Interpret the result\n",
    "alpha = 0.05\n",
    "if p_value < alpha:\n",
    "    print(\"Reject the null hypothesis. There is evidence of a significant difference in means.\")\n",
    "else:\n",
    "    print(\"Fail to reject the null hypothesis. There is no significant difference in means.\")\n"
   ]
  },
  {
   "cell_type": "code",
   "execution_count": null,
   "id": "3730eec9-39f7-487e-8110-9a2a2fe32c21",
   "metadata": {},
   "outputs": [],
   "source": [
    "#question 11\n",
    "\n"
   ]
  }
 ],
 "metadata": {
  "kernelspec": {
   "display_name": "Python 3 (ipykernel)",
   "language": "python",
   "name": "python3"
  },
  "language_info": {
   "codemirror_mode": {
    "name": "ipython",
    "version": 3
   },
   "file_extension": ".py",
   "mimetype": "text/x-python",
   "name": "python",
   "nbconvert_exporter": "python",
   "pygments_lexer": "ipython3",
   "version": "3.10.8"
  }
 },
 "nbformat": 4,
 "nbformat_minor": 5
}
