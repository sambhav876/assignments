{
 "cells": [
  {
   "cell_type": "code",
   "execution_count": null,
   "id": "dbd2504c-095b-4802-b48e-2fc44172e29b",
   "metadata": {},
   "outputs": [],
   "source": [
    "#GET method is used to request data from a specific resource. data is sent in the url of the request . it is less secure \n",
    "#POST method is used for submitting the data to be proceed to a specific resource. data is sent to HTTP request. more secure compared to GET."
   ]
  },
  {
   "cell_type": "code",
   "execution_count": null,
   "id": "ff3d7e7c-3e03-406b-a6de-a0eb7d0a2bcd",
   "metadata": {},
   "outputs": [],
   "source": [
    "#the request object is used to handle the incoming client request. it allows flask applications to access the data submitted by client in forms queryparameters."
   ]
  },
  {
   "cell_type": "code",
   "execution_count": null,
   "id": "2b724ecf-70a3-41f5-8430-4f074f705a3d",
   "metadata": {},
   "outputs": [],
   "source": [
    "#the redirect() function used to redirect the client to a different URL. this is particularly useful in web apps."
   ]
  },
  {
   "cell_type": "code",
   "execution_count": null,
   "id": "06a8f07d-d29b-44e7-9003-66f40e8f9751",
   "metadata": {},
   "outputs": [],
   "source": [
    "#templates are used to create dynamic HTML content. they allow to mix python code with HTML to generate dynamic web page. render_template() is used to render the HTML templates it allow"
   ]
  }
 ],
 "metadata": {
  "kernelspec": {
   "display_name": "Python 3 (ipykernel)",
   "language": "python",
   "name": "python3"
  },
  "language_info": {
   "codemirror_mode": {
    "name": "ipython",
    "version": 3
   },
   "file_extension": ".py",
   "mimetype": "text/x-python",
   "name": "python",
   "nbconvert_exporter": "python",
   "pygments_lexer": "ipython3",
   "version": "3.10.8"
  }
 },
 "nbformat": 4,
 "nbformat_minor": 5
}
