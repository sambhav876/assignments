{
 "cells": [
  {
   "cell_type": "code",
   "execution_count": null,
   "id": "e483cc2b-3fb6-42c2-9794-2e0094e0556c",
   "metadata": {},
   "outputs": [],
   "source": [
    "#question 1\n",
    "\n",
    "#The Probability Density Function (PDF) is a concept in probability theory and statistics. It is a function that describes the likelihood of a continuous random variable falling within a particular range of values. In other words, the PDF gives the probability that the variable will take on a specific value or fall within a specific interval."
   ]
  },
  {
   "cell_type": "code",
   "execution_count": null,
   "id": "a2dcbdb6-dd5d-441d-be47-cc2a4ab50a00",
   "metadata": {},
   "outputs": [],
   "source": [
    "#question 2\n",
    "\n",
    "#bernoulli, poisson, binomial, normal , uniform, gamma, beta, cauchy, exponential."
   ]
  },
  {
   "cell_type": "code",
   "execution_count": 1,
   "id": "2a03e4db-f411-4653-b8e8-bd64847a8c31",
   "metadata": {},
   "outputs": [
    {
     "name": "stdout",
     "output_type": "stream",
     "text": [
      "The PDF at x = 1.5 is: 0.12951759566589174\n"
     ]
    }
   ],
   "source": [
    "#question 3\n",
    "\n",
    "import math\n",
    "\n",
    "def normal_pdf(x, mean, std_dev):\n",
    "    \"\"\"\n",
    "    Calculate the probability density function (PDF) of a normal distribution.\n",
    "\n",
    "    Parameters:\n",
    "    - x: The point at which to evaluate the PDF.\n",
    "    - mean: The mean of the normal distribution.\n",
    "    - std_dev: The standard deviation of the normal distribution.\n",
    "\n",
    "    Returns:\n",
    "    - pdf: The PDF value at the given point x.\n",
    "    \"\"\"\n",
    "    coefficient = 1 / (math.sqrt(2 * math.pi) * std_dev)\n",
    "    exponent = -((x - mean) ** 2) / (2 * std_dev ** 2)\n",
    "    pdf = coefficient * math.exp(exponent)\n",
    "    return pdf\n",
    "\n",
    "# Example usage:\n",
    "mean_value = 0\n",
    "std_dev_value = 1\n",
    "x_value = 1.5\n",
    "\n",
    "pdf_result = normal_pdf(x_value, mean_value, std_dev_value)\n",
    "print(f\"The PDF at x = {x_value} is: {pdf_result}\")\n"
   ]
  },
  {
   "cell_type": "code",
   "execution_count": null,
   "id": "3cdf96a2-e44f-4b1e-a81c-71c74aa9583a",
   "metadata": {},
   "outputs": [],
   "source": [
    "#question 4\n",
    "\n",
    "\n",
    "#The Binomial distribution is a discrete probability distribution that models the number of successes in a fixed number of independent Bernoulli trials, where each trial has two possible outcomes (success or failure) and the probability of success is constant across trials\n",
    "#number of trials, possible outcomes, independance , probability, dicretness are some properties.\n",
    "#examples are coin toss and quality control"
   ]
  },
  {
   "cell_type": "code",
   "execution_count": 2,
   "id": "3416826c-4f3d-4fd6-817a-0e5386791f75",
   "metadata": {},
   "outputs": [
    {
     "data": {
      "image/png": "[encoded data removed]",
      "text/plain": [
       "<Figure size 640x480 with 1 Axes>"
      ]
     },
     "metadata": {},
     "output_type": "display_data"
    }
   ],
   "source": [
    "#question 5\n",
    "\n",
    "\n",
    "import numpy as np\n",
    "import matplotlib.pyplot as plt\n",
    "\n",
    "# Set the parameters for the binomial distribution\n",
    "n = 10  # Number of trials\n",
    "p = 0.4  # Probability of success\n",
    "\n",
    "# Generate a random sample of size 1000 from the binomial distribution\n",
    "random_sample = np.random.binomial(n, p, size=1000)\n",
    "\n",
    "# Plot the histogram\n",
    "plt.hist(random_sample, bins=np.arange(0, n+2) - 0.5, edgecolor='black')\n",
    "plt.title('Histogram of Binomial Distribution (n=10, p=0.4)')\n",
    "plt.xlabel('Number of Successes')\n",
    "plt.ylabel('Frequency')\n",
    "plt.show()\n"
   ]
  },
  {
   "cell_type": "code",
   "execution_count": 3,
   "id": "5ada9a6f-5a0e-4599-8189-4983f6084136",
   "metadata": {},
   "outputs": [
    {
     "name": "stdout",
     "output_type": "stream",
     "text": [
      "The CDF at k = 3 is: 0.7575761331330659\n"
     ]
    }
   ],
   "source": [
    "#question 6\n",
    "\n",
    "\n",
    "import math\n",
    "\n",
    "def poisson_cdf(k, mean):\n",
    "    \"\"\"\n",
    "    Calculate the Cumulative Distribution Function (CDF) of a Poisson distribution.\n",
    "\n",
    "    Parameters:\n",
    "    - k: The point at which to evaluate the CDF.\n",
    "    - mean: The mean of the Poisson distribution.\n",
    "\n",
    "    Returns:\n",
    "    - cdf: The CDF value at the given point k.\n",
    "    \"\"\"\n",
    "    cdf = 0\n",
    "    for i in range(k + 1):\n",
    "        cdf += (math.exp(-mean) * mean**i) / math.factorial(i)\n",
    "    return cdf\n",
    "\n",
    "# Example usage:\n",
    "mean_value = 2.5\n",
    "k_value = 3\n",
    "\n",
    "cdf_result = poisson_cdf(k_value, mean_value)\n",
    "print(f\"The CDF at k = {k_value} is: {cdf_result}\")\n"
   ]
  },
  {
   "cell_type": "code",
   "execution_count": 4,
   "id": "34b9f6da-6fac-4428-b0e9-7e99092dc440",
   "metadata": {},
   "outputs": [
    {
     "name": "stdout",
     "output_type": "stream",
     "text": [
      "Sample Mean: 5.09\n",
      "Sample Variance: 5.0259\n"
     ]
    }
   ],
   "source": [
    "#question 8\n",
    "\n",
    "import numpy as np\n",
    "\n",
    "# Set the parameters for the Poisson distribution\n",
    "mean_value = 5\n",
    "\n",
    "# Generate a random sample of size 1000 from the Poisson distribution\n",
    "random_sample = np.random.poisson(mean_value, size=1000)\n",
    "\n",
    "# Calculate the sample mean and variance\n",
    "sample_mean = np.mean(random_sample)\n",
    "sample_variance = np.var(random_sample)\n",
    "\n",
    "# Print the results\n",
    "print(f\"Sample Mean: {sample_mean}\")\n",
    "print(f\"Sample Variance: {sample_variance}\")\n",
    "\n",
    "\n"
   ]
  },
  {
   "cell_type": "code",
   "execution_count": null,
   "id": "1031833d-d21f-4ec2-856f-273aa08fb9fa",
   "metadata": {},
   "outputs": [],
   "source": [
    "#question 9\n",
    "\n",
    "\n"
   ]
  }
 ],
 "metadata": {
  "kernelspec": {
   "display_name": "Python 3 (ipykernel)",
   "language": "python",
   "name": "python3"
  },
  "language_info": {
   "codemirror_mode": {
    "name": "ipython",
    "version": 3
   },
   "file_extension": ".py",
   "mimetype": "text/x-python",
   "name": "python",
   "nbconvert_exporter": "python",
   "pygments_lexer": "ipython3",
   "version": "3.10.8"
  }
 },
 "nbformat": 4,
 "nbformat_minor": 5
}
