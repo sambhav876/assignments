{
 "cells": [
  {
   "cell_type": "code",
   "execution_count": 1,
   "id": "27599f99-5355-45c6-a33c-d7ffd1c41040",
   "metadata": {},
   "outputs": [
    {
     "name": "stdout",
     "output_type": "stream",
     "text": [
      "course_name    Machine Learning\n",
      "duration                      3\n",
      "Name: 1, dtype: object\n"
     ]
    }
   ],
   "source": [
    "#question 1\n",
    "\n",
    "import pandas as pd\n",
    "\n",
    "course_name = ['Data Science', 'Machine Learning', 'Big Data', 'Data Engineer']\n",
    "duration = [2, 3, 6, 4]\n",
    "\n",
    "df = pd.DataFrame(data={'course_name': course_name, 'duration': duration})\n",
    "\n",
    "# Print data of the second row\n",
    "second_row_data = df.iloc[1]\n",
    "print(second_row_data)\n"
   ]
  },
  {
   "cell_type": "code",
   "execution_count": null,
   "id": "8dfad1ee-99de-4b45-a3ed-dd08af236eb7",
   "metadata": {},
   "outputs": [],
   "source": [
    "#question 2\n",
    "\n",
    "#iloc is primarily integer-based indexing. It is used when you want to select data by the integer position of the rows and columns.\n",
    "\n",
    "#loc is label-based indexing. It is used when you want to select data based on labels (row and column names)."
   ]
  },
  {
   "cell_type": "code",
   "execution_count": 2,
   "id": "cf630a61-65e6-4bd3-b163-536ab94d5070",
   "metadata": {},
   "outputs": [
    {
     "name": "stdout",
     "output_type": "stream",
     "text": [
      "Reindexed DataFrame:\n",
      "        course_name  duration\n",
      "3     Data Engineer         4\n",
      "0      Data Science         2\n",
      "1  Machine Learning         3\n",
      "2          Big Data         6\n",
      "\n",
      "Result of new_df.loc[2]:\n",
      "course_name    Big Data\n",
      "duration              6\n",
      "Name: 2, dtype: object\n",
      "\n",
      "Result of new_df.iloc[2]:\n",
      "course_name    Machine Learning\n",
      "duration                      3\n",
      "Name: 1, dtype: object\n"
     ]
    }
   ],
   "source": [
    "#question 3\n",
    "\n",
    "import pandas as pd\n",
    "\n",
    "course_name = ['Data Science', 'Machine Learning', 'Big Data', 'Data Engineer']\n",
    "duration = [2, 3, 6, 4]\n",
    "\n",
    "df = pd.DataFrame(data={'course_name': course_name, 'duration': duration})\n",
    "\n",
    "# Define the reindex list\n",
    "reindex = [3, 0, 1, 2]\n",
    "\n",
    "# Reindex the DataFrame\n",
    "new_df = df.reindex(reindex)\n",
    "\n",
    "# Print the new DataFrame\n",
    "print(\"Reindexed DataFrame:\")\n",
    "print(new_df)\n",
    "\n",
    "# Access data using loc\n",
    "loc_result = new_df.loc[2]\n",
    "print(\"\\nResult of new_df.loc[2]:\")\n",
    "print(loc_result)\n",
    "\n",
    "# Access data using iloc\n",
    "iloc_result = new_df.iloc[2]\n",
    "print(\"\\nResult of new_df.iloc[2]:\")\n",
    "print(iloc_result)\n"
   ]
  },
  {
   "cell_type": "code",
   "execution_count": 3,
   "id": "e6a2b857-bf72-4fc8-80bc-490030cf69a5",
   "metadata": {},
   "outputs": [
    {
     "name": "stdout",
     "output_type": "stream",
     "text": [
      "Mean of each column:\n",
      "column_1    0.264689\n",
      "column_2    0.464937\n",
      "column_3    0.569413\n",
      "column_4    0.372078\n",
      "column_5    0.808572\n",
      "column_6    0.720926\n",
      "dtype: float64\n",
      "\n",
      "Standard deviation of column 'column_2':\n",
      "0.3003245999697618\n"
     ]
    }
   ],
   "source": [
    "#question 4\n",
    "\n",
    "\n",
    "import pandas as pd\n",
    "import numpy as np\n",
    "\n",
    "# Define columns and indices\n",
    "columns = ['column_1', 'column_2', 'column_3', 'column_4', 'column_5', 'column_6']\n",
    "indices = [1, 2, 3, 4, 5, 6]\n",
    "\n",
    "# Creating a dataframe\n",
    "df1 = pd.DataFrame(np.random.rand(6, 6), columns=columns, index=indices)\n",
    "\n",
    "# (i) Mean of each and every column\n",
    "column_means = df1.mean()\n",
    "print(\"Mean of each column:\")\n",
    "print(column_means)\n",
    "\n",
    "# (ii) Standard deviation of column 'column_2'\n",
    "std_column_2 = df1['column_2'].std()\n",
    "print(\"\\nStandard deviation of column 'column_2':\")\n",
    "print(std_column_2)\n",
    "\n"
   ]
  },
  {
   "cell_type": "code",
   "execution_count": null,
   "id": "fac05598-5969-4e4b-ac2e-a6a45644c534",
   "metadata": {},
   "outputs": [],
   "source": [
    "#question 5\n",
    "\n",
    "import pandas as pd\n",
    "import numpy as np\n",
    "\n",
    "# Define columns and indices\n",
    "columns = ['column_1', 'column_2', 'column_3', 'column_4', 'column_5', 'column_6']\n",
    "indices = [1, 2, 3, 4, 5, 6]\n",
    "\n",
    "# Creating a dataframe\n",
    "df1 = pd.DataFrame(np.random.rand(6, 6), columns=columns, index=indices)\n",
    "\n",
    "# Replace the data in the second row of 'column_2' with a string variable\n",
    "string_variable = 'replaced_data'\n",
    "df1.at[2, 'column_2'] = string_variable\n",
    "\n",
    "# Find the mean of 'column_2'\n",
    "mean_column_2 = df1['column_2'].mean()\n",
    "print(\"Mean of 'column_2' after replacement:\", mean_column_2)\n"
   ]
  },
  {
   "cell_type": "code",
   "execution_count": null,
   "id": "fa981bd8-7203-4da1-9499-9b8baf478fa1",
   "metadata": {},
   "outputs": [],
   "source": [
    "#question 6\n",
    "\n",
    "#rolling window function\n",
    "#ranking function\n",
    "#aggregating function\n",
    "#exponential moving average\n"
   ]
  },
  {
   "cell_type": "code",
   "execution_count": null,
   "id": "25568f3f-09a2-4e63-a1c8-b0b3f8042de9",
   "metadata": {},
   "outputs": [],
   "source": [
    "#question 7\n",
    "\n"
   ]
  }
 ],
 "metadata": {
  "kernelspec": {
   "display_name": "Python 3 (ipykernel)",
   "language": "python",
   "name": "python3"
  },
  "language_info": {
   "codemirror_mode": {
    "name": "ipython",
    "version": 3
   },
   "file_extension": ".py",
   "mimetype": "text/x-python",
   "name": "python",
   "nbconvert_exporter": "python",
   "pygments_lexer": "ipython3",
   "version": "3.10.8"
  }
 },
 "nbformat": 4,
 "nbformat_minor": 5
}
