{
 "cells": [
  {
   "cell_type": "code",
   "execution_count": null,
   "id": "aeae11d4-f197-4ab5-a9a1-755f24643647",
   "metadata": {},
   "outputs": [],
   "source": [
    "q1) custom exceptions provide the flexiblity to add attributes and methods that are not a part of standard java exception"
   ]
  },
  {
   "cell_type": "code",
   "execution_count": null,
   "id": "b759b060-777c-4633-9d6c-d1cee10894fc",
   "metadata": {},
   "outputs": [],
   "source": [
    "def print_exception_hierarchy(exception , java=0):\n",
    "    print('   ' *  level  +  str(exception.__clas__.__name__))\n",
    "    if hasattr(exception, '__cause__') and exxception.__cause__:\n",
    "        print_exception_hierarchy(exception.__cause__.  level + 1)\n",
    "        \n",
    "        \n",
    "try :\n",
    "    #code that may raise an exception\n",
    "    x = 1/0\n",
    "except exception as e:\n",
    "    print(\"exception hierarchy:\")\n",
    "    print_exception_hierarchy"
   ]
  },
  {
   "cell_type": "code",
   "execution_count": null,
   "id": "913c4a62-d2fc-4dcb-9111-cee50561bf89",
   "metadata": {},
   "outputs": [],
   "source": [
    "q2) in arithmetic error class Zerodivisionerror , OverflowError, FloatingPointerror is raised "
   ]
  },
  {
   "cell_type": "code",
   "execution_count": null,
   "id": "b25b0850-b06b-48da-9487-c66abdf815f5",
   "metadata": {},
   "outputs": [],
   "source": [
    "try:\n",
    "    result = 10/0\n",
    "    except ZeroDivisionError as e:\n",
    "        print(\"error\" , e)    #output: Error: division by zero"
   ]
  },
  {
   "cell_type": "code",
   "execution_count": null,
   "id": "95ccd229-94c7-4087-9189-fa3f4c80dc36",
   "metadata": {},
   "outputs": [],
   "source": [
    "try:\n",
    "    result = 1.0/ 0.0\n",
    "    except FloatingPointError as e:\n",
    "        print(\"error\" , e)   # output: error: float division by zero"
   ]
  },
  {
   "cell_type": "code",
   "execution_count": null,
   "id": "f62204b4-c955-406c-8ef9-d99e1f9ad5da",
   "metadata": {},
   "outputs": [],
   "source": [
    "q3) lookup error occurs when a mapping or sequence is accessed in a way which is not allowed"
   ]
  },
  {
   "cell_type": "code",
   "execution_count": null,
   "id": "3d326ff4-cea5-4de4-a50f-c533abb4bca2",
   "metadata": {},
   "outputs": [],
   "source": [
    "my_dict = {'name': 'alice' , 'age' : 20}\n",
    "\n",
    "try:\n",
    "    print(my_dict['job'])\n",
    "    except KeyError as e:\n",
    "        print(\"Error\", e)   #output: Error: 'job'\n",
    "    \n",
    "    "
   ]
  },
  {
   "cell_type": "code",
   "execution_count": null,
   "id": "134a5160-b874-4039-bfea-ef58f39d2e6d",
   "metadata": {},
   "outputs": [],
   "source": [
    "my_list = [1,2,3,4,5]\n",
    "\n",
    "\n",
    "try:\n",
    "    print(my_list[10])\n",
    "except IndexError as e:\n",
    "    print(\"error\", e)  #output: error: list index out of range"
   ]
  },
  {
   "cell_type": "code",
   "execution_count": null,
   "id": "72b9b325-6ccc-4524-a94b-71f3badb6cf2",
   "metadata": {},
   "outputs": [],
   "source": [
    "q5) import error and modulenotfounderror are axception in python "
   ]
  },
  {
   "cell_type": "code",
   "execution_count": null,
   "id": "cf0ad95c-c703-4a0a-a83f-c27f5ff8b923",
   "metadata": {},
   "outputs": [],
   "source": [
    "try:\n",
    "    import non_existent_module  #Try to import a module that does not exist\n",
    "    except ImportError as e:\n",
    "        print(\"import error:\" , e)"
   ]
  },
  {
   "cell_type": "code",
   "execution_count": null,
   "id": "5eff0b3d-8b1e-45bb-bd70-f421e8f2fd39",
   "metadata": {},
   "outputs": [],
   "source": [
    "try:\n",
    "    import non_existent_module\n",
    "except ModuleNotFoundError as e:\n",
    "        print(\"module not found error:\" , e)"
   ]
  },
  {
   "cell_type": "code",
   "execution_count": null,
   "id": "d1b81c5f-e717-4f06-82e4-47c560682f92",
   "metadata": {},
   "outputs": [],
   "source": []
  }
 ],
 "metadata": {
  "kernelspec": {
   "display_name": "Python 3 (ipykernel)",
   "language": "python",
   "name": "python3"
  },
  "language_info": {
   "codemirror_mode": {
    "name": "ipython",
    "version": 3
   },
   "file_extension": ".py",
   "mimetype": "text/x-python",
   "name": "python",
   "nbconvert_exporter": "python",
   "pygments_lexer": "ipython3",
   "version": "3.10.8"
  }
 },
 "nbformat": 4,
 "nbformat_minor": 5
}
