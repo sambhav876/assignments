{
 "cells": [
  {
   "cell_type": "code",
   "execution_count": null,
   "id": "94a76187-c1d9-4157-82b2-1deac5ddd594",
   "metadata": {},
   "outputs": [],
   "source": [
    "#flask is lightweight and flexible python web framework that helps developers build web applications quickly adn easily. some advanctages are simplicity , flexiblity , modularity, extensiblity, scalablity."
   ]
  },
  {
   "cell_type": "code",
   "execution_count": null,
   "id": "a7d23940-5f9c-4d2c-a9ee-817faa1c8f4f",
   "metadata": {},
   "outputs": [],
   "source": [
    "#app routing refers to the mechanism of mapping URLs (Uniform Resource Locators) to specific python functions. App route is used for url handling , organized code, RESTful APIs , dynamic content , user interaction."
   ]
  },
  {
   "cell_type": "code",
   "execution_count": null,
   "id": "9c352028-a1c7-4be0-ab20-0a811318ece3",
   "metadata": {},
   "outputs": [],
   "source": [
    "#url_for() function is used for URL building. it generates url to a specific function \n",
    "\n",
    "\n",
    "from flask import Flask, url_for\n",
    "\n",
    "app = Flask(__name__)\n",
    "\n",
    "@app.route('/')\n",
    "def index():\n",
    "    return 'welcome to homepage'\n",
    "\n",
    "@app.route('/user/<username>')\n",
    "def show_user_profile(username) :\n",
    "    return f'user: {username}'\n",
    "\n",
    "if __name__ = '__main__':\n",
    "    with app.test_request_context():\n",
    "        print(url_for('index'))\n",
    "        print(url_for('show_user_profile'))\n",
    "        print(url_for('show_post'))"
   ]
  }
 ],
 "metadata": {
  "kernelspec": {
   "display_name": "Python 3 (ipykernel)",
   "language": "python",
   "name": "python3"
  },
  "language_info": {
   "codemirror_mode": {
    "name": "ipython",
    "version": 3
   },
   "file_extension": ".py",
   "mimetype": "text/x-python",
   "name": "python",
   "nbconvert_exporter": "python",
   "pygments_lexer": "ipython3",
   "version": "3.10.8"
  }
 },
 "nbformat": 4,
 "nbformat_minor": 5
}
