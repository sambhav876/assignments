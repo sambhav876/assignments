{
 "cells": [
  {
   "cell_type": "code",
   "execution_count": null,
   "id": "c26009b0-6711-4e12-9dd9-f0ffdd1c5fb4",
   "metadata": {},
   "outputs": [],
   "source": [
    "#assignment 2"
   ]
  },
  {
   "cell_type": "code",
   "execution_count": 1,
   "id": "47f3109d-a051-47d7-915f-2237472c8412",
   "metadata": {},
   "outputs": [
    {
     "name": "stdout",
     "output_type": "stream",
     "text": [
      "7\n",
      "32\n",
      "2.0\n",
      "2\n"
     ]
    }
   ],
   "source": [
    "#1\n",
    "print(3+4)\n",
    "print(4*8)\n",
    "print(4/2)\n",
    "print(4-2)"
   ]
  },
  {
   "cell_type": "code",
   "execution_count": 2,
   "id": "de9297d5-68d0-4e09-804c-230338aa9f4d",
   "metadata": {},
   "outputs": [
    {
     "name": "stdin",
     "output_type": "stream",
     "text": [
      "Enter first side:  5\n",
      "Enter second side:  6\n",
      "Enter third side:  7\n"
     ]
    },
    {
     "name": "stdout",
     "output_type": "stream",
     "text": [
      "The area of the triangle is 14.70\n"
     ]
    }
   ],
   "source": [
    "#2\n",
    "a = 5\n",
    "b = 6\n",
    "c = 7\n",
    "\n",
    "a = float(input('Enter first side: '))\n",
    "b = float(input('Enter second side: '))\n",
    "c = float(input('Enter third side: '))\n",
    "\n",
    "s = (a + b + c) / 2\n",
    "\n",
    "area = (s*(s-a)*(s-b)*(s-c)) ** 0.5\n",
    "print('The area of the triangle is %0.2f' %area)"
   ]
  },
  {
   "cell_type": "code",
   "execution_count": 3,
   "id": "72fea300-d6f6-4c1a-bf2e-cfc2b439401e",
   "metadata": {},
   "outputs": [
    {
     "name": "stdout",
     "output_type": "stream",
     "text": [
      "The sum of a and b is  30\n",
      "True\n",
      "False\n",
      "False\n",
      "True\n"
     ]
    }
   ],
   "source": [
    "#3\n",
    "a = 20  \n",
    "b = 10  \n",
    "c = a + b  \n",
    "print (\"The sum of a and b is \", c)  \n",
    "print (a > b) \n",
    "print (a < b)  \n",
    "print (c < a)  \n",
    "print (c > b)  "
   ]
  },
  {
   "cell_type": "code",
   "execution_count": 4,
   "id": "57021428-0f94-4e72-9aa8-13ea942086b7",
   "metadata": {},
   "outputs": [
    {
     "name": "stdout",
     "output_type": "stream",
     "text": [
      "Temperature in Celsius is: \n",
      "12.222222222222221\n"
     ]
    }
   ],
   "source": [
    "#4\n",
    "Fahrenheit= 54  \n",
    "Celsius = ((Fahrenheit-32)*5)/9  \n",
    "print(\"Temperature in Celsius is: \");  \n",
    "print(Celsius);  "
   ]
  },
  {
   "cell_type": "code",
   "execution_count": 5,
   "id": "3aa224b4-67cf-4982-b116-9e8fb0260da2",
   "metadata": {},
   "outputs": [
    {
     "name": "stdin",
     "output_type": "stream",
     "text": [
      "enter the vlue of x:\n",
      " 45\n"
     ]
    },
    {
     "name": "stdout",
     "output_type": "stream",
     "text": [
      "1.6197751905438615\n",
      "3.8066624897703196\n",
      "6.708203932499369\n"
     ]
    }
   ],
   "source": [
    "#5\n",
    "import math\n",
    "x= int(input(\"enter the vlue of x:\\n\"))\n",
    "print(math.tan(x))\n",
    "print(math.log(x))\n",
    "print(math.sqrt(x))"
   ]
  },
  {
   "cell_type": "code",
   "execution_count": 6,
   "id": "6dd2dc09-f2eb-4beb-b7a0-ff31f3f596e5",
   "metadata": {},
   "outputs": [
    {
     "name": "stdin",
     "output_type": "stream",
     "text": [
      "enter the value of radius:\n",
      " 5\n"
     ]
    },
    {
     "name": "stdout",
     "output_type": "stream",
     "text": [
      "the area of circle: 78.5\n",
      "the circumference of a circle is: 31.400000000000002\n"
     ]
    }
   ],
   "source": [
    "#6\n",
    "radius=int(input(\"enter the value of radius:\\n\"))\n",
    "print(\"the area of circle:\",3.14*(radius)*(radius))\n",
    "print(\"the circumference of a circle is:\",2*3.14*(radius))"
   ]
  },
  {
   "cell_type": "code",
   "execution_count": 7,
   "id": "4ef825e4-3de7-468a-8bce-54661f8aa54f",
   "metadata": {},
   "outputs": [
    {
     "name": "stdout",
     "output_type": "stream",
     "text": [
      "Format for writing complex number: a+bj.\n",
      "\n"
     ]
    },
    {
     "name": "stdin",
     "output_type": "stream",
     "text": [
      "Enter First Complex Number:  7+3j\n",
      "Enter second Complex Number:  5+2j\n"
     ]
    },
    {
     "name": "stdout",
     "output_type": "stream",
     "text": [
      "Sum of both the Complex number is (12+5j)\n"
     ]
    }
   ],
   "source": [
    "#7\n",
    "print(\"Format for writing complex number: a+bj.\\n\")\n",
    "c1 = complex(input(\"Enter First Complex Number: \"))\n",
    "c2 = complex(input(\"Enter second Complex Number: \"))\n",
    "print(\"Sum of both the Complex number is\", c1 + c2)"
   ]
  },
  {
   "cell_type": "code",
   "execution_count": 8,
   "id": "83148133-401c-47f8-a1d8-3f0326526b0e",
   "metadata": {},
   "outputs": [
    {
     "name": "stdout",
     "output_type": "stream",
     "text": [
      "Format for writing complex number: a+bj.\n",
      "\n"
     ]
    },
    {
     "name": "stdin",
     "output_type": "stream",
     "text": [
      "Enter First Complex Number:  7+4J\n",
      "Enter second Complex Number:  5+6j\n"
     ]
    },
    {
     "name": "stdout",
     "output_type": "stream",
     "text": [
      "difference of both the Complex number is (2-2j)\n"
     ]
    }
   ],
   "source": [
    "#7\n",
    "print(\"Format for writing complex number: a+bj.\\n\")\n",
    "c1 = complex(input(\"Enter First Complex Number: \"))\n",
    "c2 = complex(input(\"Enter second Complex Number: \"))\n",
    "print(\"difference of both the Complex number is\", c1 - c2)"
   ]
  },
  {
   "cell_type": "code",
   "execution_count": 9,
   "id": "2d7819c8-8561-4140-b3b2-8444c35a31c1",
   "metadata": {},
   "outputs": [
    {
     "name": "stdout",
     "output_type": "stream",
     "text": [
      "The numbers are greater than 0\n",
      "Atleast one number is not greater than 0\n"
     ]
    }
   ],
   "source": [
    "#8\n",
    "a = 10\n",
    "b = 10\n",
    "c = -10\n",
    "if a > 0 and b > 0: \n",
    "    print(\"The numbers are greater than 0\") \n",
    "if a > 0 and b > 0 and c > 0: \n",
    "    print(\"The numbers are greater than 0\") \n",
    "else: \n",
    "    print(\"Atleast one number is not greater than 0\")"
   ]
  },
  {
   "cell_type": "code",
   "execution_count": 10,
   "id": "71db00a6-6598-4c06-97a6-39a87526db2e",
   "metadata": {},
   "outputs": [
    {
     "name": "stdout",
     "output_type": "stream",
     "text": [
      "Atleast one number has boolean value as False\n"
     ]
    }
   ],
   "source": [
    "#9\n",
    "a = 10\n",
    "b = 12\n",
    "c = 0\n",
    "if a and b and c: \n",
    "    print(\"All the numbers have boolean value as True\") \n",
    "else: \n",
    "    print(\"Atleast one number has boolean value as False\")"
   ]
  },
  {
   "cell_type": "code",
   "execution_count": 11,
   "id": "71200e9a-00a8-4339-89ff-2787249d2cb1",
   "metadata": {},
   "outputs": [
    {
     "name": "stdin",
     "output_type": "stream",
     "text": [
      "Enter the value of x:  6\n",
      "Enter the value of y:  8\n"
     ]
    },
    {
     "name": "stdout",
     "output_type": "stream",
     "text": [
      "x & y = 0\n"
     ]
    }
   ],
   "source": [
    "#10\n",
    "x = int(input(\"Enter the value of x: \"))    \n",
    "y = int(input(\"Enter the value of y: \"))  \n",
    "print(\"x & y =\", x & y)  "
   ]
  },
  {
   "cell_type": "code",
   "execution_count": 12,
   "id": "4fdd8dfe-95eb-4b8d-b893-f862f4802b0a",
   "metadata": {},
   "outputs": [
    {
     "name": "stdin",
     "output_type": "stream",
     "text": [
      "Please enter value for P:  16\n",
      "Please enter value for Q:  61\n"
     ]
    },
    {
     "name": "stdout",
     "output_type": "stream",
     "text": [
      "The Value of P after swapping:  61\n",
      "The Value of Q after swapping:  16\n"
     ]
    }
   ],
   "source": [
    "#11\n",
    "P = int( input(\"Please enter value for P: \"))  \n",
    "Q = int( input(\"Please enter value for Q: \"))  \n",
    "   \n",
    "temp_1 = P  \n",
    "P = Q  \n",
    "Q = temp_1  \n",
    "   \n",
    "print (\"The Value of P after swapping: \", P)  \n",
    "print (\"The Value of Q after swapping: \", Q)  "
   ]
  },
  {
   "cell_type": "code",
   "execution_count": null,
   "id": "b8af7ae4-8a42-4dee-87da-f79a8909dbe8",
   "metadata": {},
   "outputs": [],
   "source": []
  }
 ],
 "metadata": {
  "kernelspec": {
   "display_name": "Python 3 (ipykernel)",
   "language": "python",
   "name": "python3"
  },
  "language_info": {
   "codemirror_mode": {
    "name": "ipython",
    "version": 3
   },
   "file_extension": ".py",
   "mimetype": "text/x-python",
   "name": "python",
   "nbconvert_exporter": "python",
   "pygments_lexer": "ipython3",
   "version": "3.10.8"
  }
 },
 "nbformat": 4,
 "nbformat_minor": 5
}
