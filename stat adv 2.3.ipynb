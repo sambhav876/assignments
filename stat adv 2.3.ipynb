{
 "cells": [
  {
   "cell_type": "code",
   "execution_count": null,
   "id": "c81036b9-77e3-4145-ac81-0268137dd343",
   "metadata": {},
   "outputs": [],
   "source": [
    "#question 1\n",
    "\n",
    "#Analysis of Variance (ANOVA) is a statistical technique used to compare means among different groups. To ensure the validity of ANOVA results, several assumptions must be met"
   ]
  },
  {
   "cell_type": "code",
   "execution_count": null,
   "id": "aa2eb258-3ef6-4a66-a973-19941afd1dde",
   "metadata": {},
   "outputs": [],
   "source": [
    "#question 2\n",
    "\n",
    "#one way : One-Way ANOVA is used when there is one categorical independent variable (factor) with more than two levels, and the goal is to compare the means of three or more independent groups. It helps determine whether there are any statistically significant differences among the group means.\n",
    "#two way : wo-Way ANOVA is used when there are two independent variables (factors) and the interaction between them needs to be examined. It allows researchers to assess the main effects of each factor as well as any interaction effects between the factors."
   ]
  },
  {
   "cell_type": "code",
   "execution_count": null,
   "id": "621f11f8-899e-43a1-95fa-b5aa751c294d",
   "metadata": {},
   "outputs": [],
   "source": [
    "#question 3\n",
    "\n",
    "\n",
    "#The partitioning of variance in Analysis of Variance (ANOVA) refers to the decomposition of the total variance observed in a dataset into different components, each associated with specific sources of variation. Understanding this concept is crucial for interpreting ANOVA results and gaining insights into the factors contributing to variability in the dependent variable."
   ]
  },
  {
   "cell_type": "code",
   "execution_count": 2,
   "id": "f95047a5-057a-4de6-8fcd-6869516afb92",
   "metadata": {},
   "outputs": [
    {
     "name": "stdout",
     "output_type": "stream",
     "text": [
      "Total Sum of Squares (SST): 751.7333333333333\n",
      "Explained Sum of Squares (SSE): 189.2\n",
      "Residual Sum of Squares (SSR): 562.5333333333333\n",
      "F-statistic: 17.83932346723044\n",
      "P-value: 0.00025418150307913084\n"
     ]
    }
   ],
   "source": [
    "#question 4\n",
    "\n",
    "#import numpy as np\n",
    "from scipy.stats import f_oneway\n",
    "import numpy as np\n",
    "# Example data (replace this with your actual data)\n",
    "group1 = [25, 30, 28, 35, 32]\n",
    "group2 = [20, 22, 18, 25, 28]\n",
    "group3 = [15, 12, 10, 18, 20]\n",
    "\n",
    "# Combine the data into a single array\n",
    "data = np.concatenate([group1, group2, group3])\n",
    "\n",
    "# Create corresponding group labels\n",
    "labels = ['Group 1'] * len(group1) + ['Group 2'] * len(group2) + ['Group 3'] * len(group3)\n",
    "\n",
    "# Perform one-way ANOVA\n",
    "result = f_oneway(group1, group2, group3)\n",
    "\n",
    "# Extract ANOVA components\n",
    "SST = np.sum((data - np.mean(data))**2)  # Total Sum of Squares\n",
    "SSE = np.sum([(x - np.mean(group))**2 for group in [group1, group2, group3] for x in group])  # Explained Sum of Squares\n",
    "SSR = SST - SSE  # Residual Sum of Squares\n",
    "\n",
    "# Print the results\n",
    "print(\"Total Sum of Squares (SST):\", SST)\n",
    "print(\"Explained Sum of Squares (SSE):\", SSE)\n",
    "print(\"Residual Sum of Squares (SSR):\", SSR)\n",
    "print(\"F-statistic:\", result.statistic)\n",
    "print(\"P-value:\", result.pvalue)\n"
   ]
  },
  {
   "cell_type": "code",
   "execution_count": 3,
   "id": "904dc565-a29e-4c4f-b57b-6f08c376f0fc",
   "metadata": {},
   "outputs": [
    {
     "name": "stdout",
     "output_type": "stream",
     "text": [
      "Main Effect of Factor 1: 0.04993065184993998\n",
      "Main Effect of Factor 2: 0.0718365827707234\n",
      "Interaction Effect: 0.06921433247897242\n"
     ]
    }
   ],
   "source": [
    "#question 5\n",
    "\n",
    "import numpy as np\n",
    "import pandas as pd\n",
    "import statsmodels.api as sm\n",
    "from statsmodels.formula.api import ols\n",
    "\n",
    "# Example data (replace this with your actual data)\n",
    "np.random.seed(42)  # for reproducibility\n",
    "data = pd.DataFrame({\n",
    "    'Factor1': np.repeat(['A', 'B', 'C'], 10),\n",
    "    'Factor2': np.tile(['X', 'Y'], 15),\n",
    "    'Response': np.random.rand(30)\n",
    "})\n",
    "\n",
    "# Fit a two-way ANOVA model\n",
    "model = ols('Response ~ Factor1 * Factor2', data=data).fit()\n",
    "anova_table = sm.stats.anova_lm(model, typ=2)  # Type 2 ANOVA\n",
    "\n",
    "# Extract main effects and interaction effects\n",
    "main_effect_factor1 = anova_table['sum_sq']['Factor1'] / anova_table['df']['Factor1']\n",
    "main_effect_factor2 = anova_table['sum_sq']['Factor2'] / anova_table['df']['Factor2']\n",
    "interaction_effect = anova_table['sum_sq']['Factor1:Factor2'] / anova_table['df']['Factor1:Factor2']\n",
    "\n",
    "# Print the results\n",
    "print(\"Main Effect of Factor 1:\", main_effect_factor1)\n",
    "print(\"Main Effect of Factor 2:\", main_effect_factor2)\n",
    "print(\"Interaction Effect:\", interaction_effect)\n"
   ]
  },
  {
   "cell_type": "code",
   "execution_count": null,
   "id": "5203db74-3a01-4c2a-b781-5f8435e0460e",
   "metadata": {},
   "outputs": [],
   "source": [
    "#question 6\n",
    "\n",
    "#a one-way ANOVA, the F-statistic is used to test the null hypothesis that the means of the groups are equal. The associated p-value indicates the probability of obtaining an F-statistic as extreme as the one observed, assuming the null hypothesis is true. In your case, you obtained an F-statistic of 5.23 and a p-value of 0.02"
   ]
  },
  {
   "cell_type": "code",
   "execution_count": null,
   "id": "c15aca90-e5d6-442c-bd61-a04e0a11c4fc",
   "metadata": {},
   "outputs": [],
   "source": [
    "#question 7\n",
    "\n",
    "#Handling missing data in a repeated measures ANOVA is an important consideration to ensure the validity of the results. The approach you choose can influence the accuracy of your findings and the conclusions drawn from the analysis"
   ]
  },
  {
   "cell_type": "code",
   "execution_count": null,
   "id": "df3c4f7f-4565-4dd8-a4ef-a37b403756ee",
   "metadata": {},
   "outputs": [],
   "source": [
    "#question 8\n",
    "\n",
    "#NOVA results indicate a significant difference among the teaching methods. In this case, a post-hoc test, such as Tukey's HSD or Bonferroni correction, would be necessary to identify which pairs of teaching methods have significantly different mean exam scores, providing more detailed insights into the specific group differences."
   ]
  },
  {
   "cell_type": "code",
   "execution_count": null,
   "id": "8c4b8e45-4eeb-4956-9886-c667391d3a5d",
   "metadata": {},
   "outputs": [],
   "source": [
    "#questio"
   ]
  }
 ],
 "metadata": {
  "kernelspec": {
   "display_name": "Python 3 (ipykernel)",
   "language": "python",
   "name": "python3"
  },
  "language_info": {
   "codemirror_mode": {
    "name": "ipython",
    "version": 3
   },
   "file_extension": ".py",
   "mimetype": "text/x-python",
   "name": "python",
   "nbconvert_exporter": "python",
   "pygments_lexer": "ipython3",
   "version": "3.10.8"
  }
 },
 "nbformat": 4,
 "nbformat_minor": 5
}
