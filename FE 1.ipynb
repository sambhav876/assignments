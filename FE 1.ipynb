{
 "cells": [
  {
   "cell_type": "code",
   "execution_count": null,
   "id": "79e462ab-c41f-4d24-8614-ec86548ea94d",
   "metadata": {},
   "outputs": [],
   "source": [
    "#question 1\n",
    "\n",
    "#The filter method in feature selection is a technique used to select a subset of relevant features from a larger set of features based on certain statistical measures or scores. This method evaluates each feature independently of the others and ranks them according to a specific criterion, such as correlation, mutual information, chi-square statistics, etc. "
   ]
  },
  {
   "cell_type": "code",
   "execution_count": null,
   "id": "8b158990-7589-4ddc-9bc5-31d30214c9c7",
   "metadata": {},
   "outputs": [],
   "source": [
    "#question 2\n",
    "\n",
    "#The filter method evaluates the relevance of features by considering their individual characteristics, such as correlation, mutual information, or statistical tests, without involving a machine learning model.\n",
    "#The wrapper method incorporates a machine learning model to evaluate the performance of different subsets of features. It uses the performance of the model as a criterion for selecting features."
   ]
  },
  {
   "cell_type": "code",
   "execution_count": null,
   "id": "6a8af976-cebd-49c0-b0b5-8c641542fcb7",
   "metadata": {},
   "outputs": [],
   "source": [
    "#question 3\n",
    "\n",
    "#LASSO (Least Absolute Shrinkage and Selection Operator), Ridge Regression, Elastic Net, Decision Tree-based Methods"
   ]
  },
  {
   "cell_type": "code",
   "execution_count": null,
   "id": "f1a56f30-806e-45ec-a582-f774aa8b8f84",
   "metadata": {},
   "outputs": [],
   "source": [
    "#question 4\n",
    "\n",
    "#Ignores Feature Interactions, Doesn't Consider Model Performance, Sensitive to Irrelevant Features, No Consideration of Feature Redundancy"
   ]
  },
  {
   "cell_type": "code",
   "execution_count": null,
   "id": "8c74c149-4927-48ac-bd71-fb401534babf",
   "metadata": {},
   "outputs": [],
   "source": [
    "#question 5\n",
    "\n",
    "#High-Dimensional Datasets, Quick Preprocessing Step, Independence of Features, Exploratory Data Analysis, imple Benchmarking"
   ]
  },
  {
   "cell_type": "code",
   "execution_count": null,
   "id": "31fe2e6c-e1b0-4450-89d7-d46c09b8762f",
   "metadata": {},
   "outputs": [],
   "source": [
    "#question 6\n",
    "\n"
   ]
  }
 ],
 "metadata": {
  "kernelspec": {
   "display_name": "Python 3 (ipykernel)",
   "language": "python",
   "name": "python3"
  },
  "language_info": {
   "codemirror_mode": {
    "name": "ipython",
    "version": 3
   },
   "file_extension": ".py",
   "mimetype": "text/x-python",
   "name": "python",
   "nbconvert_exporter": "python",
   "pygments_lexer": "ipython3",
   "version": "3.10.8"
  }
 },
 "nbformat": 4,
 "nbformat_minor": 5
}
