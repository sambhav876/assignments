{
 "cells": [
  {
   "cell_type": "code",
   "execution_count": null,
   "id": "14b88dad-1ee3-4795-a537-32b174a518a4",
   "metadata": {},
   "outputs": [],
   "source": [
    "q1) #multiprocessing refers to capablity of the operating systems to run multi processes concurrently. its uses are parallel processing, concurrency, improved performance , isolation "
   ]
  },
  {
   "cell_type": "code",
   "execution_count": null,
   "id": "70c9b05e-c510-4e00-853d-676c1bb4f897",
   "metadata": {},
   "outputs": [],
   "source": [
    "q2) #main difference is that multithreading involves running multiple threads within a single process and multiprocessing involves running multiple processes where each process has its own memory."
   ]
  },
  {
   "cell_type": "code",
   "execution_count": null,
   "id": "2e8961e3-33d5-47e0-89c1-1ba36f8caf16",
   "metadata": {},
   "outputs": [],
   "source": [
    "import multiprocessing \n",
    "\n",
    "def print_hello():\n",
    "    print(\"hello from process\")\n",
    "    \n",
    "if __name__ =\"__main__\":\n",
    "    new_processes = multiprocessing .process(target=print_hello)\n",
    "    \n",
    "    new_process.start()\n",
    "    \n",
    "    new_process.join()\n",
    "    \n",
    "    print(\"main process continues to execute\")"
   ]
  },
  {
   "cell_type": "code",
   "execution_count": null,
   "id": "3efed433-512e-4487-a222-45eedf82b18a",
   "metadata": {},
   "outputs": [],
   "source": [
    "q4) #'pool' is a way to create a pool of worker processes that can be used to parallelize the execution of a function across a large data set.it helps to take multiple advantages of multi-core processor  "
   ]
  },
  {
   "cell_type": "code",
   "execution_count": null,
   "id": "630c89e3-b28b-4a93-ba30-0b259c3ec464",
   "metadata": {},
   "outputs": [],
   "source": [
    "import multiprocessing \n",
    "\n",
    "def worker_function(number):\n",
    "    return number * number \n",
    "if __name__ =\"__main__\":\n",
    "    with multiprocessing.Pool(processes=4)\n",
    "    numbers = [1,2,"
   ]
  }
 ],
 "metadata": {
  "kernelspec": {
   "display_name": "Python 3 (ipykernel)",
   "language": "python",
   "name": "python3"
  },
  "language_info": {
   "codemirror_mode": {
    "name": "ipython",
    "version": 3
   },
   "file_extension": ".py",
   "mimetype": "text/x-python",
   "name": "python",
   "nbconvert_exporter": "python",
   "pygments_lexer": "ipython3",
   "version": "3.10.8"
  }
 },
 "nbformat": 4,
 "nbformat_minor": 5
}
