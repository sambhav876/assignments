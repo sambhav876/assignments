{
 "cells": [
  {
   "cell_type": "code",
   "execution_count": null,
   "id": "9cea150d-89ca-4113-a2be-46d9e366638e",
   "metadata": {},
   "outputs": [],
   "source": [
    "#question 1\n",
    "\n",
    "#The key features of a wine quality dataset can vary, but in a typical wine quality dataset, you might find features related to both chemical composition and sensory characteristics of the wines. Below are some common features and their importance in predicting the quality of wine:"
   ]
  },
  {
   "cell_type": "code",
   "execution_count": null,
   "id": "93afde33-a933-4d0c-84ed-9e8266200b74",
   "metadata": {},
   "outputs": [],
   "source": [
    "#question 2\n",
    "\n",
    "#Handling missing data is a crucial step in the feature engineering process to ensure that the dataset used for analysis and modeling is complete and accurate. There are several techniques for handling missing data, each with its own advantages and disadvantages"
   ]
  },
  {
   "cell_type": "code",
   "execution_count": null,
   "id": "4c355d83-6ed1-4624-9ee7-53c1e93d338f",
   "metadata": {},
   "outputs": [],
   "source": [
    "#question 3\n",
    "\n",
    "#Students' performance in exams is influenced by a combination of various factors. Analyzing these factors using statistical techniques can help identify patterns, relationships, and potential areas for improvement. \n",
    "#study time, attendance, study habits, academic performance, motivation, sleep quality, class size "
   ]
  },
  {
   "cell_type": "code",
   "execution_count": null,
   "id": "1f249c37-1789-4997-a7a0-c617d77a8691",
   "metadata": {},
   "outputs": [],
   "source": [
    "#question 4\n",
    "\n",
    "#Feature engineering is a critical step in the data preprocessing phase that involves creating new features or modifying existing ones to improve the performance of a machine learning model. In the context of a student performance dataset, the goal is to identify and create relevant features that can contribute to the predictive power of the model, Exploratory Data Analysis (EDA), Handling Missing Data, Encoding Categorical Variables, Creating New Features"
   ]
  },
  {
   "cell_type": "code",
   "execution_count": null,
   "id": "9f932033-a3d5-4e1f-851b-55fc049a69a1",
   "metadata": {},
   "outputs": [],
   "source": []
  }
 ],
 "metadata": {
  "kernelspec": {
   "display_name": "Python 3 (ipykernel)",
   "language": "python",
   "name": "python3"
  },
  "language_info": {
   "codemirror_mode": {
    "name": "ipython",
    "version": 3
   },
   "file_extension": ".py",
   "mimetype": "text/x-python",
   "name": "python",
   "nbconvert_exporter": "python",
   "pygments_lexer": "ipython3",
   "version": "3.10.8"
  }
 },
 "nbformat": 4,
 "nbformat_minor": 5
}
