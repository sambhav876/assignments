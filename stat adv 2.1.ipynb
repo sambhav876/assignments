{
 "cells": [
  {
   "cell_type": "code",
   "execution_count": null,
   "id": "9bedda75-01d6-4ae0-9e5b-5ce22be187c5",
   "metadata": {},
   "outputs": [],
   "source": [
    "#question 1\n",
    "\n",
    "#Both t-tests and z-tests are statistical methods used to make inferences about population parameters based on sample data. However, there are key differences between the two, primarily related to the type of data and the available information about the population."
   ]
  },
  {
   "cell_type": "code",
   "execution_count": null,
   "id": "e223a093-bede-4464-aa1c-e0ab4500ed4b",
   "metadata": {},
   "outputs": [],
   "source": [
    "#question 2\n",
    "\n",
    "#One-tailed and two-tailed tests refer to the directional nature of a statistical hypothesis test. These terms are particularly relevant in the context of hypothesis testing, where you are trying to determine if there is a significant difference or relationship in a population based on sample data."
   ]
  },
  {
   "cell_type": "code",
   "execution_count": null,
   "id": "f4d72c69-f8b3-43ad-a68e-3fe5072e13ae",
   "metadata": {},
   "outputs": [],
   "source": [
    "#question 3\n",
    "\n",
    "#type 1 error : error occurs when the null hypothesis is incorrectly rejected when it is actually true. In other words, it is the error of concluding that there is a significant effect or difference when there is none.\n",
    "#type 2 error : ype II error occurs when the null hypothesis is incorrectly not rejected when it is actually false. In other words, it is the error of failing to detect a significant effect or difference when one exists."
   ]
  },
  {
   "cell_type": "code",
   "execution_count": null,
   "id": "5ea3895e-32e1-4375-bbb0-42ec8f891f40",
   "metadata": {},
   "outputs": [],
   "source": [
    "#question 4\n",
    "\n",
    "#Bayes's theorem is a fundamental concept in probability theory and statistics that allows us to update our beliefs or probabilities based on new evidence. It is named after Thomas Bayes, an 18th-century statistician and theologian. The theorem is particularly useful in Bayesian statistics, where it forms the foundation for updating probabilities in light of new information."
   ]
  },
  {
   "cell_type": "code",
   "execution_count": null,
   "id": "8c980c60-8068-48bd-a6f3-82d3050ac5be",
   "metadata": {},
   "outputs": [],
   "source": [
    "#question 5\n",
    "\n",
    "#A confidence interval is a statistical concept used to estimate a range of values that is likely to include an unknown population parameter, such as a population mean or proportion. It provides a range of plausible values rather than a single point estimate, along with a certain level of confidence that the true parameter lies within that interval."
   ]
  },
  {
   "cell_type": "code",
   "execution_count": null,
   "id": "036fb9ad-c039-4987-8b11-87a37fb7b658",
   "metadata": {},
   "outputs": [],
   "source": [
    "#question 6\n",
    "\n",
    "#Suppose there is a diagnostic test for a rare disease, and the prevalence of the disease in the population is 1%. The test has a sensitivity of 95% (true positive rate) and a specificity of 90% (true negative rate). If a person tests positive, what is the probability that they actually have the disease?\n",
    "# conclusion : Bayes' Theorem allows us to update our beliefs about the probability of an event based on new evidence, which is especially important in fields like medicine and diagnostics."
   ]
  },
  {
   "cell_type": "code",
   "execution_count": null,
   "id": "562c1d7e-5fcf-4eb0-9ea7-6a5e6c69c472",
   "metadata": {},
   "outputs": [],
   "source": [
    "#question 7\n",
    "\n",
    "#With a 95% confidence level, we can say that we are 95% confident that the true population mean lies within the calculated interval. In this case, the confidence interval would be expressed as \"We are 95% confident that the true population mean is between [lower bound, upper bound].\""
   ]
  },
  {
   "cell_type": "code",
   "execution_count": null,
   "id": "59d0545d-1052-46db-8a15-9b7c847a1328",
   "metadata": {},
   "outputs": [],
   "source": [
    "#question 8\n",
    "\n",
    "#The margin of error (MOE) in a confidence interval represents the range within which we expect the true population parameter to lie. It is calculated based on the standard error of the sample mean and is influenced by the desired confidence level and the variability in the sample data."
   ]
  },
  {
   "cell_type": "code",
   "execution_count": null,
   "id": "ec417f81-89f6-4892-b32c-0741e4051004",
   "metadata": {},
   "outputs": [],
   "source": [
    "#question 9\n",
    "\n",
    "#"
   ]
  }
 ],
 "metadata": {
  "kernelspec": {
   "display_name": "Python 3 (ipykernel)",
   "language": "python",
   "name": "python3"
  },
  "language_info": {
   "codemirror_mode": {
    "name": "ipython",
    "version": 3
   },
   "file_extension": ".py",
   "mimetype": "text/x-python",
   "name": "python",
   "nbconvert_exporter": "python",
   "pygments_lexer": "ipython3",
   "version": "3.10.8"
  }
 },
 "nbformat": 4,
 "nbformat_minor": 5
}
