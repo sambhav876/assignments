{
 "cells": [
  {
   "cell_type": "code",
   "execution_count": 1,
   "id": "e09e456d-a27e-47e9-a519-25f3d0c1122f",
   "metadata": {},
   "outputs": [
    {
     "name": "stdout",
     "output_type": "stream",
     "text": [
      "95% Confidence Interval: (48.210805856282846, 51.789194143717154)\n"
     ]
    }
   ],
   "source": [
    "#question 1\n",
    "\n",
    "import scipy.stats as stats\n",
    "\n",
    "# Sample data\n",
    "mean = 50\n",
    "std_dev = 5\n",
    "sample_size = 30  # You should replace this with the actual sample size\n",
    "\n",
    "# Calculate standard error\n",
    "standard_error = std_dev / (sample_size**0.5)\n",
    "\n",
    "# Calculate confidence interval\n",
    "confidence_interval = stats.norm.interval(0.95, loc=mean, scale=standard_error)\n",
    "\n",
    "print(\"95% Confidence Interval:\", confidence_interval)\n"
   ]
  },
  {
   "cell_type": "code",
   "execution_count": 2,
   "id": "708a3c16-9525-4416-ad6c-8158b70e83da",
   "metadata": {},
   "outputs": [
    {
     "name": "stdout",
     "output_type": "stream",
     "text": [
      "Chi-square statistic: 2.475262690316455\n",
      "P-value: 0.780215863682564\n",
      "Degrees of freedom: 5\n",
      "Expected frequencies: [[  20.04950495   19.95049505   20.           10.           10.\n",
      "    20.        ]\n",
      " [2004.95049505 1995.04950495 2000.         1000.         1000.\n",
      "  2000.        ]]\n",
      "There is no significant difference between the observed and expected distributions of M&M colors.\n"
     ]
    }
   ],
   "source": [
    "#question 2\n",
    "\n",
    "import numpy as np\n",
    "from scipy.stats import chi2_contingency\n",
    "\n",
    "# Observed frequencies of colors in the bag\n",
    "observed_frequencies = np.array([25, 15, 20, 10, 10, 20])  # Update this with your actual observed data\n",
    "\n",
    "# Expected frequencies based on the expected distribution\n",
    "expected_frequencies = np.array([0.2, 0.2, 0.2, 0.1, 0.1, 0.2]) * np.sum(observed_frequencies)\n",
    "\n",
    "# Perform the chi-square goodness-of-fit test\n",
    "chi2_stat, p_value, dof, expected = chi2_contingency([observed_frequencies, expected_frequencies * np.sum(observed_frequencies)])\n",
    "\n",
    "# Output results\n",
    "print(\"Chi-square statistic:\", chi2_stat)\n",
    "print(\"P-value:\", p_value)\n",
    "print(\"Degrees of freedom:\", dof)\n",
    "print(\"Expected frequencies:\", expected)\n",
    "\n",
    "# Compare p-value with the significance level (0.05)\n",
    "if p_value < 0.05:\n",
    "    print(\"The distribution of M&M colors in the bag is significantly different from the expected distribution.\")\n",
    "else:\n",
    "    print(\"There is no significant difference between the observed and expected distributions of M&M colors.\")\n",
    "\n",
    "    "
   ]
  },
  {
   "cell_type": "code",
   "execution_count": 3,
   "id": "5a2c1a33-3e16-42cd-90bf-9e52ddec50df",
   "metadata": {},
   "outputs": [
    {
     "name": "stdout",
     "output_type": "stream",
     "text": [
      "Chi-square statistic: 2.475262690316455\n",
      "P-value: 0.780215863682564\n",
      "Degrees of freedom: 5\n",
      "Expected frequencies: [[  20.04950495   19.95049505   20.           10.           10.\n",
      "    20.        ]\n",
      " [2004.95049505 1995.04950495 2000.         1000.         1000.\n",
      "  2000.        ]]\n",
      "There is no significant difference between the observed and expected distributions of M&M colors.\n"
     ]
    }
   ],
   "source": [
    "#question 4\n",
    "\n",
    "import numpy as np\n",
    "from scipy.stats import chi2_contingency\n",
    "\n",
    "# Observed frequencies of colors in the bag\n",
    "observed_frequencies = np.array([25, 15, 20, 10, 10, 20])  # Update this with your actual observed data\n",
    "\n",
    "# Expected frequencies based on the expected distribution\n",
    "expected_frequencies = np.array([0.2, 0.2, 0.2, 0.1, 0.1, 0.2]) * np.sum(observed_frequencies)\n",
    "\n",
    "# Perform the chi-square goodness-of-fit test\n",
    "chi2_stat, p_value, dof, expected = chi2_contingency([observed_frequencies, expected_frequencies * np.sum(observed_frequencies)])\n",
    "\n",
    "# Output results\n",
    "print(\"Chi-square statistic:\", chi2_stat)\n",
    "print(\"P-value:\", p_value)\n",
    "print(\"Degrees of freedom:\", dof)\n",
    "print(\"Expected frequencies:\", expected)\n",
    "\n",
    "# Compare p-value with the significance level (0.05)\n",
    "if p_value < 0.05:\n",
    "    print(\"The distribution of M&M colors in the bag is significantly different from the expected distribution.\")\n",
    "else:\n",
    "    print(\"There is no significant difference between the observed and expected distributions of M&M colors.\")\n",
    "\n",
    "\n"
   ]
  },
  {
   "cell_type": "code",
   "execution_count": 4,
   "id": "3a4289fb-432d-42ff-ad62-44240e0285b7",
   "metadata": {},
   "outputs": [
    {
     "name": "stdout",
     "output_type": "stream",
     "text": [
      "90% Confidence Interval: (71.39630625889797, 78.60369374110203)\n"
     ]
    }
   ],
   "source": [
    "#question 5\n",
    "\n",
    "\n",
    "import scipy.stats as stats\n",
    "\n",
    "# Sample data\n",
    "mean = 75\n",
    "std_dev = 12\n",
    "sample_size = 30  # You should replace this with the actual sample size\n",
    "\n",
    "# Calculate standard error\n",
    "standard_error = std_dev / (sample_size**0.5)\n",
    "\n",
    "# Calculate confidence interval\n",
    "confidence_interval = stats.norm.interval(0.90, loc=mean, scale=standard_error)\n",
    "\n",
    "print(\"90% Confidence Interval:\", confidence_interval)\n"
   ]
  },
  {
   "cell_type": "code",
   "execution_count": null,
   "id": "7d42b7d5-7acd-45d8-9ff7-1362719480e6",
   "metadata": {},
   "outputs": [],
   "source": [
    "#question 6\n",
    "\n",
    "\n",
    "import numpy as np\n",
    "import matplotlib.pyplot as plt\n",
    "import scipy.stats as stats\n",
    "\n",
    "# Degrees of freedom\n",
    "df = 10\n",
    "\n",
    "# Generate x values\n",
    "x = np.linspace(0, 30, 1000)\n",
    "\n",
    "# Plot the chi-square distribution\n",
    "plt.plot(x, stats.chi2.pdf(x, df), label=f'Chi-square Distribution (df={df})')\n",
    "\n",
    "# Shade the area corresponding to a chi-square statistic of 15\n",
    "x_fill = np.linspace(0, 15, 100)\n",
    "plt.fill_between(x_fill, stats.chi2.pdf(x_fill, df), color='blue', alpha=0.3, label='Chi-square < 15')\n",
    "\n",
    "# Label the axes\n",
    "plt.xlabel('Chi-square Statistic')\n",
    "plt.ylabel('Probability Density Function')\n",
    "plt.title(f'Chi-square Distribution with {df} Degrees of Freedom')\n",
    "\n",
    "# Add legend\n",
    "plt.legend()\n",
    "\n",
    "# Show the plot\n",
    "plt.show()\n"
   ]
  },
  {
   "cell_type": "code",
   "execution_count": 5,
   "id": "14149020-3219-4c42-b60a-07df4db32df5",
   "metadata": {},
   "outputs": [
    {
     "ename": "AttributeError",
     "evalue": "module 'statsmodels.stats.api' has no attribute 'proportion'",
     "output_type": "error",
     "traceback": [
      "\u001b[0;31m---------------------------------------------------------------------------\u001b[0m",
      "\u001b[0;31mAttributeError\u001b[0m                            Traceback (most recent call last)",
      "Cell \u001b[0;32mIn[5], line 15\u001b[0m\n\u001b[1;32m     12\u001b[0m p_hat \u001b[38;5;241m=\u001b[39m x \u001b[38;5;241m/\u001b[39m n\n\u001b[1;32m     14\u001b[0m \u001b[38;5;66;03m# Calculate the standard error\u001b[39;00m\n\u001b[0;32m---> 15\u001b[0m se \u001b[38;5;241m=\u001b[39m \u001b[43msm\u001b[49m\u001b[38;5;241;43m.\u001b[39;49m\u001b[43mstats\u001b[49m\u001b[38;5;241;43m.\u001b[39;49m\u001b[43mproportion\u001b[49m\u001b[38;5;241m.\u001b[39mstd_prop(p_hat, n)\n\u001b[1;32m     17\u001b[0m \u001b[38;5;66;03m# Calculate the confidence interval\u001b[39;00m\n\u001b[1;32m     18\u001b[0m conf_interval \u001b[38;5;241m=\u001b[39m sm\u001b[38;5;241m.\u001b[39mstats\u001b[38;5;241m.\u001b[39mproportion_confint(x, n, alpha\u001b[38;5;241m=\u001b[39m\u001b[38;5;241m0.01\u001b[39m, method\u001b[38;5;241m=\u001b[39m\u001b[38;5;124m'\u001b[39m\u001b[38;5;124mnormal\u001b[39m\u001b[38;5;124m'\u001b[39m)\n",
      "\u001b[0;31mAttributeError\u001b[0m: module 'statsmodels.stats.api' has no attribute 'proportion'"
     ]
    }
   ],
   "source": [
    "#question 7\n",
    "\n",
    "import statsmodels.api as sm\n",
    "\n",
    "# Sample size\n",
    "n = 1000\n",
    "\n",
    "# Number of people who prefer Coke\n",
    "x = 520\n",
    "\n",
    "# Calculate the proportion\n",
    "p_hat = x / n\n",
    "\n",
    "# Calculate the standard error\n",
    "se = sm.stats.proportion.std_prop(p_hat, n)\n",
    "\n",
    "# Calculate the confidence interval\n",
    "conf_interval = sm.stats.proportion_confint(x, n, alpha=0.01, method='normal')\n",
    "\n",
    "print(f\"99% Confidence Interval: {conf_interval}\")\n"
   ]
  },
  {
   "cell_type": "code",
   "execution_count": 7,
   "id": "e9d32ebb-1def-4017-abba-ca59a80fd558",
   "metadata": {},
   "outputs": [
    {
     "name": "stdout",
     "output_type": "stream",
     "text": [
      "Chi-square statistic: 1.0\n",
      "P-value: 0.31731050786291115\n",
      "There is no significant difference between the observed and expected frequencies.\n"
     ]
    }
   ],
   "source": [
    "#question 8\n",
    "\n",
    "import numpy as np\n",
    "from scipy.stats import chisquare\n",
    "\n",
    "# Number of trials (coin flips)\n",
    "n_trials = 100\n",
    "\n",
    "# Observed frequencies\n",
    "observed_tails = 45\n",
    "observed_heads = n_trials - observed_tails\n",
    "\n",
    "observed_frequencies = np.array([observed_heads, observed_tails])\n",
    "\n",
    "# Expected frequencies for a fair coin\n",
    "expected_frequencies = np.array([n_trials / 2, n_trials / 2])\n",
    "\n",
    "# Perform the chi-square goodness-of-fit test\n",
    "chi2_stat, p_value = chisquare(observed_frequencies, f_exp=expected_frequencies)\n",
    "\n",
    "# Output results\n",
    "print(\"Chi-square statistic:\", chi2_stat)\n",
    "print(\"P-value:\", p_value)\n",
    "\n",
    "# Compare p-value with the significance level (0.05)\n",
    "if p_value < 0.05:\n",
    "    print(\"The observed frequencies significantly differ from the expected frequencies.\")\n",
    "else:\n",
    "    print(\"There is no significant difference between the observed and expected frequencies.\")\n"
   ]
  },
  {
   "cell_type": "code",
   "execution_count": null,
   "id": "93152ddb-ffe2-4043-8a3f-2aa380ace7d5",
   "metadata": {},
   "outputs": [],
   "source": [
    "#question 9\n",
    "\n"
   ]
  }
 ],
 "metadata": {
  "kernelspec": {
   "display_name": "Python 3 (ipykernel)",
   "language": "python",
   "name": "python3"
  },
  "language_info": {
   "codemirror_mode": {
    "name": "ipython",
    "version": 3
   },
   "file_extension": ".py",
   "mimetype": "text/x-python",
   "name": "python",
   "nbconvert_exporter": "python",
   "pygments_lexer": "ipython3",
   "version": "3.10.8"
  }
 },
 "nbformat": 4,
 "nbformat_minor": 5
}
