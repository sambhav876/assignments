{
 "cells": [
  {
   "cell_type": "code",
   "execution_count": null,
   "id": "a5e494b4-1956-4997-80b5-13d8a276b600",
   "metadata": {},
   "outputs": [],
   "source": [
    "abstraction is the process of hiding internal details of an application "
   ]
  },
  {
   "cell_type": "code",
   "execution_count": null,
   "id": "b27ebe8e-def8-4086-91cd-1a1f750f4210",
   "metadata": {},
   "outputs": [],
   "source": [
    "encapsulation is the way to restrict the access to components"
   ]
  },
  {
   "cell_type": "code",
   "execution_count": null,
   "id": "a169bcd1-1d3e-411e-902b-821142c69cb5",
   "metadata": {},
   "outputs": [],
   "source": [
    "abc module provides infrastructure for defining custom abstract base classes"
   ]
  },
  {
   "cell_type": "code",
   "execution_count": null,
   "id": "bc67e7ba-a776-4205-a5ab-dac6deb93e11",
   "metadata": {},
   "outputs": [],
   "source": [
    "data abstraction can be achieved by creating abstract classes and inheriting them later "
   ]
  },
  {
   "cell_type": "code",
   "execution_count": null,
   "id": "14bf272c-8e42-4e11-9f29-a9983de4e301",
   "metadata": {},
   "outputs": [],
   "source": [
    "abstract class cannot be instantiated but they can be subclassed "
   ]
  }
 ],
 "metadata": {
  "kernelspec": {
   "display_name": "Python 3 (ipykernel)",
   "language": "python",
   "name": "python3"
  },
  "language_info": {
   "codemirror_mode": {
    "name": "ipython",
    "version": 3
   },
   "file_extension": ".py",
   "mimetype": "text/x-python",
   "name": "python",
   "nbconvert_exporter": "python",
   "pygments_lexer": "ipython3",
   "version": "3.10.8"
  }
 },
 "nbformat": 4,
 "nbformat_minor": 5
}
