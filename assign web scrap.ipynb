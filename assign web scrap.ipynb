{
 "cells": [
  {
   "cell_type": "code",
   "execution_count": null,
   "id": "42ec4284-f590-40cf-adc6-fddafcf5e583",
   "metadata": {},
   "outputs": [],
   "source": [
    "#Web scraping is a technique used to extract data from websites. It involves automating the retrieval of information from web pages, parsing that data, and then saving it for various purposes. Web scraping is typically performed using software tools or scripts that simulate human web browsing to navigate websites and gather the required information. key reasons are price monitoring, data collection,news monitoring. Common areas are e-commerce, financial analysis, real estate. "
   ]
  },
  {
   "cell_type": "code",
   "execution_count": null,
   "id": "0a316f8a-0494-4bf5-8cad-100c7a5f5873",
   "metadata": {},
   "outputs": [],
   "source": [
    "#Manual Copy-Paste, Regular Expressions (Regex), Browser Extension, HTML Parsing with Libraries, Headless Browsers, API Access."
   ]
  },
  {
   "cell_type": "code",
   "execution_count": null,
   "id": "491bc629-5b43-432b-be32-be30cad8e6d8",
   "metadata": {},
   "outputs": [],
   "source": [
    "#Beautiful Soup is a Python library used for web scraping and parsing HTML and XML documents. It provides a convenient way to navigate and search the contents of web pages, extract specific data, and manipulate the parsed data. Beautiful Soup is particularly useful when you need to extract structured information from web pages, such as text, links, and other HTML elements.Here are some key reasons why Beautiful Soup is used: Parsing HTML and XML, Navigating the DOM, Searching and Filtering, Data Extraction, Handling Malformed HTML, Compatibility, "
   ]
  },
  {
   "cell_type": "code",
   "execution_count": null,
   "id": "06f6c711-491b-4cc5-a00f-b36efe8b46fd",
   "metadata": {},
   "outputs": [],
   "source": [
    "from bs4 import BeautifulSoup\n",
    "\n",
    "# Sample HTML content\n",
    "html = \"\"\"\n",
    "<html>\n",
    "    <body>\n",
    "        <h1>Web Scraping with Beautiful Soup</h1>\n",
    "        <p>This is a sample paragraph.</p>\n",
    "        <a href=\"https://example.com\">Visit Example.com</a>\n",
    "    </body>\n",
    "</html>\n",
    "\"\"\"\n",
    "\n",
    "# Parse the HTML content\n",
    "soup = BeautifulSoup(html, 'html.parser')\n",
    "\n",
    "# Extract data\n",
    "title = soup.h1.text\n",
    "paragraph = soup.p.text\n",
    "link = soup.a['href']\n",
    "\n",
    "print(\"Title:\", title)\n",
    "print(\"Paragraph:\", paragraph)\n",
    "print(\"Link:\", link)\n"
   ]
  },
  {
   "cell_type": "code",
   "execution_count": null,
   "id": "518f5bc2-0c8a-4968-8f9f-d46cdf6d8b43",
   "metadata": {},
   "outputs": [],
   "source": [
    "#Flask is a micro web framework for Python that is typically used to build web applications. While Flask is not directly related to web scraping, it can be used in a web scraping project for several reasons: Web Interface, Data Presentation, API Developmen,"
   ]
  }
 ],
 "metadata": {
  "kernelspec": {
   "display_name": "Python 3 (ipykernel)",
   "language": "python",
   "name": "python3"
  },
  "language_info": {
   "codemirror_mode": {
    "name": "ipython",
    "version": 3
   },
   "file_extension": ".py",
   "mimetype": "text/x-python",
   "name": "python",
   "nbconvert_exporter": "python",
   "pygments_lexer": "ipython3",
   "version": "3.10.8"
  }
 },
 "nbformat": 4,
 "nbformat_minor": 5
}
