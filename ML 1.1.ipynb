{
 "cells": [
  {
   "cell_type": "code",
   "execution_count": null,
   "id": "4438de61-0bb9-4645-8024-4c1280b6b23c",
   "metadata": {},
   "outputs": [],
   "source": [
    "#question 1\n",
    "\n",
    "\n",
    "#Artificial Intelligence (AI) refers to the development of computer systems that can perform tasks that typically require human intelligence. These tasks include learning, reasoning, problem-solving, perception, language understanding, and even decision-making. AI aims to create machines or software that can simulate and mimic human cognitive functions.\n",
    "#Machine Learning (ML) is a subset of artificial intelligence (AI) that focuses on the development of algorithms and statistical models that enable computer systems to improve their performance on a specific task over time without being explicitly programmed. \n",
    "#Deep learning is a subfield of machine learning that involves the use of artificial neural networks to model and solve complex tasks."
   ]
  },
  {
   "cell_type": "code",
   "execution_count": null,
   "id": "ac0a27a7-3bcc-4826-a25b-a96fdb95c851",
   "metadata": {},
   "outputs": [],
   "source": [
    "#question 2\n",
    "\n",
    "\n",
    "#Supervised learning is a type of machine learning where the algorithm is trained on a labeled dataset, meaning that the input data used for training is paired with the corresponding desired output or target. The goal of supervised learning is to learn a mapping from input data to the correct output, making predictions or classifications based on the patterns learned during training"
   ]
  },
  {
   "cell_type": "code",
   "execution_count": null,
   "id": "0cec60db-73c9-4c37-a604-96cdfe791572",
   "metadata": {},
   "outputs": [],
   "source": [
    "#question 3\n",
    "\n",
    "\n",
    "#Unsupervised learning is a type of machine learning where the algorithm is given data without explicit instructions on what to do with it. Unlike supervised learning, there are no labeled outputs provided during the training phase. The goal of unsupervised learning is to find patterns, relationships, or structures within the data without predefined categories or target values."
   ]
  },
  {
   "cell_type": "code",
   "execution_count": null,
   "id": "22de376c-73f2-4fb0-b61f-9e8779aea5d4",
   "metadata": {},
   "outputs": [],
   "source": [
    "#question 4\n",
    "\n",
    "# AI refers to the development of computer systems capable of performing tasks that typically require human intelligence. These tasks include speech recognition, problem-solving, learning, and decision-making.\n",
    "# ML is a subset of AI that focuses on the development of algorithms and statistical models that enable computers to perform tasks without explicit programming. It involves the use of data to improve the performance of a system over time.\n",
    "# Deep Learning is a specialized subset of machine learning that involves the use of neural networks with multiple layers (deep neural networks). These networks can automatically learn hierarchical representations of data and are particularly effective for tasks such as image and speech recognition.\n",
    "# Data Science involves the extraction of insights and knowledge from structured and unstructured data. It incorporates various techniques from statistics, machine learning, and domain-specific knowledge to analyze and interpret data\n"
   ]
  },
  {
   "cell_type": "code",
   "execution_count": null,
   "id": "013f0e1e-3da7-47bd-bfc5-81b56c6134e6",
   "metadata": {},
   "outputs": [],
   "source": [
    "#question \n",
    "\n",
    "\n",
    "# training dataset is the portion of the data used to train or teach the machine learning model. The model learns patterns and relationships from this dataset.\n",
    "# The testing dataset is a separate portion of the data that is not used during the training phase. It is reserved for evaluating the model's performance after it has been trained.\n",
    "# validation dataset is another independent portion of the data that is not used for training. It is used during the training phase to fine-tune the model and adjust hyperparameters\n"
   ]
  }
 ],
 "metadata": {
  "kernelspec": {
   "display_name": "Python 3 (ipykernel)",
   "language": "python",
   "name": "python3"
  },
  "language_info": {
   "codemirror_mode": {
    "name": "ipython",
    "version": 3
   },
   "file_extension": ".py",
   "mimetype": "text/x-python",
   "name": "python",
   "nbconvert_exporter": "python",
   "pygments_lexer": "ipython3",
   "version": "3.10.8"
  }
 },
 "nbformat": 4,
 "nbformat_minor": 5
}
