{
 "cells": [
  {
   "cell_type": "code",
   "execution_count": null,
   "id": "f1d4c544-4888-43b2-b135-39ea5823c774",
   "metadata": {},
   "outputs": [],
   "source": [
    "#question 1\n",
    "\n",
    "#Statistics is a branch of mathematics that involves collecting, organizing, analyzing, interpreting, presenting, and drawing conclusions from numerical data"
   ]
  },
  {
   "cell_type": "code",
   "execution_count": null,
   "id": "b34f9420-87fb-40be-9c55-514a300e1b1e",
   "metadata": {},
   "outputs": [],
   "source": [
    "#question 2\n",
    "\n",
    "#Descriptive Statistics: This branch deals with the summarization and presentation of data.\n",
    "#nferential Statistics: This branch involves using data from a sample to make inferences or draw conclusions about a population."
   ]
  },
  {
   "cell_type": "code",
   "execution_count": null,
   "id": "5dbe1549-81b1-4e9e-be5f-a90b7ddddaeb",
   "metadata": {},
   "outputs": [],
   "source": [
    "#question 3\n",
    "\n",
    "#Nominal Data:Definition: Nominal data represents categories or labels without any specific order or ranking.\n",
    "#Ordinal Data:Definition: Ordinal data involves categories with a meaningful order but the intervals between them are not consistent or meaningful.\n",
    "#Interval Data:Definition: Interval data has consistent intervals between values, but there is no true zero point.\n",
    "#Ratio Data:Definition: Ratio data has a consistent interval between values, and it has a true zero point, which indicates the absence of the quantity."
   ]
  },
  {
   "cell_type": "code",
   "execution_count": null,
   "id": "4221998c-d9c8-46fe-bd03-94387ba76bcf",
   "metadata": {},
   "outputs": [],
   "source": [
    "#question 4\n",
    "\n",
    "#(i) Grading in exam: A+, A, B+, B, C+, C, D, E\n",
    "#Type: Qualitative data (Ordinal)\n",
    "\n",
    "#(ii) Colour of mangoes: yellow, green, orange, red\n",
    "#Type: Qualitative data (Nominal)\n",
    "\n",
    "#(iii) Height data of a class: [178.9, 179, 179.5, 176, 177.2, 178.3, 175.8,...]\n",
    "#Type: Quantitative data (Ratio)\n",
    "\n",
    "#(iv) Number of mangoes exported by a farm: [500, 600, 478, 672, ...]\n",
    "#Type: Quantitative data (Ratio)"
   ]
  },
  {
   "cell_type": "code",
   "execution_count": null,
   "id": "28fdd61b-de0d-43e6-b830-b4afad1ba6a9",
   "metadata": {},
   "outputs": [],
   "source": [
    "#question 5\n",
    "\n",
    "#Levels of measurement, also known as scales of measurement, refer to the way in which variables are measured or classified. There are four main levels of measurement: nominal, ordinal, interval, and ratio.\n",
    "#Nominal: Categories with no order (e.g., gender).\n",
    "#Ordinal: Categories with a meaningful order but inconsistent intervals (e.g., education level).\n",
    "#Interval: Consistent intervals but an arbitrary zero point (e.g., temperature).\n",
    "#Ratio: Consistent intervals, a true zero point, and meaningful ratios (e.g., height)."
   ]
  },
  {
   "cell_type": "code",
   "execution_count": null,
   "id": "93ceaf0d-7120-4730-aefe-701a3116b90f",
   "metadata": {},
   "outputs": [],
   "source": [
    "#question 6 \n",
    "\n",
    "#Understanding the level of measurement is crucial when analyzing data because it determines the appropriate statistical analyses that can be applied and the meaningful interpretations that can be made. Different statistical techniques are suitable for different levels of measurement, and using the wrong method may lead to inaccurate conclusions. Here's an example to illustrate the importance of understanding the level of measurement:\n",
    "\n",
    "#Suppose we have data on the temperatures of different cities recorded in Celsius and want to compare the average temperatures between two cities, A and B. The data for both cities are as follows:\n",
    "\n",
    "City A: [20, 22, 23, 18, 21]\n",
    "City B: [25, 27, 24, 28, 26]\n",
    "\n",
    "Now, let's consider two scenarios:\n",
    "\n",
    "Scenario 1 (Interval Data):\n",
    "\n",
    "If the temperature data were interval data (e.g., recorded in Celsius), we could use statistical techniques such as the mean and standard deviation to describe and compare the data. In this case, we might calculate the average temperature for each city.\n",
    "\n",
    "City A mean temperature: (20 + 22 + 23 + 18 + 21) / 5 = 20.8°C\n",
    "\n",
    "City B mean temperature: (25 + 27 + 24 + 28 + 26) / 5 = 26°C\n",
    "\n",
    "We can interpret the difference (5.2°C) as a meaningful temperature gap between the two cities.\n",
    "\n",
    "Scenario 2 (Nominal Data):\n",
    "\n",
    "However, if the temperature data were nominal (e.g., categorized as \"Hot,\" \"Warm,\" \"Cool\"), using the mean would not make sense because there is no meaningful numerical representation. We could only describe the mode or percentages of each category.\n",
    "\n",
    "If we mistakenly treated the temperature data as nominal, we might draw incorrect conclusions about the average temperatures of the cities."
   ]
  },
  {
   "cell_type": "code",
   "execution_count": null,
   "id": "e521e5aa-c0bf-4c28-a67a-6a1ee341d24a",
   "metadata": {},
   "outputs": [],
   "source": [
    "#question 7\n",
    "\n",
    "#Nominal Data:Definition: Nominal data consists of categories or labels with no inherent order or ranking.\n",
    "#Characteristics:Categories are mutually exclusive and exhaustive.No meaningful order or ranking exists among the categories.The only operation allowed is counting or tallying frequencies.\n",
    "#Examples: Gender (male, female), Eye color (blue, brown, green), Marital status (single, married, divorced).\n",
    "\n",
    "\n",
    "#Ordinal Data:\n",
    "\n",
    "Definition: Ordinal data consists of categories with a meaningful order or ranking, but the intervals between them are not consistent or meaningful.\n",
    "Characteristics:\n",
    "Categories have a meaningful order, indicating more or less, but the intervals are not uniform.\n",
    "Relative ranking or position is known, but the difference between ranks may not be consistent.\n",
    "Operations like ranking, ordering, and making comparisons are allowed, but arithmetic operations (e.g., addition or subtraction) are not meaningful.\n",
    "Examples: Education level (high school, bachelor's, master's, Ph.D.), Economic status "
   ]
  }
 ],
 "metadata": {
  "kernelspec": {
   "display_name": "Python 3 (ipykernel)",
   "language": "python",
   "name": "python3"
  },
  "language_info": {
   "codemirror_mode": {
    "name": "ipython",
    "version": 3
   },
   "file_extension": ".py",
   "mimetype": "text/x-python",
   "name": "python",
   "nbconvert_exporter": "python",
   "pygments_lexer": "ipython3",
   "version": "3.10.8"
  }
 },
 "nbformat": 4,
 "nbformat_minor": 5
}
