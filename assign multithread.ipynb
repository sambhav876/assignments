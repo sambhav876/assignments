{
 "cells": [
  {
   "cell_type": "code",
   "execution_count": null,
   "id": "4aff423c-aee2-4d84-9b55-a8ce84c2a0bd",
   "metadata": {},
   "outputs": [],
   "source": [
    "q1) #multithreading refers to concurrent execution of multiple threads top perform simultaneously"
   ]
  },
  {
   "cell_type": "code",
   "execution_count": null,
   "id": "0d6c97bb-6a0f-475f-afca-c5771d9bc5a5",
   "metadata": {},
   "outputs": [],
   "source": [
    "import threading\n",
    "\n",
    "def print_numbers():\n",
    "    for i in range (1,6):\n",
    "        print (i)\n",
    "        \n",
    "#create thread \n",
    "thread = threading.Thread(target=print_numbers)\n",
    "\n",
    "#start the thread\n",
    "thread.start()\n",
    "\n",
    "#wait to finish\n",
    "thread.join()\n",
    "\n",
    "print(\"thread execution is complete.\")"
   ]
  },
  {
   "cell_type": "code",
   "execution_count": null,
   "id": "a2a7a3a5-0863-461b-9353-04a60167dfc5",
   "metadata": {},
   "outputs": [],
   "source": [
    "q2) #threading module is used for creating , controlling, and managing threads in multithreaded environment"
   ]
  },
  {
   "cell_type": "code",
   "execution_count": null,
   "id": "8d598b40-e914-402f-a57f-6b949c4acfa9",
   "metadata": {},
   "outputs": [],
   "source": [
    "#acitve thread\n",
    "import threading \n",
    "\n",
    "print(\"active threads:\", threading.active_count())"
   ]
  },
  {
   "cell_type": "code",
   "execution_count": null,
   "id": "dff5429a-832a-491b-b247-971f0e70cbad",
   "metadata": {},
   "outputs": [],
   "source": [
    "#Current thread\n",
    "\n",
    "import threading \n",
    "\n",
    "current_thread = threading.current_thread()\n",
    "print(\"Current thread:\", current_thread.name)"
   ]
  },
  {
   "cell_type": "code",
   "execution_count": null,
   "id": "c0409a1b-a9a3-4e08-b2b3-006ba8caa98b",
   "metadata": {},
   "outputs": [],
   "source": [
    "#enumerate\n",
    "import threading\n",
    "\n",
    "threads = threading.enumerate()\n",
    "print(\"list of active threads:\")\n",
    "for thread in threads:\n",
    "    print(thread.name)"
   ]
  },
  {
   "cell_type": "code",
   "execution_count": null,
   "id": "d903fd68-b32b-4f92-a76f-695d87168cda",
   "metadata": {},
   "outputs": [],
   "source": [
    "q3) # RUN() : it is the method to define that he task the threads will execute\n",
    "\n",
    "#start() : this method is to begin the execution of thread\n",
    "\n",
    "#join() : this method is used to wait for thread to complete its execution\n",
    "\n",
    "#isAlive() : it checks that thread is still running or not"
   ]
  },
  {
   "cell_type": "code",
   "execution_count": null,
   "id": "aa13f10f-ea45-4f05-9a7c-2ba74496b57e",
   "metadata": {},
   "outputs": [],
   "source": [
    "import threading \n",
    "\n",
    "def print_squares():\n",
    "    for i in range(1 ,6):\n",
    "        print(\"square of {i}: {i*i}\")\n",
    "        \n",
    "        \n",
    "def create_cubes():\n",
    "    cube_list = []\n",
    "    for i in range(1 , 6):\n",
    "        cube_lit.appeand (i*i*i)\n",
    "        print(\"list of cubes: {cube_list}\")"
   ]
  },
  {
   "cell_type": "code",
   "execution_count": null,
   "id": "961d02c8-af2f-4822-9e0e-a61e1107086a",
   "metadata": {},
   "outputs": [],
   "source": [
    "q5) #advantages and disadvantages of threading\n",
    "\n",
    "#advantage: responsiveness , resource sharing, efficiency, simplified programming \n",
    "\n",
    "#disadvantage: complexity, difficulty in debugging, overhead"
   ]
  }
 ],
 "metadata": {
  "kernelspec": {
   "display_name": "Python 3 (ipykernel)",
   "language": "python",
   "name": "python3"
  },
  "language_info": {
   "codemirror_mode": {
    "name": "ipython",
    "version": 3
   },
   "file_extension": ".py",
   "mimetype": "text/x-python",
   "name": "python",
   "nbconvert_exporter": "python",
   "pygments_lexer": "ipython3",
   "version": "3.10.8"
  }
 },
 "nbformat": 4,
 "nbformat_minor": 5
}
