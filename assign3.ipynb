{
 "cells": [
  {
   "cell_type": "code",
   "execution_count": 1,
   "id": "5d0438ce-1a6d-4a1f-a8ff-c660988f0d04",
   "metadata": {},
   "outputs": [],
   "source": [
    "a = [1,2,3,4,5,6,7,8,9,10,11,12,13,14,15,16,17,18,19,20,21,22,23,24,25]"
   ]
  },
  {
   "cell_type": "code",
   "execution_count": 2,
   "id": "78d6964e-b278-4d7b-9756-00bb2abc3d90",
   "metadata": {},
   "outputs": [
    {
     "data": {
      "text/plain": [
       "[1, 3, 5, 7, 9, 11, 13, 15, 17, 19, 21, 23, 25]"
      ]
     },
     "execution_count": 2,
     "metadata": {},
     "output_type": "execute_result"
    }
   ],
   "source": [
    "list(filter(lambda x : x%2 != 0, a))"
   ]
  },
  {
   "cell_type": "code",
   "execution_count": 3,
   "id": "ca59bee1-e805-42a3-9e2d-6c7cc019fe5e",
   "metadata": {},
   "outputs": [],
   "source": [
    "def d1(*args):\n",
    "    return args "
   ]
  },
  {
   "cell_type": "code",
   "execution_count": null,
   "id": "48c2f172-55b3-4739-8fc2-d372b142190c",
   "metadata": {},
   "outputs": [],
   "source": [
    "def d2(**kwargs):\n",
    "    return kwargs"
   ]
  },
  {
   "cell_type": "code",
   "execution_count": 4,
   "id": "5ad19146-c359-4466-bc62-3e81878d837d",
   "metadata": {},
   "outputs": [],
   "source": [
    "b = [2,4,6,8,10,12,14,16,18,20]"
   ]
  },
  {
   "cell_type": "code",
   "execution_count": 6,
   "id": "ef601a2c-70db-43c3-ba1d-0a984bd86695",
   "metadata": {},
   "outputs": [
    {
     "name": "stdout",
     "output_type": "stream",
     "text": [
      "2\n",
      "4\n",
      "6\n",
      "8\n",
      "10\n",
      "12\n",
      "14\n",
      "16\n",
      "18\n",
      "20\n"
     ]
    }
   ],
   "source": [
    "for i in b:\n",
    "    print(i)"
   ]
  },
  {
   "cell_type": "code",
   "execution_count": 7,
   "id": "1d0f4d86-edcd-43f3-8495-61367232c8d0",
   "metadata": {},
   "outputs": [],
   "source": [
    "b1 = iter(b)"
   ]
  },
  {
   "cell_type": "code",
   "execution_count": 8,
   "id": "d30ea155-3d28-4144-ad7b-6e6a3c57c3ca",
   "metadata": {},
   "outputs": [
    {
     "ename": "TypeError",
     "evalue": "'list' object is not an iterator",
     "output_type": "error",
     "traceback": [
      "\u001b[0;31m---------------------------------------------------------------------------\u001b[0m",
      "\u001b[0;31mTypeError\u001b[0m                                 Traceback (most recent call last)",
      "Cell \u001b[0;32mIn[8], line 1\u001b[0m\n\u001b[0;32m----> 1\u001b[0m \u001b[38;5;28;43mnext\u001b[39;49m\u001b[43m(\u001b[49m\u001b[43mb\u001b[49m\u001b[43m)\u001b[49m\n",
      "\u001b[0;31mTypeError\u001b[0m: 'list' object is not an iterator"
     ]
    }
   ],
   "source": [
    "next(b)"
   ]
  },
  {
   "cell_type": "code",
   "execution_count": 9,
   "id": "64b071d6-263d-4427-8f75-873629016df2",
   "metadata": {},
   "outputs": [],
   "source": [
    "def test_fib(n):\n",
    "    a,b = 0,1\n",
    "    for i in range(n):\n",
    "        yield a\n",
    "        a,b = b , a+b"
   ]
  },
  {
   "cell_type": "code",
   "execution_count": 11,
   "id": "a63f781e-e52a-472b-8edd-f94cd106021b",
   "metadata": {},
   "outputs": [
    {
     "data": {
      "text/plain": [
       "<generator object test_fib at 0x7f88505ffc30>"
      ]
     },
     "execution_count": 11,
     "metadata": {},
     "output_type": "execute_result"
    }
   ],
   "source": [
    "test_fib(5)"
   ]
  },
  {
   "cell_type": "code",
   "execution_count": 12,
   "id": "b032c563-3757-4f63-911a-723c19ffb20d",
   "metadata": {},
   "outputs": [],
   "source": [
    "p = [2,3,5,7,11,13,17,19,23,29,31,37,41,43,47,53,59,61,67,71,73,79,83,89,97]"
   ]
  },
  {
   "cell_type": "code",
   "execution_count": null,
   "id": "38266ae9-3c37-42b1-9dcb-f65555ef0142",
   "metadata": {},
   "outputs": [],
   "source": [
    "p1 = iter(p)"
   ]
  },
  {
   "cell_type": "code",
   "execution_count": 16,
   "id": "654024d5-8d9d-4ee6-8db7-d928719abf77",
   "metadata": {},
   "outputs": [
    {
     "ename": "NameError",
     "evalue": "name 'p1' is not defined",
     "output_type": "error",
     "traceback": [
      "\u001b[0;31m---------------------------------------------------------------------------\u001b[0m",
      "\u001b[0;31mNameError\u001b[0m                                 Traceback (most recent call last)",
      "Cell \u001b[0;32mIn[16], line 1\u001b[0m\n\u001b[0;32m----> 1\u001b[0m \u001b[38;5;28mnext\u001b[39m(\u001b[43mp1\u001b[49m)\n",
      "\u001b[0;31mNameError\u001b[0m: name 'p1' is not defined"
     ]
    }
   ],
   "source": [
    "next(p1)"
   ]
  },
  {
   "cell_type": "code",
   "execution_count": 17,
   "id": "1dd45690-bc99-4c18-893f-80beba5e30bd",
   "metadata": {},
   "outputs": [],
   "source": [
    "def count_test(n):\n",
    "    count = 10\n",
    "    while count <= n:\n",
    "        yield count\n",
    "        count = count + 0"
   ]
  },
  {
   "cell_type": "code",
   "execution_count": null,
   "id": "50e557ad-27ec-4e94-90dd-7a10cd1d5e5f",
   "metadata": {},
   "outputs": [],
   "source": [
    "c = count_test(10)"
   ]
  },
  {
   "cell_type": "code",
   "execution_count": null,
   "id": "a58588c1-f256-4394-953e-e9d17f202fff",
   "metadata": {},
   "outputs": [],
   "source": [
    "type(c)"
   ]
  },
  {
   "cell_type": "code",
   "execution_count": null,
   "id": "c739fc55-49c1-42ba-9351-555335c88547",
   "metadata": {},
   "outputs": [],
   "source": [
    "for i in c:\n",
    "    print (i)"
   ]
  },
  {
   "cell_type": "code",
   "execution_count": null,
   "id": "706f5389-a277-4f1c-94e6-a9404490a8f8",
   "metadata": {},
   "outputs": [],
   "source": [
    "v = \"pwskills\"\n"
   ]
  },
  {
   "cell_type": "code",
   "execution_count": null,
   "id": "af4a4dc2-8540-41d9-91d5-351044ef7f41",
   "metadata": {},
   "outputs": [],
   "source": [
    "list(map(lambda v : v.lower(), v))"
   ]
  }
 ],
 "metadata": {
  "kernelspec": {
   "display_name": "Python 3 (ipykernel)",
   "language": "python",
   "name": "python3"
  },
  "language_info": {
   "codemirror_mode": {
    "name": "ipython",
    "version": 3
   },
   "file_extension": ".py",
   "mimetype": "text/x-python",
   "name": "python",
   "nbconvert_exporter": "python",
   "pygments_lexer": "ipython3",
   "version": "3.10.8"
  }
 },
 "nbformat": 4,
 "nbformat_minor": 5
}
