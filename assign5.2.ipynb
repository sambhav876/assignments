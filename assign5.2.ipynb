{
 "cells": [
  {
   "cell_type": "code",
   "execution_count": 1,
   "id": "b38b98cc-a9ba-4b8f-84d6-c40401bacf4a",
   "metadata": {},
   "outputs": [
    {
     "ename": "SyntaxError",
     "evalue": "invalid syntax (1205763067.py, line 1)",
     "output_type": "error",
     "traceback": [
      "\u001b[0;36m  Cell \u001b[0;32mIn[1], line 1\u001b[0;36m\u001b[0m\n\u001b[0;31m    class are user defined data types that act as blueprint for attributes and methods. objects are instances of class created with defined data.\u001b[0m\n\u001b[0m              ^\u001b[0m\n\u001b[0;31mSyntaxError\u001b[0m\u001b[0;31m:\u001b[0m invalid syntax\n"
     ]
    }
   ],
   "source": [
    "class are user defined data types that act as blueprint for attributes and methods. objects are instances of class created with defined data."
   ]
  },
  {
   "cell_type": "code",
   "execution_count": null,
   "id": "061da65e-9ada-4d29-b261-c470e1ca6676",
   "metadata": {},
   "outputs": [],
   "source": [
    "four pillars = abstract inheritance encapsulation polymorphism"
   ]
  },
  {
   "cell_type": "code",
   "execution_count": null,
   "id": "bb1af49b-551c-4aa3-8e62-5ae44bf34372",
   "metadata": {},
   "outputs": [],
   "source": [
    "init method used to initialise objects attributes "
   ]
  },
  {
   "cell_type": "code",
   "execution_count": null,
   "id": "e68f7a1b-14b5-49f9-a403-27bd265f2d0a",
   "metadata": {},
   "outputs": [],
   "source": [
    "self is used to represent instance of the class"
   ]
  },
  {
   "cell_type": "code",
   "execution_count": null,
   "id": "cca829fd-be4a-4574-b3ac-f279bc289145",
   "metadata": {},
   "outputs": [],
   "source": [
    "it helps to derive a class from another class"
   ]
  }
 ],
 "metadata": {
  "kernelspec": {
   "display_name": "Python 3 (ipykernel)",
   "language": "python",
   "name": "python3"
  },
  "language_info": {
   "codemirror_mode": {
    "name": "ipython",
    "version": 3
   },
   "file_extension": ".py",
   "mimetype": "text/x-python",
   "name": "python",
   "nbconvert_exporter": "python",
   "pygments_lexer": "ipython3",
   "version": "3.10.8"
  }
 },
 "nbformat": 4,
 "nbformat_minor": 5
}
