{
 "cells": [
  {
   "cell_type": "code",
   "execution_count": 3,
   "id": "9c391cca-a663-434f-ba63-9ba85218818b",
   "metadata": {},
   "outputs": [],
   "source": [
    "a = 'sam'"
   ]
  },
  {
   "cell_type": "code",
   "execution_count": 4,
   "id": "cf340452-5004-42e0-8e18-b8bd61c3895b",
   "metadata": {},
   "outputs": [
    {
     "data": {
      "text/plain": [
       "str"
      ]
     },
     "execution_count": 4,
     "metadata": {},
     "output_type": "execute_result"
    }
   ],
   "source": [
    "type(a)"
   ]
  },
  {
   "cell_type": "code",
   "execution_count": 12,
   "id": "2389873a-a690-4235-8afd-3f078dcd225a",
   "metadata": {},
   "outputs": [],
   "source": [
    "s = 22457"
   ]
  },
  {
   "cell_type": "code",
   "execution_count": 13,
   "id": "4507885a-620d-4e90-a49b-bbca9dd76c15",
   "metadata": {},
   "outputs": [
    {
     "data": {
      "text/plain": [
       "int"
      ]
     },
     "execution_count": 13,
     "metadata": {},
     "output_type": "execute_result"
    }
   ],
   "source": [
    "type(s)"
   ]
  },
  {
   "cell_type": "code",
   "execution_count": null,
   "id": "96592c59-9a19-4d1e-9686-cf9493c66792",
   "metadata": {},
   "outputs": [],
   "source": [
    "c = 45.6698"
   ]
  },
  {
   "cell_type": "code",
   "execution_count": null,
   "id": "6a820c96-5438-49f8-b27b-4b1898068133",
   "metadata": {},
   "outputs": [],
   "source": [
    "type(c)"
   ]
  },
  {
   "cell_type": "code",
   "execution_count": null,
   "id": "83950bfc-c730-49e5-852f-750a96a29ccf",
   "metadata": {},
   "outputs": [],
   "source": [
    "f = 5 + 2j"
   ]
  },
  {
   "cell_type": "code",
   "execution_count": 17,
   "id": "f6ddbaaf-c7ab-4203-9c21-e5c0d80d7874",
   "metadata": {},
   "outputs": [
    {
     "data": {
      "text/plain": [
       "1.25"
      ]
     },
     "execution_count": 17,
     "metadata": {},
     "output_type": "execute_result"
    }
   ],
   "source": [
    "5/4"
   ]
  },
  {
   "cell_type": "code",
   "execution_count": 18,
   "id": "97a4de0d-9bb2-4163-a62d-16851964e4af",
   "metadata": {},
   "outputs": [
    {
     "data": {
      "text/plain": [
       "1"
      ]
     },
     "execution_count": 18,
     "metadata": {},
     "output_type": "execute_result"
    }
   ],
   "source": [
    "5//4"
   ]
  },
  {
   "cell_type": "code",
   "execution_count": 19,
   "id": "701b842e-be99-4d16-ad3c-c61115fc347b",
   "metadata": {},
   "outputs": [
    {
     "data": {
      "text/plain": [
       "1"
      ]
     },
     "execution_count": 19,
     "metadata": {},
     "output_type": "execute_result"
    }
   ],
   "source": [
    "5%4"
   ]
  },
  {
   "cell_type": "code",
   "execution_count": 20,
   "id": "f4a89d5c-3751-401f-9722-fb49726ddf98",
   "metadata": {},
   "outputs": [
    {
     "data": {
      "text/plain": [
       "625"
      ]
     },
     "execution_count": 20,
     "metadata": {},
     "output_type": "execute_result"
    }
   ],
   "source": [
    "5**4"
   ]
  },
  {
   "cell_type": "code",
   "execution_count": null,
   "id": "80bc2f66-bfbd-47f3-a87b-5f4f53f54066",
   "metadata": {},
   "outputs": [],
   "source": [
    "l = [2, 3, 4, 5, 22.45, \"sam\"] "
   ]
  },
  {
   "cell_type": "code",
   "execution_count": null,
   "id": "69e4d748-b98d-441f-85dd-ad0a7f5994e8",
   "metadata": {},
   "outputs": [],
   "source": [
    "for i in d :\n",
    "     print(type(d))\n",
    "        if i == 5\n",
    "         break \n",
    "        print(i)\n",
    "else :\n",
    "    print(\"this will be exeuted\")"
   ]
  }
 ],
 "metadata": {
  "kernelspec": {
   "display_name": "Python 3 (ipykernel)",
   "language": "python",
   "name": "python3"
  },
  "language_info": {
   "codemirror_mode": {
    "name": "ipython",
    "version": 3
   },
   "file_extension": ".py",
   "mimetype": "text/x-python",
   "name": "python",
   "nbconvert_exporter": "python",
   "pygments_lexer": "ipython3",
   "version": "3.10.8"
  }
 },
 "nbformat": 4,
 "nbformat_minor": 5
}
