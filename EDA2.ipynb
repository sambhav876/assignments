{
 "cells": [
  {
   "cell_type": "code",
   "execution_count": null,
   "id": "25a533a3-ae18-45bf-93a8-798b9d5ef97a",
   "metadata": {},
   "outputs": [],
   "source": [
    "#question 2\n",
    "\n",
    "import pandas as pd\n",
    "import matplotlib.pyplot as plt\n",
    "\n",
    "# Load the flight price dataset (replace 'your_dataset.csv' with the actual file name)\n",
    "flight_data = pd.read_csv('your_dataset.csv')\n",
    "\n",
    "# Assuming 'Price' is the column representing flight prices\n",
    "flight_prices = flight_data['Price']\n",
    "\n",
    "# Create a histogram\n",
    "plt.figure(figsize=(10, 6))\n",
    "plt.hist(flight_prices, bins=30, color='skyblue', edgecolor='black')\n",
    "plt.title('Distribution of Flight Prices')\n",
    "plt.xlabel('Price')\n",
    "plt.ylabel('Frequency')\n",
    "plt.show()\n"
   ]
  },
  {
   "cell_type": "code",
   "execution_count": null,
   "id": "7a33e949-be7f-4740-8021-e5dee968afcf",
   "metadata": {},
   "outputs": [],
   "source": [
    "#question 3\n",
    "\n",
    "import pandas as pd\n",
    "\n",
    "# Load the flight price dataset (replace 'your_dataset.csv' with the actual file name)\n",
    "flight_data = pd.read_csv('your_dataset.csv')\n",
    "\n",
    "# Assuming 'Price' is the column representing flight prices\n",
    "flight_prices = flight_data['Price']\n",
    "\n",
    "# Calculate the minimum and maximum prices\n",
    "min_price = flight_prices.min()\n",
    "max_price = flight_prices.max()\n",
    "\n",
    "# Print the results\n",
    "print(f\"The minimum price is: {min_price}\")\n",
    "print(f\"The maximum price is: {max_price}\")\n",
    "print(f\"The range of prices is: {max_price - min_price}\")\n"
   ]
  },
  {
   "cell_type": "code",
   "execution_count": null,
   "id": "64c74233-fe6c-4468-909d-36691164b58c",
   "metadata": {},
   "outputs": [],
   "source": [
    "#question 4\n",
    "\n",
    "\n",
    "import pandas as pd\n",
    "import seaborn as sns\n",
    "import matplotlib.pyplot as plt\n",
    "\n",
    "# Load the flight price dataset (replace 'your_dataset.csv' with the actual file name)\n",
    "flight_data = pd.read_csv('your_dataset.csv')\n",
    "\n",
    "# Assuming 'Airline' is the column representing airlines and 'Price' is the column representing flight prices\n",
    "plt.figure(figsize=(12, 8))\n",
    "sns.boxplot(x='Airline', y='Price', data=flight_data, palette='viridis')\n",
    "plt.title('Flight Prices by Airline')\n",
    "plt.xlabel('Airline')\n",
    "plt.ylabel('Price')\n",
    "plt.xticks(rotation=45, ha='right')  # Rotate x-axis labels for better visibility\n",
    "plt.show()\n"
   ]
  },
  {
   "cell_type": "code",
   "execution_count": null,
   "id": "cbb035ec-0440-4bd1-8631-e5bc58857bf5",
   "metadata": {},
   "outputs": [],
   "source": [
    "#question 5\n",
    "\n",
    "import pandas as pd\n",
    "import seaborn as sns\n",
    "import matplotlib.pyplot as plt\n",
    "\n",
    "# Load the flight price dataset (replace 'your_dataset.csv' with the actual file name)\n",
    "flight_data = pd.read_csv('your_dataset.csv')\n",
    "\n",
    "# Assuming 'Price' is the column representing flight prices\n",
    "plt.figure(figsize=(8, 6))\n",
    "sns.boxplot(x='Price', data=flight_data, color='skyblue')\n",
    "plt.title('Boxplot of Flight Prices')\n",
    "plt.xlabel('Price')\n",
    "plt.show()\n"
   ]
  },
  {
   "cell_type": "code",
   "execution_count": null,
   "id": "14227306-b251-4746-8bf5-10254129e2aa",
   "metadata": {},
   "outputs": [],
   "source": [
    "#question 6\n",
    "\n"
   ]
  }
 ],
 "metadata": {
  "kernelspec": {
   "display_name": "Python 3 (ipykernel)",
   "language": "python",
   "name": "python3"
  },
  "language_info": {
   "codemirror_mode": {
    "name": "ipython",
    "version": 3
   },
   "file_extension": ".py",
   "mimetype": "text/x-python",
   "name": "python",
   "nbconvert_exporter": "python",
   "pygments_lexer": "ipython3",
   "version": "3.10.8"
  }
 },
 "nbformat": 4,
 "nbformat_minor": 5
}
