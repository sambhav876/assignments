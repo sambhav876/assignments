{
 "cells": [
  {
   "cell_type": "code",
   "execution_count": 1,
   "id": "18175bfe-4ceb-486e-966a-90a7dc103348",
   "metadata": {},
   "outputs": [
    {
     "name": "stdout",
     "output_type": "stream",
     "text": [
      "F-value: 17.501991969527275\n",
      "p-value: 6.259204382853245e-05\n"
     ]
    }
   ],
   "source": [
    "#question 1\n",
    "\n",
    "import numpy as np\n",
    "from scipy.stats import f_oneway\n",
    "\n",
    "def variance_ratio_test(data1, data2):\n",
    "    \"\"\"\n",
    "    Perform a variance ratio test (F-test) for two arrays of data.\n",
    "\n",
    "    Parameters:\n",
    "    - data1: Array of data for the first group.\n",
    "    - data2: Array of data for the second group.\n",
    "\n",
    "    Returns:\n",
    "    - F-value: The calculated F-statistic.\n",
    "    - p-value: The corresponding p-value for the F-test.\n",
    "    \"\"\"\n",
    "    # Perform the variance ratio test (F-test)\n",
    "    result = f_oneway(data1, data2)\n",
    "\n",
    "    # Extract F-value and p-value from the result\n",
    "    F_value = result.statistic\n",
    "    p_value = result.pvalue\n",
    "\n",
    "    return F_value, p_value\n",
    "\n",
    "# Example usage:\n",
    "group1_data = np.random.normal(loc=5, scale=2, size=50)\n",
    "group2_data = np.random.normal(loc=7, scale=2, size=50)\n",
    "\n",
    "F, p = variance_ratio_test(group1_data, group2_data)\n",
    "\n",
    "# Print the results\n",
    "print(\"F-value:\", F)\n",
    "print(\"p-value:\", p)\n"
   ]
  },
  {
   "cell_type": "code",
   "execution_count": 2,
   "id": "2626a7b2-009a-4b09-b7b6-51efa69f400a",
   "metadata": {},
   "outputs": [
    {
     "name": "stdout",
     "output_type": "stream",
     "text": [
      "Critical F-value: 4.461255495919247\n"
     ]
    }
   ],
   "source": [
    "#question 2\n",
    "\n",
    "from scipy.stats import f\n",
    "\n",
    "def critical_f_value(df_num, df_den, alpha=0.05):\n",
    "    \"\"\"\n",
    "    Calculate the critical F-value for a two-tailed test.\n",
    "\n",
    "    Parameters:\n",
    "    - df_num: Degrees of freedom for the numerator.\n",
    "    - df_den: Degrees of freedom for the denominator.\n",
    "    - alpha: Significance level (default is 0.05).\n",
    "\n",
    "    Returns:\n",
    "    - critical_f: The critical F-value.\n",
    "    \"\"\"\n",
    "    # Calculate the critical F-value using the ppf (percent point function) function\n",
    "    critical_f = f.ppf(1 - alpha / 2, df_num, df_den)\n",
    "\n",
    "    return critical_f\n",
    "\n",
    "# Example usage:\n",
    "df_numerator = 2\n",
    "df_denominator = 20\n",
    "significance_level = 0.05\n",
    "\n",
    "critical_F = critical_f_value(df_numerator, df_denominator, significance_level)\n",
    "\n",
    "# Print the result\n",
    "print(\"Critical F-value:\", critical_F)\n"
   ]
  },
  {
   "cell_type": "code",
   "execution_count": 3,
   "id": "7575a221-7a5b-4164-bfe8-401019a3c3ce",
   "metadata": {},
   "outputs": [
    {
     "name": "stdout",
     "output_type": "stream",
     "text": [
      "F-value: 1.1403545383937257\n",
      "Degrees of Freedom (Numerator): 49\n",
      "Degrees of Freedom (Denominator): 49\n",
      "p-value: 0.6475383075085099\n"
     ]
    }
   ],
   "source": [
    "#question 3\n",
    "\n",
    "import numpy as np\n",
    "from scipy.stats import f\n",
    "\n",
    "def variance_ratio_test(data1, data2):\n",
    "    \"\"\"\n",
    "    Perform an F-test for equality of variances between two sets of data.\n",
    "\n",
    "    Parameters:\n",
    "    - data1: Array of data for the first group.\n",
    "    - data2: Array of data for the second group.\n",
    "\n",
    "    Returns:\n",
    "    - F_value: The calculated F-statistic.\n",
    "    - df_num: Degrees of freedom for the numerator.\n",
    "    - df_den: Degrees of freedom for the denominator.\n",
    "    - p_value: The corresponding p-value for the F-test.\n",
    "    \"\"\"\n",
    "    # Calculate variances\n",
    "    var1 = np.var(data1, ddof=1)  # ddof=1 for sample variance\n",
    "    var2 = np.var(data2, ddof=1)\n",
    "\n",
    "    # Calculate F-statistic and degrees of freedom\n",
    "    F_value = var1 / var2 if var1 > var2 else var2 / var1\n",
    "    df_num = len(data1) - 1\n",
    "    df_den = len(data2) - 1\n",
    "\n",
    "    # Calculate p-value\n",
    "    p_value = 2 * min(f.cdf(F_value, df_num, df_den), 1 - f.cdf(F_value, df_num, df_den))\n",
    "\n",
    "    return F_value, df_num, df_den, p_value\n",
    "\n",
    "# Example usage:\n",
    "np.random.seed(42)  # for reproducibility\n",
    "\n",
    "# Generate random samples from two normal distributions\n",
    "group1_data = np.random.normal(loc=5, scale=2, size=50)\n",
    "group2_data = np.random.normal(loc=5, scale=2, size=50)\n",
    "\n",
    "# Perform variance ratio test\n",
    "F, df_numerator, df_denominator, p = variance_ratio_test(group1_data, group2_data)\n",
    "\n",
    "# Print the results\n",
    "print(\"F-value:\", F)\n",
    "print(\"Degrees of Freedom (Numerator):\", df_numerator)\n",
    "print(\"Degrees of Freedom (Denominator):\", df_denominator)\n",
    "print(\"p-value:\", p)\n"
   ]
  },
  {
   "cell_type": "code",
   "execution_count": 4,
   "id": "88c4c7dc-e5c1-45e6-94d0-349ee6553a6f",
   "metadata": {},
   "outputs": [
    {
     "name": "stdout",
     "output_type": "stream",
     "text": [
      "F-statistic: 0.6666666666666666\n",
      "Degrees of Freedom (Numerator): 11\n",
      "Degrees of Freedom (Denominator): 11\n",
      "Critical Value: 3.473699051085809\n",
      "Fail to reject the null hypothesis. No significant difference in variances.\n"
     ]
    }
   ],
   "source": [
    "#question 4\n",
    "\n",
    "from scipy.stats import f\n",
    "\n",
    "# Given data\n",
    "variance1 = 10\n",
    "variance2 = 15\n",
    "sample_size1 = 12\n",
    "sample_size2 = 12\n",
    "significance_level = 0.05\n",
    "\n",
    "# Calculate the F-statistic\n",
    "F_statistic = variance1 / variance2\n",
    "\n",
    "# Calculate degrees of freedom\n",
    "df_num = sample_size1 - 1\n",
    "df_den = sample_size2 - 1\n",
    "\n",
    "# Calculate critical value from the F-distribution\n",
    "critical_value = f.ppf(1 - significance_level / 2, df_num, df_den)\n",
    "\n",
    "# Print the results\n",
    "print(\"F-statistic:\", F_statistic)\n",
    "print(\"Degrees of Freedom (Numerator):\", df_num)\n",
    "print(\"Degrees of Freedom (Denominator):\", df_den)\n",
    "print(\"Critical Value:\", critical_value)\n",
    "\n",
    "# Decision Rule\n",
    "if F_statistic > critical_value:\n",
    "    print(\"Reject the null hypothesis. Variances are significantly different.\")\n",
    "else:\n",
    "    print(\"Fail to reject the null hypothesis. No significant difference in variances.\")\n"
   ]
  },
  {
   "cell_type": "code",
   "execution_count": 6,
   "id": "3e2b4ef3-b958-4ae7-a9e7-9b9ab3ae6548",
   "metadata": {},
   "outputs": [
    {
     "name": "stdout",
     "output_type": "stream",
     "text": [
      "F-statistic: 1.2\n",
      "Degrees of Freedom (Numerator): 24\n",
      "Degrees of Freedom (Denominator): inf\n",
      "Critical Value (Lower): nan\n",
      "Critical Value (Upper): nan\n",
      "Fail to reject the null hypothesis. The claimed population variance is justified.\n"
     ]
    }
   ],
   "source": [
    "#question 5\n",
    "from scipy.stats import f\n",
    "\n",
    "# Given data\n",
    "claimed_population_variance = 0.005\n",
    "sample_size = 25\n",
    "sample_variance = 0.006\n",
    "significance_level = 0.01\n",
    "\n",
    "# Calculate the F-statistic\n",
    "F_statistic = sample_variance / claimed_population_variance\n",
    "\n",
    "# Calculate degrees of freedom\n",
    "df_num = sample_size - 1\n",
    "df_den = float('inf')  # Assuming a large population, degrees of freedom for the denominator is infinity\n",
    "\n",
    "# Calculate critical value from the F-distribution\n",
    "critical_value_lower = f.ppf(significance_level / 2, df_num, df_den)\n",
    "critical_value_upper = f.ppf(1 - significance_level / 2, df_num, df_den)\n",
    "\n",
    "# Print the results\n",
    "print(\"F-statistic:\", F_statistic)\n",
    "print(\"Degrees of Freedom (Numerator):\", df_num)\n",
    "print(\"Degrees of Freedom (Denominator):\", df_den)\n",
    "print(\"Critical Value (Lower):\", critical_value_lower)\n",
    "print(\"Critical Value (Upper):\", critical_value_upper)\n",
    "\n",
    "# Decision Rule\n",
    "if F_statistic < critical_value_lower or F_statistic > critical_value_upper:\n",
    "    print(\"Reject the null hypothesis. Sample variance is significantly different from the claimed population variance.\")\n",
    "else:\n",
    "    print(\"Fail to reject the null hypothesis. The claimed population variance is justified.\")\n"
   ]
  },
  {
   "cell_type": "code",
   "execution_count": 7,
   "id": "390f1d3e-4dae-47e0-af2d-617ff3ceae74",
   "metadata": {},
   "outputs": [
    {
     "name": "stdout",
     "output_type": "stream",
     "text": [
      "Mean of F-distribution: 1.1111111111111112\n",
      "Variance of F-distribution: 1.0802469135802468\n"
     ]
    }
   ],
   "source": [
    "#question 6\n",
    "\n",
    "def f_distribution_mean_variance(df_num, df_den):\n",
    "    \"\"\"\n",
    "    Calculate the mean and variance of an F-distribution.\n",
    "\n",
    "    Parameters:\n",
    "    - df_num: Degrees of freedom for the numerator.\n",
    "    - df_den: Degrees of freedom for the denominator.\n",
    "\n",
    "    Returns:\n",
    "    - Tuple containing mean and variance.\n",
    "    \"\"\"\n",
    "    # Calculate mean\n",
    "    mean = df_den / (df_den - 2)\n",
    "\n",
    "    # Calculate variance\n",
    "    variance = (2 * (df_den ** 2) * (df_num + df_den - 2)) / (df_num * (df_den - 2) ** 2 * (df_den - 4))\n",
    "\n",
    "    return mean, variance\n",
    "\n",
    "# Example usage:\n",
    "df_numerator = 3\n",
    "df_denominator = 20\n",
    "\n",
    "mean, variance = f_distribution_mean_variance(df_numerator, df_denominator)\n",
    "\n",
    "# Print the results\n",
    "print(\"Mean of F-distribution:\", mean)\n",
    "print(\"Variance of F-distribution:\", variance)\n"
   ]
  },
  {
   "cell_type": "code",
   "execution_count": 8,
   "id": "0fe840fc-0f2a-49a5-8aa9-5e70bd57d347",
   "metadata": {},
   "outputs": [
    {
     "name": "stdout",
     "output_type": "stream",
     "text": [
      "F-statistic: 1.25\n",
      "Degrees of Freedom (Numerator): 14\n",
      "Degrees of Freedom (Denominator): 9\n",
      "Critical Value (Lower): 0.37795884106897293\n",
      "Critical Value (Upper): 3.0254727242822095\n",
      "Fail to reject the null hypothesis. No significant difference in variances.\n"
     ]
    }
   ],
   "source": [
    "#question 7\n",
    "\n",
    "from scipy.stats import f\n",
    "\n",
    "# Given data\n",
    "sample_size1 = 10\n",
    "sample_variance1 = 25\n",
    "\n",
    "sample_size2 = 15\n",
    "sample_variance2 = 20\n",
    "\n",
    "significance_level = 0.10\n",
    "\n",
    "# Calculate the F-statistic\n",
    "F_statistic = sample_variance1 / sample_variance2 if sample_variance1 > sample_variance2 else sample_variance2 / sample_variance1\n",
    "\n",
    "# Calculate degrees of freedom\n",
    "df_num = max(sample_size1 - 1, sample_size2 - 1)\n",
    "df_den = min(sample_size1 - 1, sample_size2 - 1)\n",
    "\n",
    "# Calculate critical value from the F-distribution\n",
    "critical_value_lower = f.ppf(significance_level / 2, df_num, df_den)\n",
    "critical_value_upper = f.ppf(1 - significance_level / 2, df_num, df_den)\n",
    "\n",
    "# Print the results\n",
    "print(\"F-statistic:\", F_statistic)\n",
    "print(\"Degrees of Freedom (Numerator):\", df_num)\n",
    "print(\"Degrees of Freedom (Denominator):\", df_den)\n",
    "print(\"Critical Value (Lower):\", critical_value_lower)\n",
    "print(\"Critical Value (Upper):\", critical_value_upper)\n",
    "\n",
    "# Decision Rule\n",
    "if F_statistic < critical_value_lower or F_statistic > critical_value_upper:\n",
    "    print(\"Reject the null hypothesis. Variances are significantly different.\")\n",
    "else:\n",
    "    print(\"Fail to reject the null hypothesis. No significant difference in variances.\")\n"
   ]
  },
  {
   "cell_type": "code",
   "execution_count": null,
   "id": "e5ac5126-8c2f-4391-ab7e-e2d761345735",
   "metadata": {},
   "outputs": [],
   "source": []
  }
 ],
 "metadata": {
  "kernelspec": {
   "display_name": "Python 3 (ipykernel)",
   "language": "python",
   "name": "python3"
  },
  "language_info": {
   "codemirror_mode": {
    "name": "ipython",
    "version": 3
   },
   "file_extension": ".py",
   "mimetype": "text/x-python",
   "name": "python",
   "nbconvert_exporter": "python",
   "pygments_lexer": "ipython3",
   "version": "3.10.8"
  }
 },
 "nbformat": 4,
 "nbformat_minor": 5
}
