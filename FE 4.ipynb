{
 "cells": [
  {
   "cell_type": "code",
   "execution_count": 1,
   "id": "31848463-4c4b-46a3-959e-615d16bd2be3",
   "metadata": {},
   "outputs": [
    {
     "name": "stdout",
     "output_type": "stream",
     "text": [
      "[2 1 0 2 1]\n"
     ]
    }
   ],
   "source": [
    "#question 1\n",
    "\n",
    "#Ordinal encoding and label encoding are both techniques used in machine learning to convert categorical data into numerical format, but they are used in different scenarios.\n",
    "\n",
    "from sklearn.preprocessing import LabelEncoder\n",
    "\n",
    "data = ['red', 'green', 'blue', 'red', 'green']\n",
    "label_encoder = LabelEncoder()\n",
    "encoded_data = label_encoder.fit_transform(data)\n",
    "print(encoded_data)\n"
   ]
  },
  {
   "cell_type": "code",
   "execution_count": 3,
   "id": "66c36331-373f-418f-a260-65fd654036a7",
   "metadata": {},
   "outputs": [
    {
     "ename": "NameError",
     "evalue": "name 'OrdinalEncoder' is not defined",
     "output_type": "error",
     "traceback": [
      "\u001b[0;31m---------------------------------------------------------------------------\u001b[0m",
      "\u001b[0;31mNameError\u001b[0m                                 Traceback (most recent call last)",
      "Cell \u001b[0;32mIn[3], line 25\u001b[0m\n\u001b[1;32m     22\u001b[0m X_train, X_test, y_train, y_test \u001b[38;5;241m=\u001b[39m train_test_split(X, y, test_size\u001b[38;5;241m=\u001b[39m\u001b[38;5;241m0.2\u001b[39m, random_state\u001b[38;5;241m=\u001b[39m\u001b[38;5;241m42\u001b[39m)\n\u001b[1;32m     24\u001b[0m \u001b[38;5;66;03m# Apply Target Guided Ordinal Encoding to 'Education'\u001b[39;00m\n\u001b[0;32m---> 25\u001b[0m encoder \u001b[38;5;241m=\u001b[39m \u001b[43mOrdinalEncoder\u001b[49m(encoding_method\u001b[38;5;241m=\u001b[39m\u001b[38;5;124m'\u001b[39m\u001b[38;5;124mordered\u001b[39m\u001b[38;5;124m'\u001b[39m, variables\u001b[38;5;241m=\u001b[39m[\u001b[38;5;124m'\u001b[39m\u001b[38;5;124mEducation\u001b[39m\u001b[38;5;124m'\u001b[39m])\n\u001b[1;32m     26\u001b[0m X_train_encoded \u001b[38;5;241m=\u001b[39m encoder\u001b[38;5;241m.\u001b[39mfit_transform(X_train, y_train)\n\u001b[1;32m     27\u001b[0m X_test_encoded \u001b[38;5;241m=\u001b[39m encoder\u001b[38;5;241m.\u001b[39mtransform(X_test)\n",
      "\u001b[0;31mNameError\u001b[0m: name 'OrdinalEncoder' is not defined"
     ]
    }
   ],
   "source": [
    "#question 2\n",
    "\n",
    "#Target Guided Ordinal Encoding is a technique used in machine learning to encode categorical variables based on the target variable. This method is particularly useful when dealing with ordinal categorical variables. The idea is to assign numerical values to the categories based on the likelihood or mean of the target variable for each category. This way, the encoding captures the relationship between the categorical variable and the target variable.\n",
    "\n",
    "import pandas as pd\n",
    "from sklearn.model_selection import train_test_split\n",
    "from sklearn.ensemble import RandomForestClassifier\n",
    "from sklearn.metrics import accuracy_score\n",
    "\n",
    "\n",
    "# Create a sample dataset\n",
    "data = {'Education': ['High School', 'Bachelor', 'Master', 'High School', 'PhD', 'Bachelor']}\n",
    "target = {'Target': [0, 1, 1, 0, 1, 0]}\n",
    "df = pd.DataFrame(data)\n",
    "df['Target'] = pd.DataFrame(target)\n",
    "\n",
    "# Split the dataset into features and target\n",
    "X = df.drop('Target', axis=1)\n",
    "y = df['Target']\n",
    "\n",
    "# Split the data into training and testing sets\n",
    "X_train, X_test, y_train, y_test = train_test_split(X, y, test_size=0.2, random_state=42)\n",
    "\n",
    "# Apply Target Guided Ordinal Encoding to 'Education'\n",
    "encoder = OrdinalEncoder(encoding_method='ordered', variables=['Education'])\n",
    "X_train_encoded = encoder.fit_transform(X_train, y_train)\n",
    "X_test_encoded = encoder.transform(X_test)\n",
    "\n",
    "# Train a model (Random Forest, for example)\n",
    "model = RandomForestClassifier(random_state=42)\n",
    "model.fit(X_train_encoded, y_train)\n",
    "\n",
    "# Make predictions and evaluate the model\n",
    "y_pred = model.predict(X_test_encoded)\n",
    "accuracy = accuracy_score(y_test, y_pred)\n",
    "print(f'Accuracy: {accuracy}')\n"
   ]
  },
  {
   "cell_type": "code",
   "execution_count": null,
   "id": "2970a513-34bc-4bfa-a5d9-10594071c12c",
   "metadata": {},
   "outputs": [],
   "source": [
    "#question 3\n",
    "\n",
    "#Covariance is a statistical measure that describes how much two random variables change together. In other words, it quantifies the degree to which the values of two variables tend to move in relation to each other. If the covariance is positive, it indicates that higher values of one variable are associated with higher values of the other, and vice versa. If the covariance is negative, it means that higher values of one variable are associated with lower values of the other."
   ]
  },
  {
   "cell_type": "code",
   "execution_count": 4,
   "id": "5ca30672-9f15-4052-b202-b17338dc994b",
   "metadata": {},
   "outputs": [
    {
     "name": "stdout",
     "output_type": "stream",
     "text": [
      "   Color    Size Material  Color_encoded  Size_encoded  Material_encoded\n",
      "0    red   small     wood              2             2                 2\n",
      "1  green  medium    metal              1             1                 0\n",
      "2   blue   large  plastic              0             0                 1\n",
      "3    red  medium    metal              2             1                 0\n",
      "4  green   small     wood              1             2                 2\n"
     ]
    }
   ],
   "source": [
    "#question 4\n",
    "\n",
    "from sklearn.preprocessing import LabelEncoder\n",
    "import pandas as pd\n",
    "\n",
    "# Create a sample dataset\n",
    "data = {'Color': ['red', 'green', 'blue', 'red', 'green'],\n",
    "        'Size': ['small', 'medium', 'large', 'medium', 'small'],\n",
    "        'Material': ['wood', 'metal', 'plastic', 'metal', 'wood']}\n",
    "df = pd.DataFrame(data)\n",
    "\n",
    "# Initialize label encoders for each categorical variable\n",
    "label_encoder_color = LabelEncoder()\n",
    "label_encoder_size = LabelEncoder()\n",
    "label_encoder_material = LabelEncoder()\n",
    "\n",
    "# Apply label encoding to each categorical variable\n",
    "df['Color_encoded'] = label_encoder_color.fit_transform(df['Color'])\n",
    "df['Size_encoded'] = label_encoder_size.fit_transform(df['Size'])\n",
    "df['Material_encoded'] = label_encoder_material.fit_transform(df['Material'])\n",
    "\n",
    "# Display the encoded DataFrame\n",
    "print(df)\n"
   ]
  },
  {
   "cell_type": "code",
   "execution_count": 5,
   "id": "a612b0c2-3eb5-476b-a813-28962e32dc55",
   "metadata": {},
   "outputs": [
    {
     "name": "stdout",
     "output_type": "stream",
     "text": [
      "Covariance Matrix:\n",
      "[[2.450e+01 5.000e+04 9.500e+00]\n",
      " [5.000e+04 1.450e+08 2.625e+04]\n",
      " [9.500e+00 2.625e+04 5.000e+00]]\n"
     ]
    }
   ],
   "source": [
    "#question 5\n",
    "\n",
    "\n",
    "import pandas as pd\n",
    "import numpy as np\n",
    "\n",
    "# Create a sample dataset\n",
    "data = {'Age': [25, 30, 22, 35, 28],\n",
    "        'Income': [50000, 75000, 60000, 80000, 70000],\n",
    "        'Education': [12, 16, 14, 18, 15]}\n",
    "\n",
    "df = pd.DataFrame(data)\n",
    "\n",
    "# Calculate the covariance matrix\n",
    "covariance_matrix = np.cov(df, rowvar=False)\n",
    "\n",
    "print(\"Covariance Matrix:\")\n",
    "print(covariance_matrix)\n"
   ]
  },
  {
   "cell_type": "code",
   "execution_count": null,
   "id": "026cd77a-0602-4ebb-81de-077a1d38e983",
   "metadata": {},
   "outputs": [],
   "source": [
    "#question "
   ]
  }
 ],
 "metadata": {
  "kernelspec": {
   "display_name": "Python 3 (ipykernel)",
   "language": "python",
   "name": "python3"
  },
  "language_info": {
   "codemirror_mode": {
    "name": "ipython",
    "version": 3
   },
   "file_extension": ".py",
   "mimetype": "text/x-python",
   "name": "python",
   "nbconvert_exporter": "python",
   "pygments_lexer": "ipython3",
   "version": "3.10.8"
  }
 },
 "nbformat": 4,
 "nbformat_minor": 5
}
