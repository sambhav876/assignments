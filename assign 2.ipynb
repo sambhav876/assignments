{
 "cells": [
  {
   "cell_type": "code",
   "execution_count": 1,
   "id": "5634ac80-298c-467b-a225-c903eba70dc4",
   "metadata": {},
   "outputs": [],
   "source": [
    "l = [1, 2, 3, 4, 5]"
   ]
  },
  {
   "cell_type": "code",
   "execution_count": 2,
   "id": "7518ac2a-eb21-40d4-8ded-3ab5de381d01",
   "metadata": {},
   "outputs": [
    {
     "data": {
      "text/plain": [
       "list"
      ]
     },
     "execution_count": 2,
     "metadata": {},
     "output_type": "execute_result"
    }
   ],
   "source": [
    "type(l)"
   ]
  },
  {
   "cell_type": "code",
   "execution_count": 3,
   "id": "f4c629aa-84b7-432b-b05d-973339a5f0ac",
   "metadata": {},
   "outputs": [
    {
     "data": {
      "text/plain": [
       "[2, 3]"
      ]
     },
     "execution_count": 3,
     "metadata": {},
     "output_type": "execute_result"
    }
   ],
   "source": [
    "l[1:3]"
   ]
  },
  {
   "cell_type": "code",
   "execution_count": 5,
   "id": "2bb9e627-107e-4867-9cab-cf14b070572c",
   "metadata": {},
   "outputs": [],
   "source": [
    "s = 5 +3j"
   ]
  },
  {
   "cell_type": "code",
   "execution_count": 6,
   "id": "b9eb6ff2-ea46-4470-8436-45c1443e6dc5",
   "metadata": {},
   "outputs": [
    {
     "data": {
      "text/plain": [
       "complex"
      ]
     },
     "execution_count": 6,
     "metadata": {},
     "output_type": "execute_result"
    }
   ],
   "source": [
    "type(s)\n"
   ]
  },
  {
   "cell_type": "code",
   "execution_count": 10,
   "id": "a5b6e8a2-fabd-4b06-b011-521da1440e80",
   "metadata": {},
   "outputs": [],
   "source": [
    "a = {25 : \"age\"}"
   ]
  },
  {
   "cell_type": "code",
   "execution_count": 11,
   "id": "a83bae7d-bc45-41ad-bcb0-fcdaa9a7cc56",
   "metadata": {},
   "outputs": [
    {
     "data": {
      "text/plain": [
       "'age'"
      ]
     },
     "execution_count": 11,
     "metadata": {},
     "output_type": "execute_result"
    }
   ],
   "source": [
    "a[25]"
   ]
  },
  {
   "cell_type": "code",
   "execution_count": 12,
   "id": "aaaacdc1-87c2-4507-a3df-7af19a8c4af8",
   "metadata": {},
   "outputs": [],
   "source": [
    "b = {\"price\" : 9.99}"
   ]
  },
  {
   "cell_type": "code",
   "execution_count": 14,
   "id": "85fab56a-6e77-4f05-b2c7-0b06e7df6945",
   "metadata": {},
   "outputs": [
    {
     "data": {
      "text/plain": [
       "9.99"
      ]
     },
     "execution_count": 14,
     "metadata": {},
     "output_type": "execute_result"
    }
   ],
   "source": [
    "b[\"price\"]"
   ]
  },
  {
   "cell_type": "code",
   "execution_count": 15,
   "id": "b055cde7-d872-471b-8aba-ba6c5f1e1c76",
   "metadata": {},
   "outputs": [
    {
     "data": {
      "text/plain": [
       "str"
      ]
     },
     "execution_count": 15,
     "metadata": {},
     "output_type": "execute_result"
    }
   ],
   "source": [
    "type(\"price\")"
   ]
  },
  {
   "cell_type": "code",
   "execution_count": 16,
   "id": "446ae716-4983-4b1f-b4e5-5f53e832a946",
   "metadata": {},
   "outputs": [
    {
     "data": {
      "text/plain": [
       "float"
      ]
     },
     "execution_count": 16,
     "metadata": {},
     "output_type": "execute_result"
    }
   ],
   "source": [
    "type(9.99)"
   ]
  },
  {
   "cell_type": "code",
   "execution_count": 17,
   "id": "37513d39-3571-4892-95a4-f8112416f914",
   "metadata": {},
   "outputs": [],
   "source": [
    "c = { \"name\" : \"sambhav\"}"
   ]
  },
  {
   "cell_type": "code",
   "execution_count": 18,
   "id": "a56cce86-a880-463a-85ab-68035e1bf4c6",
   "metadata": {},
   "outputs": [
    {
     "data": {
      "text/plain": [
       "'sambhav'"
      ]
     },
     "execution_count": 18,
     "metadata": {},
     "output_type": "execute_result"
    }
   ],
   "source": [
    "c[\"name\"]"
   ]
  },
  {
   "cell_type": "code",
   "execution_count": 19,
   "id": "02942283-bf8e-43f6-b917-614ee5ebf61a",
   "metadata": {},
   "outputs": [
    {
     "data": {
      "text/plain": [
       "str"
      ]
     },
     "execution_count": 19,
     "metadata": {},
     "output_type": "execute_result"
    }
   ],
   "source": [
    "type(\"sambhav\")"
   ]
  },
  {
   "cell_type": "code",
   "execution_count": 20,
   "id": "acd8c671-edc9-4be7-9b01-f9fdce2736ac",
   "metadata": {},
   "outputs": [],
   "source": [
    "d1 = { \"hello, world\"}"
   ]
  },
  {
   "cell_type": "code",
   "execution_count": null,
   "id": "9d26ed67-87df-4dc8-9e9a-ef347d8e8dd3",
   "metadata": {},
   "outputs": [],
   "source": [
    "d1.remove(\"hello\")"
   ]
  },
  {
   "cell_type": "code",
   "execution_count": null,
   "id": "ca54dadd-f8d5-4082-85d7-6ca57f92f5d2",
   "metadata": {},
   "outputs": [],
   "source": [
    "d1"
   ]
  },
  {
   "cell_type": "code",
   "execution_count": null,
   "id": "30f06f4f-190f-4034-af37-9b529a37895b",
   "metadata": {},
   "outputs": [],
   "source": [
    "e = {\"is student\" : true} "
   ]
  },
  {
   "cell_type": "code",
   "execution_count": null,
   "id": "59f08c27-355b-46e1-a4d1-41972f825049",
   "metadata": {},
   "outputs": [],
   "source": [
    "e[\"is student\"]"
   ]
  },
  {
   "cell_type": "code",
   "execution_count": null,
   "id": "959d9810-9fba-40ef-98da-197f05dd936a",
   "metadata": {},
   "outputs": [],
   "source": []
  }
 ],
 "metadata": {
  "kernelspec": {
   "display_name": "Python 3 (ipykernel)",
   "language": "python",
   "name": "python3"
  },
  "language_info": {
   "codemirror_mode": {
    "name": "ipython",
    "version": 3
   },
   "file_extension": ".py",
   "mimetype": "text/x-python",
   "name": "python",
   "nbconvert_exporter": "python",
   "pygments_lexer": "ipython3",
   "version": "3.10.8"
  }
 },
 "nbformat": 4,
 "nbformat_minor": 5
}
