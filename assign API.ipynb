{
 "cells": [
  {
   "cell_type": "code",
   "execution_count": null,
   "id": "d0dad19f-201d-4bf9-aef1-3a0ffda614d5",
   "metadata": {},
   "outputs": [],
   "source": [
    "Q1)  #application programming interface is set of rules and protocols that allows different software applications to communicate with each other. in real life API used in weather apps. weather apps uses API for real time weather "
   ]
  },
  {
   "cell_type": "code",
   "execution_count": null,
   "id": "8584fa63-7336-411c-9c58-482d284da245",
   "metadata": {},
   "outputs": [],
   "source": [
    "Q2) #advantages are - interoperability , reusablity , efficiency, scalablity, innovation\n",
    "    #disadvantages - security risks, dependency, data privacy, complexity, cost, limited control"
   ]
  },
  {
   "cell_type": "code",
   "execution_count": null,
   "id": "4267f9ad-2a2c-4c2d-9eb3-d1c6c87d3832",
   "metadata": {},
   "outputs": [],
   "source": [
    "Q3) #web api refers to API that is accessible over the internet using HTTP protocol.Web API enable the integration of different web services "
   ]
  },
  {
   "cell_type": "markdown",
   "id": "d0f85e60-f02d-4202-8e7d-f78001ec7fb8",
   "metadata": {},
   "source": [
    "Q4) #rest is Representational State Transfer. it operates over HTTP which is protocol used by world wide web. SOAP (simple object access protocol) used for XML for message format and relies on other applications "
   ]
  },
  {
   "cell_type": "code",
   "execution_count": null,
   "id": "3137a71c-2b6f-45d8-a066-c244ab5ecf18",
   "metadata": {},
   "outputs": [],
   "source": [
    "Q5) #difference between REST and SOAP \n",
    "    #REST uses HTTP protocol for communication . SOAP uses various protocols like HTTP, SMTP, and more\n",
    "    #REST use JSON and XML but SOAP uses only XML \n",
    "    #REST supports sta"
   ]
  }
 ],
 "metadata": {
  "kernelspec": {
   "display_name": "Python 3 (ipykernel)",
   "language": "python",
   "name": "python3"
  },
  "language_info": {
   "codemirror_mode": {
    "name": "ipython",
    "version": 3
   },
   "file_extension": ".py",
   "mimetype": "text/x-python",
   "name": "python",
   "nbconvert_exporter": "python",
   "pygments_lexer": "ipython3",
   "version": "3.10.8"
  }
 },
 "nbformat": 4,
 "nbformat_minor": 5
}
