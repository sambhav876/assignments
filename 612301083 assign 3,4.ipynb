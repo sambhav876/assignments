{
 "cells": [
  {
   "cell_type": "code",
   "execution_count": 1,
   "id": "71043ee0-d9ed-40d4-a743-4ce5a72aa216",
   "metadata": {},
   "outputs": [
    {
     "name": "stdin",
     "output_type": "stream",
     "text": [
      "Give me an integer of your choice:  83\n",
      "Give me another integer of your choice:  83\n"
     ]
    },
    {
     "name": "stdout",
     "output_type": "stream",
     "text": [
      "1.0\n"
     ]
    }
   ],
   "source": [
    "#assignment 3\n",
    "#1Take two integers as input and divide the first by the second. Prevent div\n",
    "a = int(input(\"Give me an integer of your choice: \"))\n",
    "b = int(input(\"Give me another integer of your choice: \"))\n",
    "print(a/b)"
   ]
  },
  {
   "cell_type": "code",
   "execution_count": 2,
   "id": "fae6c76a-22de-49cb-b9a5-66b9dc3c5263",
   "metadata": {},
   "outputs": [
    {
     "name": "stdout",
     "output_type": "stream",
     "text": [
      "The largest number is 14\n"
     ]
    }
   ],
   "source": [
    "#2Write a program to find the maximum number amongst three numbers.\n",
    "num1 = 10\n",
    "num2 = 14\n",
    "num3 = 12\n",
    "if (num1 >= num2) and (num1 >= num3):\n",
    " largest = num1\n",
    "elif (num2 >= num1) and (num2 >= num3):\n",
    " largest = num2\n",
    "else:\n",
    " largest = num3\n",
    "print(\"The largest number is\", largest)\n"
   ]
  },
  {
   "cell_type": "code",
   "execution_count": 3,
   "id": "aa7ecb2a-165c-4fe9-b984-134fbb376c05",
   "metadata": {},
   "outputs": [
    {
     "ename": "IndentationError",
     "evalue": "expected an indented block after function definition on line 3 (1477178891.py, line 4)",
     "output_type": "error",
     "traceback": [
      "\u001b[0;36m  Cell \u001b[0;32mIn[3], line 4\u001b[0;36m\u001b[0m\n\u001b[0;31m    return x + y\u001b[0m\n\u001b[0m    ^\u001b[0m\n\u001b[0;31mIndentationError\u001b[0m\u001b[0;31m:\u001b[0m expected an indented block after function definition on line 3\n"
     ]
    }
   ],
   "source": [
    " #3 Write a Program to implement a simple calculator to Add, Subtract, Multip\n",
    "# This function adds two numbers\n",
    "def add(x, y):\n",
    " return x + y\n",
    "# This function subtracts two numbers\n",
    "def subtract(x, y):\n",
    " return x - y\n",
    "# This function multiplies two numbers\n",
    "def multiply(x, y):\n",
    " return x * y\n",
    "# This function divides two numbers\n",
    "def divide(x, y):\n",
    " return x / y\n",
    "print(\"Select operation.\")\n",
    "print(\"1.Add\")\n",
    "print(\"2.Subtract\")\n",
    "print(\"3.Multiply\")\n",
    "print(\"4.Divide\")\n",
    "while True:\n",
    " # take input from the user\n",
    " choice = input(\"Enter choice(1/2/3/4): \")\n",
    " # check if choice is one of the four options\n",
    " if choice in ('1', '2', '3', '4'):\n",
    " try:\n",
    " num1 = float(input(\"Enter first number: \"))\n",
    " num2 = float(input(\"Enter second number: \"))\n",
    " except ValueError:\n",
    " print(\"Invalid input. Please enter a number.\")\n",
    " continue\n",
    " if choice == '1':\n",
    " print(num1, \"+\", num2, \"=\", add(num1, num2))\n",
    " elif choice == '2':\n",
    " print(num1, \"-\", num2, \"=\", subtract(num1, num2))\n",
    " elif choice == '3':\n",
    " print(num1, \"*\", num2, \"=\", multiply(num1, num2))\n",
    " elif choice == '4':\n",
    " print(num1, \"/\", num2, \"=\", divide(num1, num2))\n",
    " \n",
    " # check if user wants another calculation\n",
    " # break the while loop if answer is no\n",
    " next_calculation = input(\"Let's do next calculation? (yes/no): \")\n",
    " if next_calculation == \"no\":\n",
    " break\n",
    " else:\n",
    " print(\"Invalid Input\")"
   ]
  },
  {
   "cell_type": "code",
   "execution_count": 4,
   "id": "ed0b7826-c628-4a66-8b1d-78f9ddea635d",
   "metadata": {},
   "outputs": [
    {
     "name": "stdin",
     "output_type": "stream",
     "text": [
      "Enter year to be checked: 2024\n"
     ]
    },
    {
     "name": "stdout",
     "output_type": "stream",
     "text": [
      "The year is a leap year!\n"
     ]
    }
   ],
   "source": [
    "#5 Write a Program to check whether a year given as input by user is Leap Ye\n",
    "# Python Program to Check Leap Year\n",
    "year=int(input(\"Enter year to be checked:\"))\n",
    "if(year%4==0 and year%100!=0 or year%400==0):\n",
    " print(\"The year is a leap year!\")\n",
    "else:\n",
    " print(\"The year isn't a leap year!\")"
   ]
  },
  {
   "cell_type": "code",
   "execution_count": 5,
   "id": "20b0bc6d-4647-4423-9188-238e252dda06",
   "metadata": {},
   "outputs": [
    {
     "name": "stdin",
     "output_type": "stream",
     "text": [
      "Enter a character:  s\n"
     ]
    },
    {
     "name": "stdout",
     "output_type": "stream",
     "text": [
      "s is a Consonant\n"
     ]
    }
   ],
   "source": [
    "#6 Write a program to check whether an alphabet entered by user is vowel or \n",
    "ch = input(\"Enter a character: \")\n",
    "if(ch=='A' or ch=='a' or ch=='E' or ch =='e' or ch=='I'\n",
    "or ch=='i' or ch=='O' or ch=='o' or ch=='U' or ch=='u'):\n",
    " print(ch, \"is a Vowel\")\n",
    "else:\n",
    " print(ch, \"is a Consonant\")"
   ]
  },
  {
   "cell_type": "code",
   "execution_count": 6,
   "id": "10c862b5-ca6d-42d8-a67f-767a74f81318",
   "metadata": {},
   "outputs": [
    {
     "name": "stdin",
     "output_type": "stream",
     "text": [
      "Enter the Mark Maths : 100\n",
      "Enter the Mark physics : 90\n",
      "Enter the Mark chemistry : 100\n",
      "Enter the Mark english : 90\n",
      "Enter the Mark geography : 100\n"
     ]
    },
    {
     "name": "stdout",
     "output_type": "stream",
     "text": [
      "Total : 480\n",
      "Percentage : 96.0\n",
      "First Division..\n"
     ]
    }
   ],
   "source": [
    "# 7\n",
    "m1=int(input(\"Enter the Mark Maths :\"))\n",
    "m2=int(input(\"Enter the Mark physics :\"))\n",
    "m3=int(input(\"Enter the Mark chemistry :\"))\n",
    "m4=int(input(\"Enter the Mark english :\"))\n",
    "m5=int(input(\"Enter the Mark geography :\"))\n",
    "total=m1+m2+m3+m4+m5\n",
    "per=total/5\n",
    "print(\"Total :\",total)\n",
    "print(\"Percentage :\",per)\n",
    "if(per>=60):\n",
    " print(\"First Division..\")\n",
    "elif(per>=50 and per<=59):\n",
    " print(\"Second Division..\")\n",
    "elif(per>=40 and per<=49):\n",
    " print(\"Third Division..\")\n",
    "else:\n",
    " print(\"Fail..\")\n"
   ]
  },
  {
   "cell_type": "code",
   "execution_count": 7,
   "id": "228fed32-448e-4816-80ce-5713dc1490e8",
   "metadata": {},
   "outputs": [
    {
     "name": "stdin",
     "output_type": "stream",
     "text": [
      "Enter any number :  345\n"
     ]
    },
    {
     "name": "stdout",
     "output_type": "stream",
     "text": [
      "\n",
      "Product of all digits in 345 : 60\n"
     ]
    }
   ],
   "source": [
    "#assignment 4\n",
    "#1 Write a Program to find product of digits of a number. (For e.g., user en\n",
    "num = int(input(\"Enter any number : \"))\n",
    "temp = num\n",
    "product = 1;\n",
    "while(temp != 0):\n",
    " product = product * (temp % 10);\n",
    " # Remove last digit from temp.\n",
    " temp = int(temp / 10)\n",
    "print(\"\\nProduct of all digits in\", num, \":\", product)"
   ]
  },
  {
   "cell_type": "code",
   "execution_count": 9,
   "id": "b0cd9153-ce17-4511-a8d4-7c6a3625472f",
   "metadata": {},
   "outputs": [
    {
     "name": "stdin",
     "output_type": "stream",
     "text": [
      "Enter a number:  7\n"
     ]
    },
    {
     "name": "stdout",
     "output_type": "stream",
     "text": [
      "The factorial of 7 is 5040\n"
     ]
    }
   ],
   "source": [
    "#2\n",
    "num = int(input(\"Enter a number: \"))\n",
    "factorial = 1\n",
    "# check if the number is negative, positive or zero\n",
    "if num < 0:\n",
    " print(\"Sorry, factorial does not exist for negative numbers\")\n",
    "elif num == 0:\n",
    " print(\"The factorial of 0 is 1\")\n",
    "else:\n",
    " for i in range(1,num + 1):\n",
    "  factorial = factorial*i\n",
    " print(\"The factorial of\",num,\"is\",factorial)"
   ]
  },
  {
   "cell_type": "code",
   "execution_count": 11,
   "id": "159a3d13-f1ea-476d-8b44-fb9a2bb4d8c0",
   "metadata": {},
   "outputs": [
    {
     "ename": "IndentationError",
     "evalue": "expected an indented block after 'for' statement on line 9 (2718622686.py, line 10)",
     "output_type": "error",
     "traceback": [
      "\u001b[0;36m  Cell \u001b[0;32mIn[11], line 10\u001b[0;36m\u001b[0m\n\u001b[0;31m    if (num % i) == 0:\u001b[0m\n\u001b[0m    ^\u001b[0m\n\u001b[0;31mIndentationError\u001b[0m\u001b[0;31m:\u001b[0m expected an indented block after 'for' statement on line 9\n"
     ]
    }
   ],
   "source": [
    "#Write a program to generate prime numbers from 1 to 10.\n",
    "# Python program to display all the prime numbers within an interval\n",
    "lower = 1\n",
    "upper = 10\n",
    "print(\"Prime numbers between\", lower, \"and\", upper, \"are:\")\n",
    "for num in range(lower, upper + 1):\n",
    " # all prime numbers are greater than 1\n",
    " if num > 1:\n",
    "for i in range(2, num):\n",
    "    if (num % i) == 0:\n",
    "    break\n",
    "    else:\n",
    "    print(num)\n"
   ]
  },
  {
   "cell_type": "code",
   "execution_count": 12,
   "id": "a518c6a2-6c21-4f89-9344-c1cd54ebf7b3",
   "metadata": {},
   "outputs": [
    {
     "name": "stdin",
     "output_type": "stream",
     "text": [
      "Enter the value of n: 234\n"
     ]
    },
    {
     "name": "stdout",
     "output_type": "stream",
     "text": [
      "product of all digit: 24\n"
     ]
    }
   ],
   "source": [
    "# Write a Program to find product of digits of a number. (For e.g., user ent\n",
    " \n",
    "n=int(input(\"Enter the value of n:\"))\n",
    "product=1\n",
    "while(n!=0):\n",
    " digit=n%10\n",
    " product=product*digit\n",
    " n=n//10\n",
    "print(\"product of all digit:\",product)"
   ]
  },
  {
   "cell_type": "code",
   "execution_count": 13,
   "id": "a4f59d6d-31b7-4b11-8092-e8ee59fdcad8",
   "metadata": {},
   "outputs": [
    {
     "name": "stdin",
     "output_type": "stream",
     "text": [
      "Enter the value of n: 258\n"
     ]
    },
    {
     "name": "stdout",
     "output_type": "stream",
     "text": [
      "Reversed Number: 852\n"
     ]
    }
   ],
   "source": [
    "#4 Write a Program to reverse a given number (For e.g., user entered 54823 s\n",
    "num = int(input(\"Enter the value of n:\"))\n",
    "reversed_num = 0\n",
    "while num != 0:\n",
    " digit = num % 10\n",
    " reversed_num = reversed_num * 10 + digit\n",
    " num //= 10\n",
    "print(\"Reversed Number: \" + str(reversed_num))"
   ]
  },
  {
   "cell_type": "code",
   "execution_count": 15,
   "id": "e951a7ed-09bd-4265-b525-7f8cfb9a7351",
   "metadata": {},
   "outputs": [
    {
     "ename": "IndentationError",
     "evalue": "expected an indented block after 'while' statement on line 17 (1327404240.py, line 18)",
     "output_type": "error",
     "traceback": [
      "\u001b[0;36m  Cell \u001b[0;32mIn[15], line 18\u001b[0;36m\u001b[0m\n\u001b[0;31m    print(n1)\u001b[0m\n\u001b[0m    ^\u001b[0m\n\u001b[0;31mIndentationError\u001b[0m\u001b[0;31m:\u001b[0m expected an indented block after 'while' statement on line 17\n"
     ]
    }
   ],
   "source": [
    "#5 Write a program to generate Fibonacci series from 1 to 100.\n",
    "# Program to display the Fibonacci sequence up to n-th term\n",
    "nterms = int(input(\"How many terms? \"))\n",
    "# first two terms\n",
    "n1, n2 = 0, 1\n",
    "count = 0\n",
    "# check if the number of terms is valid\n",
    "if nterms <= 0:\n",
    "    print(\"Please enter a positive integer\")\n",
    "# if there is only one term, return n1\n",
    "elif nterms == 1:\n",
    "    print(\"Fibonacci sequence upto\",nterms,\":\")\n",
    "    print(n1)\n",
    "# generate fibonacci sequence\n",
    "else:\n",
    "    print(\"Fibonacci sequence:\")\n",
    "    while count < nterms:\n",
    "    print(n1)\n",
    "      nth = n1 + n2\n",
    " # update values\n",
    "    n1 = n2\n",
    "    n2 = nth\n",
    "      count += 1\n"
   ]
  },
  {
   "cell_type": "code",
   "execution_count": 16,
   "id": "74a7f2d1-85bd-4cca-9f53-0a44377256d9",
   "metadata": {},
   "outputs": [
    {
     "name": "stdin",
     "output_type": "stream",
     "text": [
      "enter the slary of an employee 20000\n"
     ]
    },
    {
     "name": "stdout",
     "output_type": "stream",
     "text": [
      "2000.0\n"
     ]
    }
   ],
   "source": [
    "#4 salary assighment 3 que4\n",
    "salary=int(input(\"enter the slary of an employee\"))\n",
    "if salary<10000:\n",
    " print(\"enter amount equal to or greater than 10000\")\n",
    "elif salary>=10000 and salary<=20000:\n",
    " print((10/100)*salary)\n",
    "elif salary>20000 and salary<=50000:\n",
    " print((15/100)*salary)\n",
    "elif salary>50000 and salary<=100000:\n",
    " print((20/100)*salary)\n",
    "else:\n",
    " print(\"DA is not given\")"
   ]
  },
  {
   "cell_type": "code",
   "execution_count": 18,
   "id": "ebd4d4a7-f87f-40f3-9aa8-b9907fdd64e3",
   "metadata": {},
   "outputs": [
    {
     "name": "stdin",
     "output_type": "stream",
     "text": [
      "Enter the value of n 5\n"
     ]
    },
    {
     "name": "stdout",
     "output_type": "stream",
     "text": [
      "*\n",
      "*\n",
      "*\n",
      "*\n",
      "*\n",
      "*\n",
      "*\n",
      "*\n",
      "*\n",
      "*\n",
      "*\n",
      "*\n",
      "*\n",
      "*\n",
      "*\n"
     ]
    }
   ],
   "source": [
    "#8(1)\n",
    "n=int(input(\"Enter the value of n\"))\n",
    "for i in range(n):\n",
    " for j in range(n-i-1):\n",
    "    print(\"\",end=\"\")\n",
    " for j in range(i+1):\n",
    "    print(\"*\",end=\"\")\n",
    "    print()"
   ]
  },
  {
   "cell_type": "code",
   "execution_count": 20,
   "id": "965598c7-2936-4a88-997b-6ca9459f915b",
   "metadata": {},
   "outputs": [
    {
     "name": "stdin",
     "output_type": "stream",
     "text": [
      "Enter the value of n 7\n"
     ]
    },
    {
     "name": "stdout",
     "output_type": "stream",
     "text": [
      "            * \n",
      "          * \n",
      "* \n",
      "        * \n",
      "* \n",
      "* \n",
      "      * \n",
      "* \n",
      "* \n",
      "* \n",
      "    * \n",
      "* \n",
      "* \n",
      "* \n",
      "* \n",
      "  * \n",
      "* \n",
      "* \n",
      "* \n",
      "* \n",
      "* \n",
      "* \n",
      "* \n",
      "* \n",
      "* \n",
      "* \n",
      "* \n",
      "* \n"
     ]
    }
   ],
   "source": [
    "#8(2)\n",
    "n=int(input(\"Enter the value of n\"))\n",
    "for i in range(n):\n",
    " for j in range(n-i-1):\n",
    "    print(\" \",end=\" \")\n",
    " for j in range(i+1):\n",
    "    print(\"*\",end=\" \")\n",
    "    print()\n"
   ]
  },
  {
   "cell_type": "code",
   "execution_count": 21,
   "id": "bda7a2bd-9cf6-4814-a373-d2aca4bb0dec",
   "metadata": {},
   "outputs": [
    {
     "name": "stdin",
     "output_type": "stream",
     "text": [
      "Enter the value of n 8\n"
     ]
    },
    {
     "name": "stdout",
     "output_type": "stream",
     "text": [
      "       * \n",
      "      * \n",
      "* \n",
      "     * \n",
      "* \n",
      "* \n",
      "    * \n",
      "* \n",
      "* \n",
      "* \n",
      "   * \n",
      "* \n",
      "* \n",
      "* \n",
      "* \n",
      "  * \n",
      "* \n",
      "* \n",
      "* \n",
      "* \n",
      "* \n",
      " * \n",
      "* \n",
      "* \n",
      "* \n",
      "* \n",
      "* \n",
      "* \n",
      "* \n",
      "* \n",
      "* \n",
      "* \n",
      "* \n",
      "* \n",
      "* \n",
      "* \n"
     ]
    }
   ],
   "source": [
    "#8(3)\n",
    "n=int(input(\"Enter the value of n\"))\n",
    "for i in range(n):\n",
    " for j in range(n-i-1):\n",
    "    print(\"\",end=\" \")\n",
    " for j in range(i+1):\n",
    "    print(\"*\",end=\" \")\n",
    "    print()\n"
   ]
  },
  {
   "cell_type": "code",
   "execution_count": 22,
   "id": "98f54fb6-9c71-494e-b8f5-b8214c77e8ee",
   "metadata": {},
   "outputs": [
    {
     "name": "stdin",
     "output_type": "stream",
     "text": [
      "Enter the value of n 10\n"
     ]
    },
    {
     "name": "stdout",
     "output_type": "stream",
     "text": [
      "1\n",
      "1\n",
      "2\n",
      "1\n",
      "2\n",
      "3\n",
      "1\n",
      "2\n",
      "3\n",
      "4\n",
      "1\n",
      "2\n",
      "3\n",
      "4\n",
      "5\n",
      "1\n",
      "2\n",
      "3\n",
      "4\n",
      "5\n",
      "6\n",
      "1\n",
      "2\n",
      "3\n",
      "4\n",
      "5\n",
      "6\n",
      "7\n",
      "1\n",
      "2\n",
      "3\n",
      "4\n",
      "5\n",
      "6\n",
      "7\n",
      "8\n",
      "1\n",
      "2\n",
      "3\n",
      "4\n",
      "5\n",
      "6\n",
      "7\n",
      "8\n",
      "9\n",
      "1\n",
      "2\n",
      "3\n",
      "4\n",
      "5\n",
      "6\n",
      "7\n",
      "8\n",
      "9\n",
      "10\n"
     ]
    }
   ],
   "source": [
    "#8(4)\n",
    "n=int(input(\"Enter the value of n\"))\n",
    "for i in range(1,n+1):\n",
    " for j in range((n-i)+1):\n",
    "    print(\"\",end=\"\")\n",
    " for j in range(1,i+1):\n",
    "    print(\"{0}\".format(j),end=\"\")\n",
    "    print()"
   ]
  },
  {
   "cell_type": "code",
   "execution_count": 23,
   "id": "eae1848e-b849-49cc-9f29-ca059bc16a5e",
   "metadata": {},
   "outputs": [
    {
     "name": "stdin",
     "output_type": "stream",
     "text": [
      "Enter the value of n 5\n"
     ]
    },
    {
     "name": "stdout",
     "output_type": "stream",
     "text": [
      "A \n",
      "B B \n",
      "C C C \n",
      "D D D D \n",
      "E E E E E \n"
     ]
    }
   ],
   "source": [
    "#8(5)\n",
    "n=int(input(\"Enter the value of n\"))\n",
    "k=ord(\"A\")\n",
    "for i in range(n):\n",
    " for j in range(i+1):\n",
    "    print(chr(k),end=\" \")\n",
    " k=k+1\n",
    " print()\n"
   ]
  },
  {
   "cell_type": "code",
   "execution_count": 24,
   "id": "f7872ea5-8656-49ad-8608-867255bbbfa9",
   "metadata": {},
   "outputs": [
    {
     "name": "stdin",
     "output_type": "stream",
     "text": [
      "enter the number: 150\n"
     ]
    },
    {
     "name": "stdout",
     "output_type": "stream",
     "text": [
      " It is not an Armstrong no:\n"
     ]
    }
   ],
   "source": [
    "# armstrong number\n",
    "n=int(input(\"enter the number:\"))\n",
    "sum=0\n",
    "order=len(str(n))\n",
    "copy_n=n\n",
    "while(n>0):\n",
    " digit=n%10\n",
    " sum+=digit**order\n",
    " n=n//10\n",
    "if (sum==copy_n):\n",
    " print(\"It is an Armstrong no:\")\n",
    "else:\n",
    " print(\" It is not an Armstrong no:\")"
   ]
  },
  {
   "cell_type": "code",
   "execution_count": 26,
   "id": "31fd76e8-3bea-4ccb-aac1-6d02431b015a",
   "metadata": {},
   "outputs": [
    {
     "ename": "SyntaxError",
     "evalue": "invalid syntax. Perhaps you forgot a comma? (678414259.py, line 9)",
     "output_type": "error",
     "traceback": [
      "\u001b[0;36m  Cell \u001b[0;32mIn[26], line 9\u001b[0;36m\u001b[0m\n\u001b[0;31m    term=((-1) * i) * (x_radians * (2 * i +1)) /math.factorial(2 * i + 1\u001b[0m\n\u001b[0m                                                               ^\u001b[0m\n\u001b[0;31mSyntaxError\u001b[0m\u001b[0;31m:\u001b[0m invalid syntax. Perhaps you forgot a comma?\n"
     ]
    }
   ],
   "source": [
    "import math\n",
    "def deg_to_rad(degrees):\n",
    " return degrees * (math.pi/180.0)\n",
    "def compute_series(x_degress,n_terms):\n",
    " x_radians =deg_to_rad(x_degress)\n",
    " sine_series = 0\n",
    " cosine_series = 0\n",
    " for i in range(n_terms):\n",
    "    term=((-1) * i) * (x_radians * (2 * i +1)) /math.factorial(2 * i + 1\n",
    " sine_series += term\n",
    " cosine_series +=((-1) * i) * (x_radians * (2 * i))/math.factorial(2\n",
    " return sine_series,cosine_series\n",
    "#define x and the number of terms in the series\n",
    "x = 30\n",
    "n_terms = 10\n",
    "#Compute the series\n",
    "sine_series, cosine_series=compute_series(x, n_terms)\n",
    "#print the results\n",
    "print(\"Sine series:\", sine_series)\n",
    "print(\"Cosine series:\", cosine_series)"
   ]
  },
  {
   "cell_type": "code",
   "execution_count": null,
   "id": "6e70e38e-e5bb-441c-bf82-00cc27436ec8",
   "metadata": {},
   "outputs": [],
   "source": []
  }
 ],
 "metadata": {
  "kernelspec": {
   "display_name": "Python 3 (ipykernel)",
   "language": "python",
   "name": "python3"
  },
  "language_info": {
   "codemirror_mode": {
    "name": "ipython",
    "version": 3
   },
   "file_extension": ".py",
   "mimetype": "text/x-python",
   "name": "python",
   "nbconvert_exporter": "python",
   "pygments_lexer": "ipython3",
   "version": "3.10.8"
  }
 },
 "nbformat": 4,
 "nbformat_minor": 5
}
