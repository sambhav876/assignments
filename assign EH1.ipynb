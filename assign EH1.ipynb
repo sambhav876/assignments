{
 "cells": [
  {
   "cell_type": "code",
   "execution_count": null,
   "id": "c3a52fcc-fd66-4566-85ed-62c66d95d215",
   "metadata": {},
   "outputs": [],
   "source": [
    "q1) the exception is the error that happens during the execution of a program. syntax errors are the problems in a program due to which the program will stop execution. on the other hande exceptions are raised when some internal events occur which changes normal flow "
   ]
  },
  {
   "cell_type": "code",
   "execution_count": null,
   "id": "6e9a3064-8ab2-461e-b71a-146c0adf1c29",
   "metadata": {},
   "outputs": [],
   "source": [
    "q2) if any exception is not handled then program will crash"
   ]
  },
  {
   "cell_type": "code",
   "execution_count": null,
   "id": "c33c0d65-2d8c-49c3-a172-2b62ef3f8aee",
   "metadata": {},
   "outputs": [],
   "source": [
    "q3) try and except block in python used to catch and handle exceptions."
   ]
  },
  {
   "cell_type": "code",
   "execution_count": null,
   "id": "a76a5171-437d-42de-a5c9-ffdaf58a0c49",
   "metadata": {},
   "outputs": [],
   "source": [
    "q4) in python , custom exceptions allows you to define your own exception class, tailored to specific errors that might occur in your program. by using this we can create more robust error handeling. "
   ]
  },
  {
   "cell_type": "code",
   "execution_count": null,
   "id": "3cef7677-32f4-4807-af80-13a148a92b5d",
   "metadata": {},
   "outputs": [],
   "source": [
    "class Customerror(exception):\n",
    "    def __init__(self , message):\n",
    "        super().__init__(message)\n",
    "        \n",
    "#raise custom exception \n",
    "try:\n",
    "    #some code that might raise the custom exception\n",
    "    raise Customerror(\"this is acustom exception\")"
   ]
  }
 ],
 "metadata": {
  "kernelspec": {
   "display_name": "Python 3 (ipykernel)",
   "language": "python",
   "name": "python3"
  },
  "language_info": {
   "codemirror_mode": {
    "name": "ipython",
    "version": 3
   },
   "file_extension": ".py",
   "mimetype": "text/x-python",
   "name": "python",
   "nbconvert_exporter": "python",
   "pygments_lexer": "ipython3",
   "version": "3.10.8"
  }
 },
 "nbformat": 4,
 "nbformat_minor": 5
}
