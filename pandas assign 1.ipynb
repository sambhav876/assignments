{
 "cells": [
  {
   "cell_type": "code",
   "execution_count": 1,
   "id": "2f9deb7c-178d-4649-acae-bc979ed7f785",
   "metadata": {},
   "outputs": [],
   "source": [
    "import pandas as pd"
   ]
  },
  {
   "cell_type": "code",
   "execution_count": 5,
   "id": "c6fdaf27-3609-45f4-9984-ebbe9c70baaf",
   "metadata": {},
   "outputs": [
    {
     "name": "stdout",
     "output_type": "stream",
     "text": [
      "Requirement already satisfied: pandas in /opt/conda/lib/python3.10/site-packages (1.5.2)\n",
      "Requirement already satisfied: python-dateutil>=2.8.1 in /opt/conda/lib/python3.10/site-packages (from pandas) (2.8.2)\n",
      "Requirement already satisfied: pytz>=2020.1 in /opt/conda/lib/python3.10/site-packages (from pandas) (2022.6)\n",
      "Requirement already satisfied: numpy>=1.21.0 in /opt/conda/lib/python3.10/site-packages (from pandas) (1.23.5)\n",
      "Requirement already satisfied: six>=1.5 in /opt/conda/lib/python3.10/site-packages (from python-dateutil>=2.8.1->pandas) (1.16.0)\n",
      "Note: you may need to restart the kernel to use updated packages.\n"
     ]
    }
   ],
   "source": [
    "pip install pandas"
   ]
  },
  {
   "cell_type": "code",
   "execution_count": null,
   "id": "1dd0119f-ba21-456b-8a47-92b31e1a6774",
   "metadata": {},
   "outputs": [],
   "source": [
    "data = [4,8,15,16,23,42]\n",
    "my_series = pd.series(data)\n",
    "print(my_series)"
   ]
  },
  {
   "cell_type": "code",
   "execution_count": null,
   "id": "ca3832d5-c0c8-47ff-85e6-5cdf239e8448",
   "metadata": {},
   "outputs": [],
   "source": [
    "#question 2 below"
   ]
  },
  {
   "cell_type": "code",
   "execution_count": null,
   "id": "99837641-3f7e-4b19-aa85-7281dbb5e435",
   "metadata": {},
   "outputs": [],
   "source": [
    "my_list = [1,2,3,4,5,6,7,8,9,10]\n",
    "my_series = pd.series(my_list)\n",
    "\n",
    "print(my_series)"
   ]
  },
  {
   "cell_type": "code",
   "execution_count": null,
   "id": "45661646-8222-4283-99c6-31677e1c0354",
   "metadata": {},
   "outputs": [],
   "source": [
    "#question 3 below"
   ]
  },
  {
   "cell_type": "code",
   "execution_count": 17,
   "id": "2b382b67-5a0d-4178-8c5a-924cd5d04dc6",
   "metadata": {},
   "outputs": [
    {
     "ename": "SyntaxError",
     "evalue": "':' expected after dictionary key (2205748951.py, line 1)",
     "output_type": "error",
     "traceback": [
      "\u001b[0;36m  Cell \u001b[0;32mIn[17], line 1\u001b[0;36m\u001b[0m\n\u001b[0;31m    d = {\"name\" : \"alice\",\"bob\",\"claire\"\u001b[0m\n\u001b[0m                              ^\u001b[0m\n\u001b[0;31mSyntaxError\u001b[0m\u001b[0;31m:\u001b[0m ':' expected after dictionary key\n"
     ]
    }
   ],
   "source": [
    "d = {\"name\" : \"alice\",\"bob\",\"claire\"\n",
    "     'age' : [ 25 , 30 ,27]\n",
    "     'gender' :  \"female\", \"male\", \"female\"\n",
    "}"
   ]
  },
  {
   "cell_type": "code",
   "execution_count": null,
   "id": "83416169-a70a-461d-a6ad-5800fdc19b42",
   "metadata": {},
   "outputs": [],
   "source": [
    "pd.dataframe(d)"
   ]
  },
  {
   "cell_type": "code",
   "execution_count": null,
   "id": "b60f1057-08c5-4c02-90b1-8d9ae4872e35",
   "metadata": {},
   "outputs": [],
   "source": [
    "#question 4"
   ]
  },
  {
   "cell_type": "code",
   "execution_count": null,
   "id": "31eef05c-efbc-4f0a-a667-cc3f9a89dfa8",
   "metadata": {},
   "outputs": [],
   "source": [
    "#In Pandas, a DataFrame is a two-dimensional, tabular data structure that is similar to a spreadsheet or a SQL table. It consists of rows and columns, where each column can be of a different data type. Essentially, you can think of a DataFrame as a container for Pandas Series. Each column in a DataFrame is a Series.\n",
    "\n",
    "#On the other hand, a Series is a one-dimensional array-like object that can hold any data type. A DataFrame, therefore, can be thought of as a collection of Series, where each column is a Series."
   ]
  },
  {
   "cell_type": "code",
   "execution_count": null,
   "id": "8328ec13-d622-44c7-8772-0bc438dd344b",
   "metadata": {},
   "outputs": [],
   "source": [
    "# Creating a Pandas Series\n",
    "series_data = pd.Series([1, 2, 3, 4], name='Column_A')\n",
    "\n",
    "# Creating a Pandas DataFrame\n",
    "data = {\n",
    "    'Column_A': [1, 2, 3, 4],\n",
    "    'Column_B': ['A', 'B', 'C', 'D']\n",
    "}\n",
    "\n",
    "df = pd.DataFrame(data)\n",
    "\n",
    "# Printing the Series and DataFrame\n",
    "print(\"Pandas Series:\")\n",
    "print(series_data)\n",
    "print(\"\\nPandas DataFrame:\")\n",
    "print(df)\n",
    "\n",
    "\n",
    "\n",
    "\n",
    "\n",
    "\n",
    "\n"
   ]
  },
  {
   "cell_type": "code",
   "execution_count": null,
   "id": "9ba5325a-0bc1-4644-a6ca-5711b1f8188f",
   "metadata": {},
   "outputs": [],
   "source": [
    "#question 5 \n",
    "\n",
    "#head() and tail()\n",
    "#info()\n",
    "#describe()\n",
    "#shape\n",
    "#column\n",
    "#drop\n",
    "#groupby\n",
    "#fillna\n",
    "#loc and iloc"
   ]
  },
  {
   "cell_type": "code",
   "execution_count": null,
   "id": "992c89f0-03e6-40c5-8e49-c1291a051b39",
   "metadata": {},
   "outputs": [],
   "source": [
    "#question 6\n",
    "\n",
    "#In Pandas, both Series and DataFrame are mutable, meaning you can modify their contents after creation."
   ]
  }
 ],
 "metadata": {
  "kernelspec": {
   "display_name": "Python 3 (ipykernel)",
   "language": "python",
   "name": "python3"
  },
  "language_info": {
   "codemirror_mode": {
    "name": "ipython",
    "version": 3
   },
   "file_extension": ".py",
   "mimetype": "text/x-python",
   "name": "python",
   "nbconvert_exporter": "python",
   "pygments_lexer": "ipython3",
   "version": "3.10.8"
  }
 },
 "nbformat": 4,
 "nbformat_minor": 5
}
