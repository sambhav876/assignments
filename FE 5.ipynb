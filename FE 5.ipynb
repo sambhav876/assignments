{
 "cells": [
  {
   "cell_type": "code",
   "execution_count": null,
   "id": "d6c627ad-1b30-4c39-b8b0-1f333b653612",
   "metadata": {},
   "outputs": [],
   "source": [
    "#question 1\n",
    "\n",
    "To calculate the Pearson correlation coefficient (r) between two variables, you can use the following formula:\n",
    "\n",
    "\\[ r = \\frac{\\sum{(X_i - \\bar{X})(Y_i - \\bar{Y})}}{\\sqrt{\\sum{(X_i - \\bar{X})^2} \\cdot \\sum{(Y_i - \\bar{Y})^2}}} \\]\n",
    "\n",
    "Where:\n",
    "- \\(X_i\\) and \\(Y_i\\) are individual data points.\n",
    "- \\(\\bar{X}\\) and \\(\\bar{Y}\\) are the means of the X and Y variables, respectively.\n",
    "\n",
    "The Pearson correlation coefficient ranges from -1 to 1:\n",
    "\n",
    "- \\(r = 1\\) implies a perfect positive linear relationship.\n",
    "- \\(r = -1\\) implies a perfect negative linear relationship.\n",
    "- \\(r = 0\\) implies no linear relationship.\n",
    "\n",
    "Now, let's interpret the result:\n",
    "\n",
    "- If \\(r > 0\\): There is a positive correlation, meaning that as the amount of time students spend studying increases, their final exam scores tend to increase.\n",
    "  \n",
    "- If \\(r < 0\\): There is a negative correlation, meaning that as the amount of time students spend studying increases, their final exam scores tend to decrease.\n",
    "\n",
    "- If \\(r = 0\\): There is no linear correlation between the two variables.\n",
    "\n",
    "The strength of the correlation is determined by the absolute value of \\(r\\):\n",
    "\n",
    "- \\(|r| \\approx 1\\): Strong correlation.\n",
    "- \\(|r| \\approx 0\\): Weak or no correlation.\n",
    "\n",
    "It's important to note that correlation does not imply causation. Even if there is a correlation between study time and exam scores, it doesn't necessarily mean that studying more causes higher scores; there could be other factors at play."
   ]
  },
  {
   "cell_type": "code",
   "execution_count": null,
   "id": "73c99069-bb12-4247-8ff0-3f9f03a42dda",
   "metadata": {},
   "outputs": [],
   "source": [
    "#question 2\n",
    "\n",
    "Spearman's rank correlation coefficient (\\(\\rho\\)) is used to assess the strength and direction of the monotonic relationship between two variables. Unlike the Pearson correlation coefficient, Spearman's correlation does not assume a linear relationship; it focuses on whether the variables tend to increase or decrease together, regardless of the exact mathematical relationship.\n",
    "\n",
    "To calculate Spearman's rank correlation, follow these steps:\n",
    "\n",
    "1. Rank the data for each variable separately.\n",
    "2. Calculate the differences in ranks (\\(d_i\\)) for each pair of corresponding data points.\n",
    "3. Square each difference (\\(d_i^2\\)).\n",
    "4. Sum up the squared differences.\n",
    "5. Use the formula:\n",
    "\n",
    "\\[ \\rho = 1 - \\frac{6 \\sum{d_i^2}}{n(n^2 - 1)} \\]\n",
    "\n",
    "Where \\(n\\) is the number of data points.\n",
    "\n",
    "Interpretation:\n",
    "\n",
    "- If \\(\\rho = 1\\): Perfect monotonic positive relationship (as one variable increases, the other also increases).\n",
    "  \n",
    "- If \\(\\rho = -1\\): Perfect monotonic negative relationship (as one variable increases, the other decreases).\n",
    "\n",
    "- If \\(\\rho = 0\\): No monotonic relationship.\n",
    "\n",
    "The strength of the correlation is determined by the absolute value of \\(\\rho\\):\n",
    "\n",
    "- \\(|\\rho| \\approx 1\\): Strong monotonic correlation.\n",
    "- \\(|\\rho| \\approx 0\\): Weak or no monotonic correlation.\n",
    "\n",
    "In your case, if the Spearman's rank correlation coefficient is significantly different from zero, it would suggest a monotonic relationship between the amount of sleep individuals get each night and their overall job satisfaction level. Positive \\(\\rho\\) would imply that as the amount of sleep increases, job satisfaction tends to increase, while negative \\(\\rho\\) would imply the opposite. If \\(\\rho\\) is close to zero, there may not be a strong monotonic relationship between the two variables."
   ]
  },
  {
   "cell_type": "code",
   "execution_count": 3,
   "id": "b9bfffef-d462-4ae0-9a20-62c663a3a99e",
   "metadata": {},
   "outputs": [
    {
     "ename": "ValueError",
     "evalue": "x and y must have the same length.",
     "output_type": "error",
     "traceback": [
      "\u001b[0;31m---------------------------------------------------------------------------\u001b[0m",
      "\u001b[0;31mValueError\u001b[0m                                Traceback (most recent call last)",
      "Cell \u001b[0;32mIn[3], line 12\u001b[0m\n\u001b[1;32m      9\u001b[0m bmi \u001b[38;5;241m=\u001b[39m np\u001b[38;5;241m.\u001b[39marray([\u001b[38;5;241m22\u001b[39m, \u001b[38;5;241m25\u001b[39m, \u001b[38;5;241m20\u001b[39m, \u001b[38;5;241m24\u001b[39m, \u001b[38;5;241m26\u001b[39m, \u001b[38;5;241m18\u001b[39m, \u001b[38;5;241m22\u001b[39m, \u001b[38;5;241m19\u001b[39m, \u001b[38;5;241m25\u001b[39m, \u001b[38;5;241m23\u001b[39m, \u001b[38;5;241m21\u001b[39m, \u001b[38;5;241m17\u001b[39m, \u001b[38;5;241m27\u001b[39m, \u001b[38;5;241m20\u001b[39m, \u001b[38;5;241m24\u001b[39m, \u001b[38;5;241m26\u001b[39m, \u001b[38;5;241m18\u001b[39m, \u001b[38;5;241m22\u001b[39m, \u001b[38;5;241m28\u001b[39m, \u001b[38;5;241m24\u001b[39m, \u001b[38;5;241m20\u001b[39m, \u001b[38;5;241m27\u001b[39m, \u001b[38;5;241m17\u001b[39m, \u001b[38;5;241m23\u001b[39m, \u001b[38;5;241m25\u001b[39m, \u001b[38;5;241m28\u001b[39m, \u001b[38;5;241m19\u001b[39m, \u001b[38;5;241m26\u001b[39m, \u001b[38;5;241m17\u001b[39m, \u001b[38;5;241m23\u001b[39m, \u001b[38;5;241m25\u001b[39m, \u001b[38;5;241m28\u001b[39m, \u001b[38;5;241m20\u001b[39m, \u001b[38;5;241m27\u001b[39m, \u001b[38;5;241m17\u001b[39m, \u001b[38;5;241m23\u001b[39m, \u001b[38;5;241m25\u001b[39m, \u001b[38;5;241m28\u001b[39m, \u001b[38;5;241m19\u001b[39m, \u001b[38;5;241m26\u001b[39m, \u001b[38;5;241m17\u001b[39m, \u001b[38;5;241m23\u001b[39m, \u001b[38;5;241m25\u001b[39m, \u001b[38;5;241m20\u001b[39m, \u001b[38;5;241m27\u001b[39m, \u001b[38;5;241m18\u001b[39m, \u001b[38;5;241m23\u001b[39m, \u001b[38;5;241m25\u001b[39m, \u001b[38;5;241m28\u001b[39m, \u001b[38;5;241m19\u001b[39m, \u001b[38;5;241m26\u001b[39m])\n\u001b[1;32m     11\u001b[0m \u001b[38;5;66;03m# Calculate Pearson correlation coefficient\u001b[39;00m\n\u001b[0;32m---> 12\u001b[0m pearson_corr, _ \u001b[38;5;241m=\u001b[39m \u001b[43mpearsonr\u001b[49m\u001b[43m(\u001b[49m\u001b[43mhours_of_exercise\u001b[49m\u001b[43m,\u001b[49m\u001b[43m \u001b[49m\u001b[43mbmi\u001b[49m\u001b[43m)\u001b[49m\n\u001b[1;32m     14\u001b[0m \u001b[38;5;66;03m# Calculate Spearman's rank correlation coefficient\u001b[39;00m\n\u001b[1;32m     15\u001b[0m spearman_corr, _ \u001b[38;5;241m=\u001b[39m spearmanr(hours_of_exercise, bmi)\n",
      "File \u001b[0;32m/opt/conda/lib/python3.10/site-packages/scipy/stats/_stats_py.py:4415\u001b[0m, in \u001b[0;36mpearsonr\u001b[0;34m(x, y, alternative)\u001b[0m\n\u001b[1;32m   4413\u001b[0m n \u001b[38;5;241m=\u001b[39m \u001b[38;5;28mlen\u001b[39m(x)\n\u001b[1;32m   4414\u001b[0m \u001b[38;5;28;01mif\u001b[39;00m n \u001b[38;5;241m!=\u001b[39m \u001b[38;5;28mlen\u001b[39m(y):\n\u001b[0;32m-> 4415\u001b[0m     \u001b[38;5;28;01mraise\u001b[39;00m \u001b[38;5;167;01mValueError\u001b[39;00m(\u001b[38;5;124m'\u001b[39m\u001b[38;5;124mx and y must have the same length.\u001b[39m\u001b[38;5;124m'\u001b[39m)\n\u001b[1;32m   4417\u001b[0m \u001b[38;5;28;01mif\u001b[39;00m n \u001b[38;5;241m<\u001b[39m \u001b[38;5;241m2\u001b[39m:\n\u001b[1;32m   4418\u001b[0m     \u001b[38;5;28;01mraise\u001b[39;00m \u001b[38;5;167;01mValueError\u001b[39;00m(\u001b[38;5;124m'\u001b[39m\u001b[38;5;124mx and y must have length at least 2.\u001b[39m\u001b[38;5;124m'\u001b[39m)\n",
      "\u001b[0;31mValueError\u001b[0m: x and y must have the same length."
     ]
    }
   ],
   "source": [
    "#question 3\n",
    "\n",
    "import numpy as np\n",
    "from scipy.stats import pearsonr, spearmanr\n",
    "\n",
    "# Sample data (replace with your actual data)\n",
    "hours_of_exercise = np.array([3, 5, 2, 4, 6, 1, 3, 2, 5, 4, 3, 1, 6, 2, 4, 5, 1, 3, 6, 4, 2, 5, 1, 3, 4, 6, 2, 5, 1, 3, 4, 6, 2, 5, 1, 3, 4, 6, 2, 5, 1, 3, 4, 2, 5, 1, 3, 4, 6])\n",
    "\n",
    "bmi = np.array([22, 25, 20, 24, 26, 18, 22, 19, 25, 23, 21, 17, 27, 20, 24, 26, 18, 22, 28, 24, 20, 27, 17, 23, 25, 28, 19, 26, 17, 23, 25, 28, 20, 27, 17, 23, 25, 28, 19, 26, 17, 23, 25, 20, 27, 18, 23, 25, 28, 19, 26])\n",
    "\n",
    "# Calculate Pearson correlation coefficient\n",
    "pearson_corr, _ = pearsonr(hours_of_exercise, bmi)\n",
    "\n",
    "# Calculate Spearman's rank correlation coefficient\n",
    "spearman_corr, _ = spearmanr(hours_of_exercise, bmi)\n",
    "\n",
    "print(f\"Pearson correlation coefficient: {pearson_corr:.4f}\")\n",
    "print(f\"Spearman's rank correlation coefficient: {spearman_corr:.4f}\")\n"
   ]
  },
  {
   "cell_type": "code",
   "execution_count": 2,
   "id": "b531bc20-1d11-4b6b-a201-aeae23e1325e",
   "metadata": {},
   "outputs": [
    {
     "ename": "ValueError",
     "evalue": "x and y must have the same length.",
     "output_type": "error",
     "traceback": [
      "\u001b[0;31m---------------------------------------------------------------------------\u001b[0m",
      "\u001b[0;31mValueError\u001b[0m                                Traceback (most recent call last)",
      "Cell \u001b[0;32mIn[2], line 11\u001b[0m\n\u001b[1;32m      8\u001b[0m physical_activity \u001b[38;5;241m=\u001b[39m np\u001b[38;5;241m.\u001b[39marray([\u001b[38;5;241m5\u001b[39m, \u001b[38;5;241m8\u001b[39m, \u001b[38;5;241m3\u001b[39m, \u001b[38;5;241m2\u001b[39m, \u001b[38;5;241m6\u001b[39m, \u001b[38;5;241m4\u001b[39m, \u001b[38;5;241m7\u001b[39m, \u001b[38;5;241m2\u001b[39m, \u001b[38;5;241m5\u001b[39m, \u001b[38;5;241m3\u001b[39m, \u001b[38;5;241m8\u001b[39m, \u001b[38;5;241m2\u001b[39m, \u001b[38;5;241m5\u001b[39m, \u001b[38;5;241m3\u001b[39m, \u001b[38;5;241m7\u001b[39m, \u001b[38;5;241m2\u001b[39m, \u001b[38;5;241m6\u001b[39m, \u001b[38;5;241m4\u001b[39m, \u001b[38;5;241m8\u001b[39m, \u001b[38;5;241m2\u001b[39m, \u001b[38;5;241m5\u001b[39m, \u001b[38;5;241m3\u001b[39m, \u001b[38;5;241m7\u001b[39m, \u001b[38;5;241m2\u001b[39m, \u001b[38;5;241m6\u001b[39m, \u001b[38;5;241m4\u001b[39m, \u001b[38;5;241m8\u001b[39m, \u001b[38;5;241m2\u001b[39m, \u001b[38;5;241m5\u001b[39m, \u001b[38;5;241m3\u001b[39m, \u001b[38;5;241m7\u001b[39m, \u001b[38;5;241m2\u001b[39m, \u001b[38;5;241m6\u001b[39m, \u001b[38;5;241m4\u001b[39m, \u001b[38;5;241m8\u001b[39m, \u001b[38;5;241m2\u001b[39m, \u001b[38;5;241m5\u001b[39m, \u001b[38;5;241m3\u001b[39m, \u001b[38;5;241m7\u001b[39m, \u001b[38;5;241m2\u001b[39m, \u001b[38;5;241m6\u001b[39m, \u001b[38;5;241m4\u001b[39m, \u001b[38;5;241m8\u001b[39m, \u001b[38;5;241m2\u001b[39m, \u001b[38;5;241m5\u001b[39m, \u001b[38;5;241m3\u001b[39m, \u001b[38;5;241m7\u001b[39m, \u001b[38;5;241m2\u001b[39m, \u001b[38;5;241m6\u001b[39m])\n\u001b[1;32m     10\u001b[0m \u001b[38;5;66;03m# Calculate Pearson correlation coefficient\u001b[39;00m\n\u001b[0;32m---> 11\u001b[0m pearson_corr, _ \u001b[38;5;241m=\u001b[39m \u001b[43mpearsonr\u001b[49m\u001b[43m(\u001b[49m\u001b[43mhours_watching_tv\u001b[49m\u001b[43m,\u001b[49m\u001b[43m \u001b[49m\u001b[43mphysical_activity\u001b[49m\u001b[43m)\u001b[49m\n\u001b[1;32m     13\u001b[0m \u001b[38;5;28mprint\u001b[39m(\u001b[38;5;124mf\u001b[39m\u001b[38;5;124m\"\u001b[39m\u001b[38;5;124mPearson correlation coefficient: \u001b[39m\u001b[38;5;132;01m{\u001b[39;00mpearson_corr\u001b[38;5;132;01m:\u001b[39;00m\u001b[38;5;124m.4f\u001b[39m\u001b[38;5;132;01m}\u001b[39;00m\u001b[38;5;124m\"\u001b[39m)\n",
      "File \u001b[0;32m/opt/conda/lib/python3.10/site-packages/scipy/stats/_stats_py.py:4415\u001b[0m, in \u001b[0;36mpearsonr\u001b[0;34m(x, y, alternative)\u001b[0m\n\u001b[1;32m   4413\u001b[0m n \u001b[38;5;241m=\u001b[39m \u001b[38;5;28mlen\u001b[39m(x)\n\u001b[1;32m   4414\u001b[0m \u001b[38;5;28;01mif\u001b[39;00m n \u001b[38;5;241m!=\u001b[39m \u001b[38;5;28mlen\u001b[39m(y):\n\u001b[0;32m-> 4415\u001b[0m     \u001b[38;5;28;01mraise\u001b[39;00m \u001b[38;5;167;01mValueError\u001b[39;00m(\u001b[38;5;124m'\u001b[39m\u001b[38;5;124mx and y must have the same length.\u001b[39m\u001b[38;5;124m'\u001b[39m)\n\u001b[1;32m   4417\u001b[0m \u001b[38;5;28;01mif\u001b[39;00m n \u001b[38;5;241m<\u001b[39m \u001b[38;5;241m2\u001b[39m:\n\u001b[1;32m   4418\u001b[0m     \u001b[38;5;28;01mraise\u001b[39;00m \u001b[38;5;167;01mValueError\u001b[39;00m(\u001b[38;5;124m'\u001b[39m\u001b[38;5;124mx and y must have length at least 2.\u001b[39m\u001b[38;5;124m'\u001b[39m)\n",
      "\u001b[0;31mValueError\u001b[0m: x and y must have the same length."
     ]
    }
   ],
   "source": [
    "#question 4\n",
    "\n",
    "import numpy as np\n",
    "from scipy.stats import pearsonr\n",
    "\n",
    "# Sample data (replace with your actual data)\n",
    "hours_watching_tv = np.array([2, 1, 3, 4, 2, 3, 1, 4, 2, 3, 1, 4, 2, 3, 1, 4, 2, 3, 1, 4, 2, 3, 1, 4, 2, 3, 1, 4, 2, 3, 1, 4, 2, 3, 1, 4, 2, 3, 1, 4, 2, 3, 1, 4, 2, 3, 1, 4])\n",
    "physical_activity = np.array([5, 8, 3, 2, 6, 4, 7, 2, 5, 3, 8, 2, 5, 3, 7, 2, 6, 4, 8, 2, 5, 3, 7, 2, 6, 4, 8, 2, 5, 3, 7, 2, 6, 4, 8, 2, 5, 3, 7, 2, 6, 4, 8, 2, 5, 3, 7, 2, 6])\n",
    "\n",
    "# Calculate Pearson correlation coefficient\n",
    "pearson_corr, _ = pearsonr(hours_watching_tv, physical_activity)\n",
    "\n",
    "print(f\"Pearson correlation coefficient: {pearson_corr:.4f}\")\n"
   ]
  },
  {
   "cell_type": "code",
   "execution_count": 1,
   "id": "12d3663b-2c8f-4d80-ad70-341e840bf45a",
   "metadata": {},
   "outputs": [
    {
     "name": "stdout",
     "output_type": "stream",
     "text": [
      "Pearson correlation coefficient: 0.9722\n"
     ]
    }
   ],
   "source": [
    "#question 5\n",
    "\n",
    "\n",
    "import numpy as np\n",
    "from scipy.stats import pearsonr\n",
    "\n",
    "# Sample data (replace with your actual data)\n",
    "sales_calls_per_day = np.array([10, 12, 8, 15, 11, 9, 13, 14, 10, 12, 8, 15, 11, 9, 13, 14, 10, 12, 8, 15, 11, 9, 13, 14, 10, 12, 8, 15, 11, 9])\n",
    "sales_per_week = np.array([30, 35, 25, 40, 33, 28, 37, 39, 31, 36, 27, 42, 34, 29, 38, 41, 32, 37, 26, 43, 35, 30, 39, 42, 33, 38, 28, 44, 36, 31])\n",
    "\n",
    "# Calculate Pearson correlation coefficient\n",
    "pearson_corr, _ = pearsonr(sales_calls_per_day, sales_per_week)\n",
    "\n",
    "print(f\"Pearson correlation coefficient: {pearson_corr:.4f}\")\n"
   ]
  },
  {
   "cell_type": "code",
   "execution_count": null,
   "id": "79b79fb2-b614-495a-b830-fdc86ffa64ee",
   "metadata": {},
   "outputs": [],
   "source": []
  }
 ],
 "metadata": {
  "kernelspec": {
   "display_name": "Python 3 (ipykernel)",
   "language": "python",
   "name": "python3"
  },
  "language_info": {
   "codemirror_mode": {
    "name": "ipython",
    "version": 3
   },
   "file_extension": ".py",
   "mimetype": "text/x-python",
   "name": "python",
   "nbconvert_exporter": "python",
   "pygments_lexer": "ipython3",
   "version": "3.10.8"
  }
 },
 "nbformat": 4,
 "nbformat_minor": 5
}
