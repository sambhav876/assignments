{
 "cells": [
  {
   "cell_type": "code",
   "execution_count": 1,
   "id": "98a7e88a-863f-4ca7-aa26-20cf2b1cad70",
   "metadata": {},
   "outputs": [],
   "source": [
    "a = [('sachin tendulkar',34357), ('ricky ponting', 27483), ('jack kallis', 25534), ('virat kohli', 24936)]"
   ]
  },
  {
   "cell_type": "code",
   "execution_count": 4,
   "id": "e0202770-1969-430c-a432-1af4b5ac4086",
   "metadata": {},
   "outputs": [
    {
     "data": {
      "text/plain": [
       "[('sachin tendulkar', 34357),\n",
       " ('ricky ponting', 27483),\n",
       " ('jack kallis', 25534),\n",
       " ('virat kohli', 24936)]"
      ]
     },
     "execution_count": 4,
     "metadata": {},
     "output_type": "execute_result"
    }
   ],
   "source": [
    "list(filter(lambda y : len(y), a ))"
   ]
  },
  {
   "cell_type": "code",
   "execution_count": 5,
   "id": "42209f09-c242-485b-97ba-0ab8470b9bd5",
   "metadata": {},
   "outputs": [],
   "source": [
    "b = [1,2,3,4,5,6,7,8,9,10]"
   ]
  },
  {
   "cell_type": "code",
   "execution_count": 6,
   "id": "d4032cdb-4882-4f85-a923-52a244c23699",
   "metadata": {},
   "outputs": [],
   "source": [
    "def sq(x):\n",
    "    return x**2"
   ]
  },
  {
   "cell_type": "code",
   "execution_count": 7,
   "id": "0154e40e-b229-46cb-adac-751eb515a86c",
   "metadata": {},
   "outputs": [
    {
     "data": {
      "text/plain": [
       "[1, 4, 9, 16, 25, 36, 49, 64, 81, 100]"
      ]
     },
     "execution_count": 7,
     "metadata": {},
     "output_type": "execute_result"
    }
   ],
   "source": [
    "list(map( sq, b))"
   ]
  },
  {
   "cell_type": "code",
   "execution_count": 8,
   "id": "fe3a03fd-446e-425c-a1c0-fb8bd282e1f2",
   "metadata": {},
   "outputs": [],
   "source": [
    "c = [1,2,3,4,5,6,7,8,9,10]"
   ]
  },
  {
   "cell_type": "code",
   "execution_count": 14,
   "id": "11f12c9f-61c8-44d4-aa36-e7b6cb1c3539",
   "metadata": {},
   "outputs": [
    {
     "data": {
      "text/plain": [
       "[1, 2, 3, 4, 5, 6, 7, 8, 9, 10]"
      ]
     },
     "execution_count": 14,
     "metadata": {},
     "output_type": "execute_result"
    }
   ],
   "source": [
    "list(map( lambda c : c , c ))"
   ]
  },
  {
   "cell_type": "code",
   "execution_count": 15,
   "id": "e2b1df83-9d81-4f12-9ab7-42991f044fe8",
   "metadata": {},
   "outputs": [],
   "source": [
    "l = [1,2,3,4,5,6,7,8,9,10,11,12,13,14,15,16,17,18,19,20,21,22,23,24,25]"
   ]
  },
  {
   "cell_type": "code",
   "execution_count": 19,
   "id": "3bad441b-c2ec-4b78-89a5-c068f34810a0",
   "metadata": {},
   "outputs": [
    {
     "ename": "NameError",
     "evalue": "name 'reduce' is not defined",
     "output_type": "error",
     "traceback": [
      "\u001b[0;31m---------------------------------------------------------------------------\u001b[0m",
      "\u001b[0;31mNameError\u001b[0m                                 Traceback (most recent call last)",
      "Cell \u001b[0;32mIn[19], line 1\u001b[0m\n\u001b[0;32m----> 1\u001b[0m \u001b[43mreduce\u001b[49m(\u001b[38;5;28;01mlambda\u001b[39;00m x,y : x\u001b[38;5;241m*\u001b[39my, l )\n",
      "\u001b[0;31mNameError\u001b[0m: name 'reduce' is not defined"
     ]
    }
   ],
   "source": [
    "reduce(lambda x,y : x*y, l )"
   ]
  },
  {
   "cell_type": "code",
   "execution_count": 20,
   "id": "b43ce411-41dc-45a3-8b18-c231a4107543",
   "metadata": {},
   "outputs": [],
   "source": [
    "d =  [2,3,6,9,27,60,90,120,55,46]"
   ]
  },
  {
   "cell_type": "code",
   "execution_count": 22,
   "id": "996292fd-c2bb-4397-bcc3-218e088e9d10",
   "metadata": {},
   "outputs": [
    {
     "data": {
      "text/plain": [
       "[3, 9, 27, 55]"
      ]
     },
     "execution_count": 22,
     "metadata": {},
     "output_type": "execute_result"
    }
   ],
   "source": [
    "list(filter( lambda x : x%2 , d))"
   ]
  },
  {
   "cell_type": "code",
   "execution_count": null,
   "id": "2cc4f092-a895-4b73-9ce5-15d85e7dbb1a",
   "metadata": {},
   "outputs": [],
   "source": []
  },
  {
   "cell_type": "code",
   "execution_count": 20,
   "id": "be98734c-91d5-4a5a-80c9-629307cf8b0c",
   "metadata": {},
   "outputs": [],
   "source": [
    "d =  [2,3,6,9,27,60,90,120,55,46]"
   ]
  },
  {
   "cell_type": "code",
   "execution_count": 23,
   "id": "b2d463de-b978-49f1-89cb-fbdf1d87e650",
   "metadata": {},
   "outputs": [
    {
     "data": {
      "text/plain": [
       "[2, 55, 46]"
      ]
     },
     "execution_count": 23,
     "metadata": {},
     "output_type": "execute_result"
    }
   ],
   "source": [
    "list(filter( lambda x : x%3 , d))"
   ]
  },
  {
   "cell_type": "code",
   "execution_count": null,
   "id": "22555dcf-3606-4ffc-8afb-ef462653dcaf",
   "metadata": {},
   "outputs": [],
   "source": []
  }
 ],
 "metadata": {
  "kernelspec": {
   "display_name": "Python 3 (ipykernel)",
   "language": "python",
   "name": "python3"
  },
  "language_info": {
   "codemirror_mode": {
    "name": "ipython",
    "version": 3
   },
   "file_extension": ".py",
   "mimetype": "text/x-python",
   "name": "python",
   "nbconvert_exporter": "python",
   "pygments_lexer": "ipython3",
   "version": "3.10.8"
  }
 },
 "nbformat": 4,
 "nbformat_minor": 5
}
