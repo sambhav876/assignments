{
 "cells": [
  {
   "cell_type": "code",
   "execution_count": null,
   "id": "023c7f6e-701c-44cc-880f-d2320e651eba",
   "metadata": {},
   "outputs": [],
   "source": [
    "#mongo DB is non relational database also known as NoSQL. Non relational database like MongoDB do not use a fixed schema, which means data stored doesn't need predefined structure"
   ]
  },
  {
   "cell_type": "code",
   "execution_count": null,
   "id": "d1abc18e-e11d-4968-be33-01cb774f1cf0",
   "metadata": {},
   "outputs": [],
   "source": [
    "# featurers of mongoDB is flexible schema, scaliblity, high performance, richh query language, indexing, aggregation framework, Geospatial indexing, replication, security"
   ]
  },
  {
   "cell_type": "code",
   "execution_count": null,
   "id": "ec05b6eb-a7dd-4df5-8683-71dec6d9a98c",
   "metadata": {},
   "outputs": [],
   "source": [
    "pip install pymongo\n",
    "\n",
    "from pymongo import MongoClient \n",
    "\n",
    "client = MongoClient(\"mongodb://localhost:27017/\")\n",
    "db = client.mydatabase\n",
    "\n",
    "collection = db.mycollection\n",
    "\n",
    "data = {\n",
    "    \"key\":\"value\"\n",
    "    \"another_key\":\"another_value\"\n",
    "}\n",
    "\n",
    "collection.insert_one(data)\n",
    "\n",
    "client.close()"
   ]
  },
  {
   "cell_type": "code",
   "execution_count": null,
   "id": "4bfeefca-7722-4307-a6b2-91fa8355ebbb",
   "metadata": {},
   "outputs": [],
   "source": [
    "from pymongo import MongoClient \n",
    "\n",
    "client = MongoClient(\"mongodb://localhost:27017/\")\n",
    "\n",
    "db = client.mydatabase\n",
    "collection = db.mycollection\n",
    "\n",
    "record_one = {\n",
    "    \"name\": \"sam\",\n",
    "    \"age\" : 20,\n",
    "    \"city\" : \"mumbai\"\n",
    "}\n",
    "collection.insert_one(record_one)\n",
    "\n",
    "one_record = collection.find_one({\"name\": \"sam\"})\n",
    "print(\"Find One Record\")\n",
    "print(one_record)\n",
    "\n",
    "all_records = collection.find()\n",
    "print(\"\\Find All Record:\")\n",
    "for record in all_records:\n",
    "    print(record)\n",
    "    \n",
    "    client.close()"
   ]
  },
  {
   "cell_type": "code",
   "execution_count": null,
   "id": "23c503bb-c833-4b44-b43d-3132be35998e",
   "metadata": {},
   "outputs": [],
   "source": [
    "from pymongo import MongoClient \n",
    "\n",
    "client = MongoClient(\"mongodb://localhost:27017/\")\n",
    "db = client.mydatabase\n",
    "\n",
    "collection = db.mycollection\n",
    "\n",
    "sample_data = [\n",
    "    {\"name\": \"sam\", \"age\":20},\n",
    "    {\"name\": \"king\", \"age\":21},\n",
    "    {\"name\": \"hies\", \"age\":22}\n",
    "]\n",
    "collection.insert_many(sample_data)\n",
    "all_documents = collection.find()\n",
    "\n",
    "print(\"\\nDocument with age >= 22:\")\n",
    "for documents in specific_documents:\n",
    "    print(document)\n",
    "    \n",
    "client.close()"
   ]
  },
  {
   "cell_type": "code",
   "execution_count": null,
   "id": "d1a1fb78-4413-4369-af03-fe96ac6b3bf8",
   "metadata": {},
   "outputs": [],
   "source": [
    "#delete_one() is used to delete a single document from a collection of database \n",
    "#"
   ]
  }
 ],
 "metadata": {
  "kernelspec": {
   "display_name": "Python 3 (ipykernel)",
   "language": "python",
   "name": "python3"
  },
  "language_info": {
   "codemirror_mode": {
    "name": "ipython",
    "version": 3
   },
   "file_extension": ".py",
   "mimetype": "text/x-python",
   "name": "python",
   "nbconvert_exporter": "python",
   "pygments_lexer": "ipython3",
   "version": "3.10.8"
  }
 },
 "nbformat": 4,
 "nbformat_minor": 5
}
