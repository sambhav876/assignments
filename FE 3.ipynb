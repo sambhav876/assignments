{
 "cells": [
  {
   "cell_type": "code",
   "execution_count": null,
   "id": "9785f242-1e3d-4b42-bedc-ffee6e1870b2",
   "metadata": {},
   "outputs": [],
   "source": [
    "#question 1\n",
    "\n",
    "#Data encoding is the process of converting data from one form to another. In the context of data science, encoding is often used to represent information in a format that is suitable for processing, storage, or transmission. There are several types of data encoding, and the choice of encoding depends on the specific requirements of the task at hand."
   ]
  },
  {
   "cell_type": "code",
   "execution_count": null,
   "id": "0805e925-c53c-475a-8726-deef036376a4",
   "metadata": {},
   "outputs": [],
   "source": [
    "#question 2\n",
    "\n",
    "#Nominal encoding is a type of categorical data encoding that assigns a unique integer value to each category or label without imposing any inherent order or ranking. In other words, nominal encoding is suitable for categorical variables where there is no meaningful ordinal relationship between the categories."
   ]
  },
  {
   "cell_type": "code",
   "execution_count": null,
   "id": "8a3512d8-4407-4b59-8e2a-ce23db66f6c6",
   "metadata": {},
   "outputs": [],
   "source": [
    "#question 3\n",
    "\n",
    "#Nominal encoding and one-hot encoding are both methods used to represent categorical data, but they serve different purposes. The choice between them depends on the nature of the categorical variable and the requirements of the specific data analysis or machine learning task. Here are situations where nominal encoding might be preferred over one-hot encoding:\n",
    "| ProductID |   Product Category   |  Price  |  Quantity Sold  |\n",
    "|-----------|----------------------|---------|------------------|\n",
    "|    001    |     Electronics      |  $500   |       50         |\n",
    "|    002    |        Clothing       |  $30    |      200         |\n",
    "|    003    |        Appliances     |  $200   |       30         |\n",
    "|    004    |     Sports & Outdoors  |  $80    |       80         |\n",
    "|    ...    |         ...            |   ...   |       ...        |\n"
   ]
  },
  {
   "cell_type": "code",
   "execution_count": null,
   "id": "dcb78c0b-db24-48a0-983a-c64624ffafe0",
   "metadata": {},
   "outputs": [],
   "source": [
    "#question 4\n",
    "\n",
    "#"
   ]
  }
 ],
 "metadata": {
  "kernelspec": {
   "display_name": "Python 3 (ipykernel)",
   "language": "python",
   "name": "python3"
  },
  "language_info": {
   "codemirror_mode": {
    "name": "ipython",
    "version": 3
   },
   "file_extension": ".py",
   "mimetype": "text/x-python",
   "name": "python",
   "nbconvert_exporter": "python",
   "pygments_lexer": "ipython3",
   "version": "3.10.8"
  }
 },
 "nbformat": 4,
 "nbformat_minor": 5
}
