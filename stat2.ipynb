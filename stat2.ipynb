{
 "cells": [
  {
   "cell_type": "code",
   "execution_count": null,
   "id": "220ae25c-6e21-47b3-b0f9-4703b992dd19",
   "metadata": {},
   "outputs": [],
   "source": [
    "#question 1\n",
    "#mode , mean, median"
   ]
  },
  {
   "cell_type": "code",
   "execution_count": null,
   "id": "72b80d8f-e985-4b0c-baaa-e0f27ea8b6a7",
   "metadata": {},
   "outputs": [],
   "source": [
    "#question 2\n",
    "\n",
    "#Use the mean when the data is approximately normally distributed and there are no extreme values affecting the central tendency significantly.\n",
    "#Use the median when the data is skewed or contains outliers, as it is less sensitive to extreme values.\n",
    "#Use the mode when looking for the most common values or categories in categorical data."
   ]
  },
  {
   "cell_type": "code",
   "execution_count": 1,
   "id": "b9c6950a-386e-4caa-b736-96ac9d6bc204",
   "metadata": {},
   "outputs": [],
   "source": [
    "#question 3\n",
    "\n",
    "import numpy as np\n",
    "height = [178,177,176,177,178.2,178,175,179,180,175,178.9,176.2,177,172.5,178,176.5]"
   ]
  },
  {
   "cell_type": "code",
   "execution_count": 2,
   "id": "9440b5cd-507f-4355-be6d-fe1637de7d8c",
   "metadata": {},
   "outputs": [
    {
     "data": {
      "text/plain": [
       "177.01875"
      ]
     },
     "execution_count": 2,
     "metadata": {},
     "output_type": "execute_result"
    }
   ],
   "source": [
    "np.mean(height)"
   ]
  },
  {
   "cell_type": "code",
   "execution_count": 4,
   "id": "2ef21600-c627-4385-88b4-e1ae59c6353f",
   "metadata": {},
   "outputs": [
    {
     "data": {
      "text/plain": [
       "177.0"
      ]
     },
     "execution_count": 4,
     "metadata": {},
     "output_type": "execute_result"
    }
   ],
   "source": [
    "np.median(height)"
   ]
  },
  {
   "cell_type": "code",
   "execution_count": 5,
   "id": "3acd9c8d-3ee6-467c-a76e-abc244cbb9a9",
   "metadata": {},
   "outputs": [
    {
     "data": {
      "text/plain": [
       "1.7885814036548633"
      ]
     },
     "execution_count": 5,
     "metadata": {},
     "output_type": "execute_result"
    }
   ],
   "source": [
    "#question 4\n",
    "\n",
    "height = [178,177,176,177,178.2,178,175,179,180,175,178.9,176.2,177,172.5,178,176.5]\n",
    "np.std(height)"
   ]
  },
  {
   "cell_type": "code",
   "execution_count": null,
   "id": "56e27ece-61af-43b6-8ecd-aeca79b408f9",
   "metadata": {},
   "outputs": [],
   "source": [
    "#question 5\n",
    "\n",
    "#Range:\n",
    "\n",
    "#Calculation: Range is the simplest measure of dispersion and is calculated as the difference between the maximum and minimum values in a dataset.\n",
    "#Use: Range provides a quick and easy way to understand the spread of data. However, it is sensitive to outliers and may not accurately represent the variability if extreme values are present.\n",
    "#Example: Consider the following dataset: {10, 15, 12, 8, 20}. The range is 20 - 8 = 12\n",
    "\n",
    "\n",
    "#varience \n",
    "\n",
    "#Variance:\n",
    "\n",
    "#Calculation: Variance is the average of the squared differences between each data point and the mean. \n",
    "#Use: Variance provides a more precise measure of the spread than the range. However, since it involves squaring the differences, it is in squared units and may be harder to interpret directly.\n",
    "#Example: Using the dataset {10, 15, 12, 8, 20}, the variance\n"
   ]
  },
  {
   "cell_type": "code",
   "execution_count": null,
   "id": "914b0c2a-362d-4237-96ed-336863167735",
   "metadata": {},
   "outputs": [],
   "source": [
    "#question 6\n",
    "\n",
    "#A Venn diagram is a graphical representation that illustrates the relationships and commonalities between different sets or groups. It is composed of overlapping circles or other shapes, each representing a set, and the overlapping regions represent the elements shared between those sets. "
   ]
  },
  {
   "cell_type": "code",
   "execution_count": null,
   "id": "b9a904bb-f17c-4e3c-8347-8a0cac280b0f",
   "metadata": {},
   "outputs": [],
   "source": [
    "#question 7\n",
    "\n",
    "#(i) is 2,6\n",
    "#(ii) is 0,2,3,4,5,6,7,8,10"
   ]
  },
  {
   "cell_type": "code",
   "execution_count": null,
   "id": "70374eac-a8f4-4341-ab70-51e7e35a55d9",
   "metadata": {},
   "outputs": [],
   "source": [
    "#question 8\n",
    "\n",
    "#Skewness is a measure of the asymmetry or lack of symmetry in a dataset's distribution. In a perfectly symmetric distribution, the left and right sides of the distribution are mirror images of each other"
   ]
  },
  {
   "cell_type": "code",
   "execution_count": null,
   "id": "3a701954-da5c-45b6-bf67-6842679e2561",
   "metadata": {},
   "outputs": [],
   "source": [
    "#question 9\n",
    "\n",
    "#The mean will be greater than the median.The median will be closer to the left (smaller values) than the mean."
   ]
  },
  {
   "cell_type": "code",
   "execution_count": null,
   "id": "2c2def42-8ca0-410c-b74f-076226261c09",
   "metadata": {},
   "outputs": [],
   "source": [
    "#question 10\n",
    "\n",
    "#Covariance measures how two variables change together. It indicates the direction of the linear relationship between variables but does not provide information about the strength of the relationship.\n",
    "#orrelation is a standardized measure of the strength and direction of a linear relationship between two variables. It scales the covariance by the product of the standard deviations of the variables, resulting in a value between -1 and 1."
   ]
  },
  {
   "cell_type": "code",
   "execution_count": null,
   "id": "4454fff4-eabf-4102-a20e-698ec4deda5a",
   "metadata": {},
   "outputs": [],
   "source": [
    "#question 12\n",
    "\n",
    "#Mean (μ): The mean of a normal distribution is located at the center of the distribution. It is equal to the median, and both are positioned exactly at the peak of the symmetric bell-shaped curve.\n",
    "\n",
    "#Median: The median of a normal distribution is the middle value when the data is arranged in ascending order. Since the distribution is symmetric, the median coincides with the mean and is located at the center of the distribution.\n",
    "\n",
    "#Mode: The mode of a normal distribution is also at the center, and it is the same as the mean and median. In a normal distribution, every point in the distribution is a mode because the curve is symmetric and there is no single peak."
   ]
  },
  {
   "cell_type": "code",
   "execution_count": null,
   "id": "ea0da66e-4e65-4383-9dc6-171a1d6480d3",
   "metadata": {},
   "outputs": [],
   "source": [
    "#question 13\n",
    "\n",
    "#correlation is a more standardized and interpretable measure that provides additional information about the strength and direction of the relationship. Correlation is preferred in many cases because it is unitless and allows for easier comparison across different datasets."
   ]
  },
  {
   "cell_type": "code",
   "execution_count": null,
   "id": "ed9a2dc6-1731-47fb-9886-404d534b7488",
   "metadata": {},
   "outputs": [],
   "source": [
    "#question 14\n",
    "\n",
    "#outliers can distort measures of central tendency by pulling the mean in the direction of the extreme values. The median is more resistant to the influence of outliers. Outliers also affect measures of dispersion, increasing the range, variance, and standard deviation. It's important to be aware of the presence of outliers and, in some cases, consider robust measures that are less sensitive to extreme values, such as the median or interquartile range."
   ]
  }
 ],
 "metadata": {
  "kernelspec": {
   "display_name": "Python 3 (ipykernel)",
   "language": "python",
   "name": "python3"
  },
  "language_info": {
   "codemirror_mode": {
    "name": "ipython",
    "version": 3
   },
   "file_extension": ".py",
   "mimetype": "text/x-python",
   "name": "python",
   "nbconvert_exporter": "python",
   "pygments_lexer": "ipython3",
   "version": "3.10.8"
  }
 },
 "nbformat": 4,
 "nbformat_minor": 5
}
