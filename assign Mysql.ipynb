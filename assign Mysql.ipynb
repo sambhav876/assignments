{
 "cells": [
  {
   "cell_type": "code",
   "execution_count": null,
   "id": "dfb31e84-4475-408a-9b70-189684f9fc41",
   "metadata": {},
   "outputs": [],
   "source": [
    "# A database is a structured collection of data that is organised and stored electronically. Major difference between SQL and noSQL is that SQL is relational and noSQL is non relational"
   ]
  },
  {
   "cell_type": "code",
   "execution_count": null,
   "id": "28713a4c-a735-41b5-b91e-aabf77d60cef",
   "metadata": {},
   "outputs": [],
   "source": [
    "#ddl stands for data definition language in context of database. "
   ]
  },
  {
   "cell_type": "code",
   "execution_count": null,
   "id": "2b60234e-704b-49b0-a6d4-03a179a230bd",
   "metadata": {},
   "outputs": [],
   "source": [
    "#create\n",
    "\n",
    "CREATE TABLE Employees(\n",
    "    employee ID Int PRIMARY KEY,\n",
    "    FirstName VARCHAR(50),\n",
    "    LastName VARCHAR(50)\n",
    "    Salary DECIMAL(10,2)\n",
    "    \n",
    ");"
   ]
  },
  {
   "cell_type": "code",
   "execution_count": null,
   "id": "0e422fda-8332-4ac7-8852-b4976f5f620b",
   "metadata": {},
   "outputs": [],
   "source": [
    "DROP Table Employees\n",
    "\n",
    "Alter Table Employees\n",
    "ADD column Email VARCHAR(100);\n",
    "\n",
    "\n",
    "TRUNCATE TABLE Employees;"
   ]
  },
  {
   "cell_type": "code",
   "execution_count": null,
   "id": "46f9ea3e-b28e-4e2c-aebd-b65bcba5cda0",
   "metadata": {},
   "outputs": [],
   "source": [
    "# DML stands for data manipulation language in the context of databases"
   ]
  },
  {
   "cell_type": "code",
   "execution_count": null,
   "id": "42bf15f6-4e08-450e-9d94-e2b07efaeb4a",
   "metadata": {},
   "outputs": [],
   "source": [
    "INSERT INTO Employees (EmployeeID, Firstname, Lastname, Salary)\n",
    "Values (101, 'john', 'doe', 50000);\n",
    "\n",
    "\n",
    "UPDATE Employees\n",
    "SET Salary = 55000\n",
    "Where EmployeesID = 101;\n",
    "\n",
    "\n",
    "DELETE FROM Employees\n",
    "Where EmployeesID = 101;\n"
   ]
  },
  {
   "cell_type": "code",
   "execution_count": null,
   "id": "667c271b-a860-4927-b142-555c47ca26c2",
   "metadata": {},
   "outputs": [],
   "source": [
    "#DQL stands for data query language and it is a subset of SQL\n",
    "\n",
    "select\n",
    "\n",
    "SELECT EmployeeID, Firstname, Lastname, Salary\n",
    "From Employees\n",
    "WHERE Department = 'IT'\n",
    "ORDER BY Salary DESC;"
   ]
  },
  {
   "cell_type": "code",
   "execution_count": null,
   "id": "0f84bc99-8deb-4d8a-ba98-a4ef9cd86f12",
   "metadata": {},
   "outputs": [],
   "source": [
    "#primary key is unique identifier for record table and foreign key in the table is used to establish a link between data of two tables "
   ]
  },
  {
   "cell_type": "code",
   "execution_count": null,
   "id": "c6ea600c-ea50-4303-bff4-5f67c913d97d",
   "metadata": {
    "scrolled": true,
    "tags": []
   },
   "outputs": [],
   "source": [
    "#the order of execution "
   ]
  }
 ],
 "metadata": {
  "kernelspec": {
   "display_name": "Python 3 (ipykernel)",
   "language": "python",
   "name": "python3"
  },
  "language_info": {
   "codemirror_mode": {
    "name": "ipython",
    "version": 3
   },
   "file_extension": ".py",
   "mimetype": "text/x-python",
   "name": "python",
   "nbconvert_exporter": "python",
   "pygments_lexer": "ipython3",
   "version": "3.10.8"
  }
 },
 "nbformat": 4,
 "nbformat_minor": 5
}
