{
 "cells": [
  {
   "cell_type": "code",
   "execution_count": null,
   "id": "ba1f51bc-ea93-444a-b174-5f0bc9f1ecf9",
   "metadata": {},
   "outputs": [],
   "source": [
    "#question 1\n",
    "\n",
    "# Overfitting occurs when a model learns the training data too well, capturing noise and random fluctuations in the data rather than just the underlying patterns. As a result, the model performs well on the training data but poorly on new, unseen data\n",
    "#Underfitting occurs when a model is too simple and fails to capture the underlying patterns in the training data. As a result, the model performs poorly on both the training data and new, unseen data\n"
   ]
  },
  {
   "cell_type": "code",
   "execution_count": null,
   "id": "228bd404-e695-4f48-9eae-124b214ebf9f",
   "metadata": {},
   "outputs": [],
   "source": [
    "#question 2\n",
    "\n",
    "#Incorporate regularization techniques, such as L1 regularization (lasso) or L2 regularization (ridge), into your model. These techniques penalize large coefficients, discouraging overly complex models.\n",
    "#Use cross-validation techniques, like k-fold cross-validation, to assess the model's performance on different subsets of the training data. This helps ensure that the model's performance is consistent across various data splits.\n",
    "#Simplify complex models by reducing the number of layers, nodes, or features. Pruning techniques, such as pruning decision trees or removing unnecessary parameters, can help achieve a simpler, more generalized model.\n",
    "#Carefully select and engineer features to include only relevant information. Eliminating irrelevant or redundant features can help the model focus on the most meaningful patterns in the data.\n",
    "#Increase the size of the training dataset by creating augmented versions of existing data. Data augmentation introduces variations and diversity, helping the model generalize"
   ]
  },
  {
   "cell_type": "code",
   "execution_count": null,
   "id": "3a84bd6f-2cbb-4744-b3f4-7957f9726f20",
   "metadata": {},
   "outputs": [],
   "source": [
    "#question 2\n",
    "\n",
    "\n"
   ]
  }
 ],
 "metadata": {
  "kernelspec": {
   "display_name": "Python 3 (ipykernel)",
   "language": "python",
   "name": "python3"
  },
  "language_info": {
   "codemirror_mode": {
    "name": "ipython",
    "version": 3
   },
   "file_extension": ".py",
   "mimetype": "text/x-python",
   "name": "python",
   "nbconvert_exporter": "python",
   "pygments_lexer": "ipython3",
   "version": "3.10.8"
  }
 },
 "nbformat": 4,
 "nbformat_minor": 5
}
