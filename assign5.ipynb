{
 "cells": [
  {
   "cell_type": "code",
   "execution_count": 1,
   "id": "ed198f2c-5596-4431-b8ba-2a8a03cae458",
   "metadata": {},
   "outputs": [],
   "source": [
    "class vehicle :\n",
    "    \n",
    "    def _init_(self, name_of_vehicle, average_of_vehicle):\n",
    "        \n",
    "        self.name_of_vehicle = name_of_vehicle\n",
    "        self.average_of_vehicle = average_of_vehicle\n",
    "    "
   ]
  },
  {
   "cell_type": "code",
   "execution_count": 4,
   "id": "f16acce2-ce89-48a0-ae5e-0868a53ae42b",
   "metadata": {},
   "outputs": [
    {
     "ename": "TypeError",
     "evalue": "vehicle() takes no arguments",
     "output_type": "error",
     "traceback": [
      "\u001b[0;31m---------------------------------------------------------------------------\u001b[0m",
      "\u001b[0;31mTypeError\u001b[0m                                 Traceback (most recent call last)",
      "Cell \u001b[0;32mIn[4], line 1\u001b[0m\n\u001b[0;32m----> 1\u001b[0m v \u001b[38;5;241m=\u001b[39m \u001b[43mvehicle\u001b[49m\u001b[43m(\u001b[49m\u001b[38;5;124;43m\"\u001b[39;49m\u001b[38;5;124;43maudi\u001b[39;49m\u001b[38;5;124;43m\"\u001b[39;49m\u001b[43m,\u001b[49m\u001b[43m \u001b[49m\u001b[38;5;241;43m10\u001b[39;49m\u001b[43m)\u001b[49m\n",
      "\u001b[0;31mTypeError\u001b[0m: vehicle() takes no arguments"
     ]
    }
   ],
   "source": [
    "v = vehicle(\"audi\", 10)"
   ]
  },
  {
   "cell_type": "code",
   "execution_count": 7,
   "id": "b9e4fdb9-11b2-4fb8-a03b-9ac222720b22",
   "metadata": {},
   "outputs": [],
   "source": [
    "class car :\n",
    "    \n",
    "    def _init_(self, name_of_car, average_of_car, speed, capacity):\n",
    "        \n",
    "        self.name_of_car = name_of_vehicle\n",
    "        self.average_of_car = 10\n",
    "        self._speed = 0\n",
    "        self._capacity = 5\n",
    "        \n",
    "    def get_speed(self) :\n",
    "        return self._speed\n",
    "    "
   ]
  },
  {
   "cell_type": "code",
   "execution_count": 8,
   "id": "10c4c0a4-096b-4abe-aef1-c105e9569e6a",
   "metadata": {},
   "outputs": [
    {
     "ename": "TypeError",
     "evalue": "car() takes no arguments",
     "output_type": "error",
     "traceback": [
      "\u001b[0;31m---------------------------------------------------------------------------\u001b[0m",
      "\u001b[0;31mTypeError\u001b[0m                                 Traceback (most recent call last)",
      "Cell \u001b[0;32mIn[8], line 1\u001b[0m\n\u001b[0;32m----> 1\u001b[0m c \u001b[38;5;241m=\u001b[39m \u001b[43mcar\u001b[49m\u001b[43m(\u001b[49m\u001b[38;5;124;43m\"\u001b[39;49m\u001b[38;5;124;43maudi\u001b[39;49m\u001b[38;5;124;43m\"\u001b[39;49m\u001b[43m,\u001b[49m\u001b[43m \u001b[49m\u001b[38;5;241;43m10\u001b[39;49m\u001b[43m,\u001b[49m\u001b[43m \u001b[49m\u001b[38;5;241;43m0\u001b[39;49m\u001b[43m,\u001b[49m\u001b[43m \u001b[49m\u001b[38;5;241;43m5\u001b[39;49m\u001b[43m)\u001b[49m\n",
      "\u001b[0;31mTypeError\u001b[0m: car() takes no arguments"
     ]
    }
   ],
   "source": [
    "c = car(\"audi\", 10, 0, 5)"
   ]
  },
  {
   "cell_type": "code",
   "execution_count": 9,
   "id": "bb8ce198-0f1e-435e-843f-e69fc38b5466",
   "metadata": {},
   "outputs": [],
   "source": [
    "class class1 :\n",
    "    \n",
    "    def test_class(self):\n",
    "        return \"this topic is covered in class1\""
   ]
  },
  {
   "cell_type": "code",
   "execution_count": 12,
   "id": "776012cd-e0b4-420d-aa94-365b8d335abc",
   "metadata": {},
   "outputs": [],
   "source": [
    "class class2(class1) :\n",
    "    \n",
    "    def test_class2(self):\n",
    "         return \"this topic is covered in class2\"\n"
   ]
  },
  {
   "cell_type": "code",
   "execution_count": 13,
   "id": "9dea378f-5431-4462-b5ef-8bd83240a999",
   "metadata": {},
   "outputs": [],
   "source": [
    "class class3(class2):\n",
    "    pass"
   ]
  },
  {
   "cell_type": "code",
   "execution_count": 14,
   "id": "3fa1cd6d-e3a8-474b-ac44-ac96519612cc",
   "metadata": {},
   "outputs": [],
   "source": [
    "obj_class3 = class3()"
   ]
  },
  {
   "cell_type": "code",
   "execution_count": 15,
   "id": "9e5ec95f-7bca-49a5-a499-753330322e10",
   "metadata": {},
   "outputs": [
    {
     "ename": "AttributeError",
     "evalue": "'class3' object has no attribute 'test_class1'",
     "output_type": "error",
     "traceback": [
      "\u001b[0;31m---------------------------------------------------------------------------\u001b[0m",
      "\u001b[0;31mAttributeError\u001b[0m                            Traceback (most recent call last)",
      "Cell \u001b[0;32mIn[15], line 1\u001b[0m\n\u001b[0;32m----> 1\u001b[0m \u001b[43mobj_class3\u001b[49m\u001b[38;5;241;43m.\u001b[39;49m\u001b[43mtest_class1\u001b[49m()\n",
      "\u001b[0;31mAttributeError\u001b[0m: 'class3' object has no attribute 'test_class1'"
     ]
    }
   ],
   "source": [
    "obj_class3.test_class1()"
   ]
  },
  {
   "cell_type": "code",
   "execution_count": 19,
   "id": "05efb4a3-d765-4956-9039-3b3c48254056",
   "metadata": {},
   "outputs": [],
   "source": [
    "class batch1 :\n",
    "    \n",
    "    def _init_( self, name, price):\n",
    "        \n",
    "        self._name = name\n",
    "        self._price = price\n",
    "         \n",
    "    @property\n",
    "    def _price_access(self):\n",
    "        return self._price\n",
    "    "
   ]
  },
  {
   "cell_type": "code",
   "execution_count": 20,
   "id": "b709d044-1e1a-4731-b384-83d589f9a0f5",
   "metadata": {},
   "outputs": [
    {
     "ename": "TypeError",
     "evalue": "batch1() takes no arguments",
     "output_type": "error",
     "traceback": [
      "\u001b[0;31m---------------------------------------------------------------------------\u001b[0m",
      "\u001b[0;31mTypeError\u001b[0m                                 Traceback (most recent call last)",
      "Cell \u001b[0;32mIn[20], line 1\u001b[0m\n\u001b[0;32m----> 1\u001b[0m b \u001b[38;5;241m=\u001b[39m \u001b[43mbatch1\u001b[49m\u001b[43m(\u001b[49m\u001b[38;5;124;43m\"\u001b[39;49m\u001b[38;5;124;43mds\u001b[39;49m\u001b[38;5;124;43m\"\u001b[39;49m\u001b[43m,\u001b[49m\u001b[43m \u001b[49m\u001b[38;5;241;43m2000\u001b[39;49m\u001b[43m)\u001b[49m\n",
      "\u001b[0;31mTypeError\u001b[0m: batch1() takes no arguments"
     ]
    }
   ],
   "source": [
    "b = batch1(\"ds\", 2000)"
   ]
  },
  {
   "cell_type": "code",
   "execution_count": null,
   "id": "7995e7e4-c898-4b0d-9f35-43f5b44f9d8d",
   "metadata": {},
   "outputs": [],
   "source": []
  }
 ],
 "metadata": {
  "kernelspec": {
   "display_name": "Python 3 (ipykernel)",
   "language": "python",
   "name": "python3"
  },
  "language_info": {
   "codemirror_mode": {
    "name": "ipython",
    "version": 3
   },
   "file_extension": ".py",
   "mimetype": "text/x-python",
   "name": "python",
   "nbconvert_exporter": "python",
   "pygments_lexer": "ipython3",
   "version": "3.10.8"
  }
 },
 "nbformat": 4,
 "nbformat_minor": 5
}
